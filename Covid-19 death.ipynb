{
 "cells": [
  {
   "cell_type": "markdown",
   "metadata": {},
   "source": [
    "# Import data"
   ]
  },
  {
   "cell_type": "code",
   "execution_count": 126,
   "metadata": {},
   "outputs": [],
   "source": [
    "import pandas as pd\n",
    "import numpy as np\n",
    "import plotly.express as px\n",
    "import plotly.graph_objects as go\n",
    "from scipy.optimize import curve_fit\n",
    "\n",
    "\n",
    "\n",
    "url=\"https://raw.githubusercontent.com/CSSEGISandData/COVID-19/master/csse_covid_19_data/csse_covid_19_time_series/time_series_covid19_deaths_global.csv\"\n",
    "data=pd.read_csv(url)\n",
    "data_format=data.groupby('Country/Region', as_index=False).sum().drop(['Lat','Long'],axis=1)\n",
    "#columns={i:data_format[i][0] for i in range(np.shape(data_format)[1])}\n",
    "#data_format=data_format.rename(columns=columns)\n",
    "\n",
    "world_data=pd.read_csv('world_data.csv',sep=';',thousands=',', decimal='.')\n"
   ]
  },
  {
   "cell_type": "markdown",
   "metadata": {},
   "source": [
    "# cummulated number of deaths"
   ]
  },
  {
   "cell_type": "markdown",
   "metadata": {},
   "source": [
    "## Raw data plot curves"
   ]
  },
  {
   "cell_type": "code",
   "execution_count": 124,
   "metadata": {},
   "outputs": [
    {
     "data": {
      "application/vnd.plotly.v1+json": {
       "config": {
        "plotlyServerURL": "https://plot.ly"
       },
       "data": [
        {
         "mode": "lines",
         "name": "China",
         "type": "scatter",
         "x": [
          -1,
          0,
          1,
          2,
          3,
          4,
          5,
          6,
          7,
          8,
          9,
          10,
          11,
          12,
          13,
          14,
          15,
          16,
          17,
          18,
          19,
          20,
          21,
          22,
          23,
          24,
          25,
          26,
          27,
          28,
          29,
          30,
          31,
          32,
          33,
          34,
          35,
          36,
          37,
          38,
          39,
          40,
          41,
          42,
          43,
          44,
          45,
          46,
          47,
          48,
          49,
          50,
          51,
          52,
          53,
          54,
          55,
          56,
          57,
          58,
          59,
          60,
          61,
          62,
          63,
          64,
          65,
          66,
          67,
          68,
          69
         ],
         "y": [
          0,
          17,
          18,
          26,
          42,
          56,
          82,
          131,
          133,
          171,
          213,
          259,
          361,
          425,
          491,
          563,
          633,
          718,
          805,
          905,
          1012,
          1112,
          1117,
          1369,
          1521,
          1663,
          1766,
          1864,
          2003,
          2116,
          2238,
          2238,
          2443,
          2445,
          2595,
          2665,
          2717,
          2746,
          2790,
          2837,
          2872,
          2914,
          2947,
          2983,
          3015,
          3044,
          3072,
          3100,
          3123,
          3139,
          3161,
          3172,
          3180,
          3193,
          3203,
          3217,
          3230,
          3241,
          3249,
          3253,
          3259,
          3274,
          3274,
          3281,
          3285,
          3291,
          3296,
          3299,
          3304,
          3308,
          3309
         ]
        },
        {
         "mode": "lines",
         "name": "France",
         "type": "scatter",
         "x": [
          -1,
          0,
          1,
          2,
          3,
          4,
          5,
          6,
          7,
          8,
          9,
          10,
          11,
          12,
          13,
          14,
          15,
          16,
          17,
          18,
          19,
          20,
          21,
          22,
          23,
          24,
          25,
          26,
          27,
          28,
          29,
          30,
          31,
          32,
          33,
          34
         ],
         "y": [
          0,
          2,
          2,
          2,
          2,
          2,
          3,
          4,
          4,
          6,
          9,
          11,
          19,
          19,
          33,
          48,
          48,
          79,
          91,
          91,
          149,
          149,
          149,
          244,
          451,
          563,
          676,
          862,
          1102,
          1333,
          1698,
          1997,
          2317,
          2611,
          3030,
          3532
         ]
        },
        {
         "mode": "lines",
         "name": "Iran",
         "type": "scatter",
         "x": [
          -1,
          0,
          1,
          2,
          3,
          4,
          5,
          6,
          7,
          8,
          9,
          10,
          11,
          12,
          13,
          14,
          15,
          16,
          17,
          18,
          19,
          20,
          21,
          22,
          23,
          24,
          25,
          26,
          27,
          28,
          29,
          30,
          31,
          32,
          33,
          34,
          35,
          36,
          37,
          38,
          39,
          40,
          41
         ],
         "y": [
          0,
          2,
          2,
          4,
          5,
          8,
          12,
          16,
          19,
          26,
          34,
          43,
          54,
          66,
          77,
          92,
          107,
          124,
          145,
          194,
          237,
          291,
          354,
          429,
          514,
          611,
          724,
          853,
          988,
          1135,
          1284,
          1433,
          1556,
          1685,
          1812,
          1934,
          2077,
          2234,
          2378,
          2517,
          2640,
          2757,
          2898
         ]
        },
        {
         "mode": "lines",
         "name": "Italy",
         "type": "scatter",
         "x": [
          -1,
          0,
          1,
          2,
          3,
          4,
          5,
          6,
          7,
          8,
          9,
          10,
          11,
          12,
          13,
          14,
          15,
          16,
          17,
          18,
          19,
          20,
          21,
          22,
          23,
          24,
          25,
          26,
          27,
          28,
          29,
          30,
          31,
          32,
          33,
          34,
          35,
          36,
          37,
          38
         ],
         "y": [
          0,
          2,
          3,
          7,
          10,
          12,
          17,
          21,
          29,
          34,
          52,
          79,
          107,
          148,
          197,
          233,
          366,
          463,
          631,
          827,
          827,
          1266,
          1441,
          1809,
          2158,
          2503,
          2978,
          3405,
          4032,
          4825,
          5476,
          6077,
          6820,
          7503,
          8215,
          9134,
          10023,
          10779,
          11591,
          12428
         ]
        },
        {
         "mode": "lines",
         "name": "Netherlands",
         "type": "scatter",
         "x": [
          -1,
          0,
          1,
          2,
          3,
          4,
          5,
          6,
          7,
          8,
          9,
          10,
          11,
          12,
          13,
          14,
          15,
          16,
          17,
          18,
          19,
          20,
          21,
          22,
          23
         ],
         "y": [
          0,
          3,
          3,
          4,
          5,
          5,
          10,
          12,
          20,
          24,
          43,
          58,
          77,
          107,
          137,
          180,
          214,
          277,
          357,
          435,
          547,
          640,
          772,
          865,
          1040
         ]
        },
        {
         "mode": "lines",
         "name": "Spain",
         "type": "scatter",
         "x": [
          -1,
          0,
          1,
          2,
          3,
          4,
          5,
          6,
          7,
          8,
          9,
          10,
          11,
          12,
          13,
          14,
          15,
          16,
          17,
          18,
          19,
          20,
          21,
          22,
          23,
          24,
          25,
          26,
          27
         ],
         "y": [
          0,
          2,
          3,
          5,
          10,
          17,
          28,
          35,
          54,
          55,
          133,
          195,
          289,
          342,
          533,
          623,
          830,
          1043,
          1375,
          1772,
          2311,
          2808,
          3647,
          4365,
          5138,
          5982,
          6803,
          7716,
          8464
         ]
        },
        {
         "mode": "lines",
         "name": "US",
         "type": "scatter",
         "x": [
          -1,
          0,
          1,
          2,
          3,
          4,
          5,
          6,
          7,
          8,
          9,
          10,
          11,
          12,
          13,
          14,
          15,
          16,
          17,
          18,
          19,
          20,
          21,
          22,
          23,
          24,
          25,
          26,
          27,
          28,
          29
         ],
         "y": [
          0,
          6,
          7,
          11,
          12,
          14,
          17,
          21,
          22,
          28,
          36,
          40,
          47,
          54,
          63,
          85,
          108,
          118,
          200,
          244,
          307,
          417,
          557,
          706,
          942,
          1209,
          1581,
          2026,
          2467,
          2978,
          3873
         ]
        },
        {
         "mode": "lines",
         "name": "United Kingdom",
         "type": "scatter",
         "x": [
          -1,
          0,
          1,
          2,
          3,
          4,
          5,
          6,
          7,
          8,
          9,
          10,
          11,
          12,
          13,
          14,
          15,
          16,
          17,
          18,
          19,
          20,
          21,
          22,
          23,
          24,
          25
         ],
         "y": [
          0,
          2,
          2,
          3,
          4,
          6,
          8,
          8,
          8,
          21,
          21,
          56,
          56,
          72,
          138,
          178,
          234,
          282,
          336,
          423,
          466,
          580,
          761,
          1021,
          1231,
          1411,
          1793
         ]
        }
       ],
       "layout": {
        "template": {
         "data": {
          "bar": [
           {
            "error_x": {
             "color": "#2a3f5f"
            },
            "error_y": {
             "color": "#2a3f5f"
            },
            "marker": {
             "line": {
              "color": "#E5ECF6",
              "width": 0.5
             }
            },
            "type": "bar"
           }
          ],
          "barpolar": [
           {
            "marker": {
             "line": {
              "color": "#E5ECF6",
              "width": 0.5
             }
            },
            "type": "barpolar"
           }
          ],
          "carpet": [
           {
            "aaxis": {
             "endlinecolor": "#2a3f5f",
             "gridcolor": "white",
             "linecolor": "white",
             "minorgridcolor": "white",
             "startlinecolor": "#2a3f5f"
            },
            "baxis": {
             "endlinecolor": "#2a3f5f",
             "gridcolor": "white",
             "linecolor": "white",
             "minorgridcolor": "white",
             "startlinecolor": "#2a3f5f"
            },
            "type": "carpet"
           }
          ],
          "choropleth": [
           {
            "colorbar": {
             "outlinewidth": 0,
             "ticks": ""
            },
            "type": "choropleth"
           }
          ],
          "contour": [
           {
            "colorbar": {
             "outlinewidth": 0,
             "ticks": ""
            },
            "colorscale": [
             [
              0,
              "#0d0887"
             ],
             [
              0.1111111111111111,
              "#46039f"
             ],
             [
              0.2222222222222222,
              "#7201a8"
             ],
             [
              0.3333333333333333,
              "#9c179e"
             ],
             [
              0.4444444444444444,
              "#bd3786"
             ],
             [
              0.5555555555555556,
              "#d8576b"
             ],
             [
              0.6666666666666666,
              "#ed7953"
             ],
             [
              0.7777777777777778,
              "#fb9f3a"
             ],
             [
              0.8888888888888888,
              "#fdca26"
             ],
             [
              1,
              "#f0f921"
             ]
            ],
            "type": "contour"
           }
          ],
          "contourcarpet": [
           {
            "colorbar": {
             "outlinewidth": 0,
             "ticks": ""
            },
            "type": "contourcarpet"
           }
          ],
          "heatmap": [
           {
            "colorbar": {
             "outlinewidth": 0,
             "ticks": ""
            },
            "colorscale": [
             [
              0,
              "#0d0887"
             ],
             [
              0.1111111111111111,
              "#46039f"
             ],
             [
              0.2222222222222222,
              "#7201a8"
             ],
             [
              0.3333333333333333,
              "#9c179e"
             ],
             [
              0.4444444444444444,
              "#bd3786"
             ],
             [
              0.5555555555555556,
              "#d8576b"
             ],
             [
              0.6666666666666666,
              "#ed7953"
             ],
             [
              0.7777777777777778,
              "#fb9f3a"
             ],
             [
              0.8888888888888888,
              "#fdca26"
             ],
             [
              1,
              "#f0f921"
             ]
            ],
            "type": "heatmap"
           }
          ],
          "heatmapgl": [
           {
            "colorbar": {
             "outlinewidth": 0,
             "ticks": ""
            },
            "colorscale": [
             [
              0,
              "#0d0887"
             ],
             [
              0.1111111111111111,
              "#46039f"
             ],
             [
              0.2222222222222222,
              "#7201a8"
             ],
             [
              0.3333333333333333,
              "#9c179e"
             ],
             [
              0.4444444444444444,
              "#bd3786"
             ],
             [
              0.5555555555555556,
              "#d8576b"
             ],
             [
              0.6666666666666666,
              "#ed7953"
             ],
             [
              0.7777777777777778,
              "#fb9f3a"
             ],
             [
              0.8888888888888888,
              "#fdca26"
             ],
             [
              1,
              "#f0f921"
             ]
            ],
            "type": "heatmapgl"
           }
          ],
          "histogram": [
           {
            "marker": {
             "colorbar": {
              "outlinewidth": 0,
              "ticks": ""
             }
            },
            "type": "histogram"
           }
          ],
          "histogram2d": [
           {
            "colorbar": {
             "outlinewidth": 0,
             "ticks": ""
            },
            "colorscale": [
             [
              0,
              "#0d0887"
             ],
             [
              0.1111111111111111,
              "#46039f"
             ],
             [
              0.2222222222222222,
              "#7201a8"
             ],
             [
              0.3333333333333333,
              "#9c179e"
             ],
             [
              0.4444444444444444,
              "#bd3786"
             ],
             [
              0.5555555555555556,
              "#d8576b"
             ],
             [
              0.6666666666666666,
              "#ed7953"
             ],
             [
              0.7777777777777778,
              "#fb9f3a"
             ],
             [
              0.8888888888888888,
              "#fdca26"
             ],
             [
              1,
              "#f0f921"
             ]
            ],
            "type": "histogram2d"
           }
          ],
          "histogram2dcontour": [
           {
            "colorbar": {
             "outlinewidth": 0,
             "ticks": ""
            },
            "colorscale": [
             [
              0,
              "#0d0887"
             ],
             [
              0.1111111111111111,
              "#46039f"
             ],
             [
              0.2222222222222222,
              "#7201a8"
             ],
             [
              0.3333333333333333,
              "#9c179e"
             ],
             [
              0.4444444444444444,
              "#bd3786"
             ],
             [
              0.5555555555555556,
              "#d8576b"
             ],
             [
              0.6666666666666666,
              "#ed7953"
             ],
             [
              0.7777777777777778,
              "#fb9f3a"
             ],
             [
              0.8888888888888888,
              "#fdca26"
             ],
             [
              1,
              "#f0f921"
             ]
            ],
            "type": "histogram2dcontour"
           }
          ],
          "mesh3d": [
           {
            "colorbar": {
             "outlinewidth": 0,
             "ticks": ""
            },
            "type": "mesh3d"
           }
          ],
          "parcoords": [
           {
            "line": {
             "colorbar": {
              "outlinewidth": 0,
              "ticks": ""
             }
            },
            "type": "parcoords"
           }
          ],
          "pie": [
           {
            "automargin": true,
            "type": "pie"
           }
          ],
          "scatter": [
           {
            "marker": {
             "colorbar": {
              "outlinewidth": 0,
              "ticks": ""
             }
            },
            "type": "scatter"
           }
          ],
          "scatter3d": [
           {
            "line": {
             "colorbar": {
              "outlinewidth": 0,
              "ticks": ""
             }
            },
            "marker": {
             "colorbar": {
              "outlinewidth": 0,
              "ticks": ""
             }
            },
            "type": "scatter3d"
           }
          ],
          "scattercarpet": [
           {
            "marker": {
             "colorbar": {
              "outlinewidth": 0,
              "ticks": ""
             }
            },
            "type": "scattercarpet"
           }
          ],
          "scattergeo": [
           {
            "marker": {
             "colorbar": {
              "outlinewidth": 0,
              "ticks": ""
             }
            },
            "type": "scattergeo"
           }
          ],
          "scattergl": [
           {
            "marker": {
             "colorbar": {
              "outlinewidth": 0,
              "ticks": ""
             }
            },
            "type": "scattergl"
           }
          ],
          "scattermapbox": [
           {
            "marker": {
             "colorbar": {
              "outlinewidth": 0,
              "ticks": ""
             }
            },
            "type": "scattermapbox"
           }
          ],
          "scatterpolar": [
           {
            "marker": {
             "colorbar": {
              "outlinewidth": 0,
              "ticks": ""
             }
            },
            "type": "scatterpolar"
           }
          ],
          "scatterpolargl": [
           {
            "marker": {
             "colorbar": {
              "outlinewidth": 0,
              "ticks": ""
             }
            },
            "type": "scatterpolargl"
           }
          ],
          "scatterternary": [
           {
            "marker": {
             "colorbar": {
              "outlinewidth": 0,
              "ticks": ""
             }
            },
            "type": "scatterternary"
           }
          ],
          "surface": [
           {
            "colorbar": {
             "outlinewidth": 0,
             "ticks": ""
            },
            "colorscale": [
             [
              0,
              "#0d0887"
             ],
             [
              0.1111111111111111,
              "#46039f"
             ],
             [
              0.2222222222222222,
              "#7201a8"
             ],
             [
              0.3333333333333333,
              "#9c179e"
             ],
             [
              0.4444444444444444,
              "#bd3786"
             ],
             [
              0.5555555555555556,
              "#d8576b"
             ],
             [
              0.6666666666666666,
              "#ed7953"
             ],
             [
              0.7777777777777778,
              "#fb9f3a"
             ],
             [
              0.8888888888888888,
              "#fdca26"
             ],
             [
              1,
              "#f0f921"
             ]
            ],
            "type": "surface"
           }
          ],
          "table": [
           {
            "cells": {
             "fill": {
              "color": "#EBF0F8"
             },
             "line": {
              "color": "white"
             }
            },
            "header": {
             "fill": {
              "color": "#C8D4E3"
             },
             "line": {
              "color": "white"
             }
            },
            "type": "table"
           }
          ]
         },
         "layout": {
          "annotationdefaults": {
           "arrowcolor": "#2a3f5f",
           "arrowhead": 0,
           "arrowwidth": 1
          },
          "coloraxis": {
           "colorbar": {
            "outlinewidth": 0,
            "ticks": ""
           }
          },
          "colorscale": {
           "diverging": [
            [
             0,
             "#8e0152"
            ],
            [
             0.1,
             "#c51b7d"
            ],
            [
             0.2,
             "#de77ae"
            ],
            [
             0.3,
             "#f1b6da"
            ],
            [
             0.4,
             "#fde0ef"
            ],
            [
             0.5,
             "#f7f7f7"
            ],
            [
             0.6,
             "#e6f5d0"
            ],
            [
             0.7,
             "#b8e186"
            ],
            [
             0.8,
             "#7fbc41"
            ],
            [
             0.9,
             "#4d9221"
            ],
            [
             1,
             "#276419"
            ]
           ],
           "sequential": [
            [
             0,
             "#0d0887"
            ],
            [
             0.1111111111111111,
             "#46039f"
            ],
            [
             0.2222222222222222,
             "#7201a8"
            ],
            [
             0.3333333333333333,
             "#9c179e"
            ],
            [
             0.4444444444444444,
             "#bd3786"
            ],
            [
             0.5555555555555556,
             "#d8576b"
            ],
            [
             0.6666666666666666,
             "#ed7953"
            ],
            [
             0.7777777777777778,
             "#fb9f3a"
            ],
            [
             0.8888888888888888,
             "#fdca26"
            ],
            [
             1,
             "#f0f921"
            ]
           ],
           "sequentialminus": [
            [
             0,
             "#0d0887"
            ],
            [
             0.1111111111111111,
             "#46039f"
            ],
            [
             0.2222222222222222,
             "#7201a8"
            ],
            [
             0.3333333333333333,
             "#9c179e"
            ],
            [
             0.4444444444444444,
             "#bd3786"
            ],
            [
             0.5555555555555556,
             "#d8576b"
            ],
            [
             0.6666666666666666,
             "#ed7953"
            ],
            [
             0.7777777777777778,
             "#fb9f3a"
            ],
            [
             0.8888888888888888,
             "#fdca26"
            ],
            [
             1,
             "#f0f921"
            ]
           ]
          },
          "colorway": [
           "#636efa",
           "#EF553B",
           "#00cc96",
           "#ab63fa",
           "#FFA15A",
           "#19d3f3",
           "#FF6692",
           "#B6E880",
           "#FF97FF",
           "#FECB52"
          ],
          "font": {
           "color": "#2a3f5f"
          },
          "geo": {
           "bgcolor": "white",
           "lakecolor": "white",
           "landcolor": "#E5ECF6",
           "showlakes": true,
           "showland": true,
           "subunitcolor": "white"
          },
          "hoverlabel": {
           "align": "left"
          },
          "hovermode": "closest",
          "mapbox": {
           "style": "light"
          },
          "paper_bgcolor": "white",
          "plot_bgcolor": "#E5ECF6",
          "polar": {
           "angularaxis": {
            "gridcolor": "white",
            "linecolor": "white",
            "ticks": ""
           },
           "bgcolor": "#E5ECF6",
           "radialaxis": {
            "gridcolor": "white",
            "linecolor": "white",
            "ticks": ""
           }
          },
          "scene": {
           "xaxis": {
            "backgroundcolor": "#E5ECF6",
            "gridcolor": "white",
            "gridwidth": 2,
            "linecolor": "white",
            "showbackground": true,
            "ticks": "",
            "zerolinecolor": "white"
           },
           "yaxis": {
            "backgroundcolor": "#E5ECF6",
            "gridcolor": "white",
            "gridwidth": 2,
            "linecolor": "white",
            "showbackground": true,
            "ticks": "",
            "zerolinecolor": "white"
           },
           "zaxis": {
            "backgroundcolor": "#E5ECF6",
            "gridcolor": "white",
            "gridwidth": 2,
            "linecolor": "white",
            "showbackground": true,
            "ticks": "",
            "zerolinecolor": "white"
           }
          },
          "shapedefaults": {
           "line": {
            "color": "#2a3f5f"
           }
          },
          "ternary": {
           "aaxis": {
            "gridcolor": "white",
            "linecolor": "white",
            "ticks": ""
           },
           "baxis": {
            "gridcolor": "white",
            "linecolor": "white",
            "ticks": ""
           },
           "bgcolor": "#E5ECF6",
           "caxis": {
            "gridcolor": "white",
            "linecolor": "white",
            "ticks": ""
           }
          },
          "title": {
           "x": 0.05
          },
          "xaxis": {
           "automargin": true,
           "gridcolor": "white",
           "linecolor": "white",
           "ticks": "",
           "title": {
            "standoff": 15
           },
           "zerolinecolor": "white",
           "zerolinewidth": 2
          },
          "yaxis": {
           "automargin": true,
           "gridcolor": "white",
           "linecolor": "white",
           "ticks": "",
           "title": {
            "standoff": 15
           },
           "zerolinecolor": "white",
           "zerolinewidth": 2
          }
         }
        },
        "title": {
         "text": "Total number of deaths per country"
        },
        "xaxis": {
         "title": {
          "text": "Days after the first reported death"
         }
        },
        "yaxis": {
         "title": {
          "text": "Number of deaths"
         }
        }
       }
      },
      "text/html": [
       "<div>\n",
       "        \n",
       "        \n",
       "            <div id=\"91ee447a-3ea0-4d11-aebf-56a48f680a7a\" class=\"plotly-graph-div\" style=\"height:525px; width:100%;\"></div>\n",
       "            <script type=\"text/javascript\">\n",
       "                require([\"plotly\"], function(Plotly) {\n",
       "                    window.PLOTLYENV=window.PLOTLYENV || {};\n",
       "                    \n",
       "                if (document.getElementById(\"91ee447a-3ea0-4d11-aebf-56a48f680a7a\")) {\n",
       "                    Plotly.newPlot(\n",
       "                        '91ee447a-3ea0-4d11-aebf-56a48f680a7a',\n",
       "                        [{\"mode\": \"lines\", \"name\": \"China\", \"type\": \"scatter\", \"x\": [-1, 0, 1, 2, 3, 4, 5, 6, 7, 8, 9, 10, 11, 12, 13, 14, 15, 16, 17, 18, 19, 20, 21, 22, 23, 24, 25, 26, 27, 28, 29, 30, 31, 32, 33, 34, 35, 36, 37, 38, 39, 40, 41, 42, 43, 44, 45, 46, 47, 48, 49, 50, 51, 52, 53, 54, 55, 56, 57, 58, 59, 60, 61, 62, 63, 64, 65, 66, 67, 68, 69], \"y\": [0, 17, 18, 26, 42, 56, 82, 131, 133, 171, 213, 259, 361, 425, 491, 563, 633, 718, 805, 905, 1012, 1112, 1117, 1369, 1521, 1663, 1766, 1864, 2003, 2116, 2238, 2238, 2443, 2445, 2595, 2665, 2717, 2746, 2790, 2837, 2872, 2914, 2947, 2983, 3015, 3044, 3072, 3100, 3123, 3139, 3161, 3172, 3180, 3193, 3203, 3217, 3230, 3241, 3249, 3253, 3259, 3274, 3274, 3281, 3285, 3291, 3296, 3299, 3304, 3308, 3309]}, {\"mode\": \"lines\", \"name\": \"France\", \"type\": \"scatter\", \"x\": [-1, 0, 1, 2, 3, 4, 5, 6, 7, 8, 9, 10, 11, 12, 13, 14, 15, 16, 17, 18, 19, 20, 21, 22, 23, 24, 25, 26, 27, 28, 29, 30, 31, 32, 33, 34], \"y\": [0, 2, 2, 2, 2, 2, 3, 4, 4, 6, 9, 11, 19, 19, 33, 48, 48, 79, 91, 91, 149, 149, 149, 244, 451, 563, 676, 862, 1102, 1333, 1698, 1997, 2317, 2611, 3030, 3532]}, {\"mode\": \"lines\", \"name\": \"Iran\", \"type\": \"scatter\", \"x\": [-1, 0, 1, 2, 3, 4, 5, 6, 7, 8, 9, 10, 11, 12, 13, 14, 15, 16, 17, 18, 19, 20, 21, 22, 23, 24, 25, 26, 27, 28, 29, 30, 31, 32, 33, 34, 35, 36, 37, 38, 39, 40, 41], \"y\": [0, 2, 2, 4, 5, 8, 12, 16, 19, 26, 34, 43, 54, 66, 77, 92, 107, 124, 145, 194, 237, 291, 354, 429, 514, 611, 724, 853, 988, 1135, 1284, 1433, 1556, 1685, 1812, 1934, 2077, 2234, 2378, 2517, 2640, 2757, 2898]}, {\"mode\": \"lines\", \"name\": \"Italy\", \"type\": \"scatter\", \"x\": [-1, 0, 1, 2, 3, 4, 5, 6, 7, 8, 9, 10, 11, 12, 13, 14, 15, 16, 17, 18, 19, 20, 21, 22, 23, 24, 25, 26, 27, 28, 29, 30, 31, 32, 33, 34, 35, 36, 37, 38], \"y\": [0, 2, 3, 7, 10, 12, 17, 21, 29, 34, 52, 79, 107, 148, 197, 233, 366, 463, 631, 827, 827, 1266, 1441, 1809, 2158, 2503, 2978, 3405, 4032, 4825, 5476, 6077, 6820, 7503, 8215, 9134, 10023, 10779, 11591, 12428]}, {\"mode\": \"lines\", \"name\": \"Netherlands\", \"type\": \"scatter\", \"x\": [-1, 0, 1, 2, 3, 4, 5, 6, 7, 8, 9, 10, 11, 12, 13, 14, 15, 16, 17, 18, 19, 20, 21, 22, 23], \"y\": [0, 3, 3, 4, 5, 5, 10, 12, 20, 24, 43, 58, 77, 107, 137, 180, 214, 277, 357, 435, 547, 640, 772, 865, 1040]}, {\"mode\": \"lines\", \"name\": \"Spain\", \"type\": \"scatter\", \"x\": [-1, 0, 1, 2, 3, 4, 5, 6, 7, 8, 9, 10, 11, 12, 13, 14, 15, 16, 17, 18, 19, 20, 21, 22, 23, 24, 25, 26, 27], \"y\": [0, 2, 3, 5, 10, 17, 28, 35, 54, 55, 133, 195, 289, 342, 533, 623, 830, 1043, 1375, 1772, 2311, 2808, 3647, 4365, 5138, 5982, 6803, 7716, 8464]}, {\"mode\": \"lines\", \"name\": \"US\", \"type\": \"scatter\", \"x\": [-1, 0, 1, 2, 3, 4, 5, 6, 7, 8, 9, 10, 11, 12, 13, 14, 15, 16, 17, 18, 19, 20, 21, 22, 23, 24, 25, 26, 27, 28, 29], \"y\": [0, 6, 7, 11, 12, 14, 17, 21, 22, 28, 36, 40, 47, 54, 63, 85, 108, 118, 200, 244, 307, 417, 557, 706, 942, 1209, 1581, 2026, 2467, 2978, 3873]}, {\"mode\": \"lines\", \"name\": \"United Kingdom\", \"type\": \"scatter\", \"x\": [-1, 0, 1, 2, 3, 4, 5, 6, 7, 8, 9, 10, 11, 12, 13, 14, 15, 16, 17, 18, 19, 20, 21, 22, 23, 24, 25], \"y\": [0, 2, 2, 3, 4, 6, 8, 8, 8, 21, 21, 56, 56, 72, 138, 178, 234, 282, 336, 423, 466, 580, 761, 1021, 1231, 1411, 1793]}],\n",
       "                        {\"template\": {\"data\": {\"bar\": [{\"error_x\": {\"color\": \"#2a3f5f\"}, \"error_y\": {\"color\": \"#2a3f5f\"}, \"marker\": {\"line\": {\"color\": \"#E5ECF6\", \"width\": 0.5}}, \"type\": \"bar\"}], \"barpolar\": [{\"marker\": {\"line\": {\"color\": \"#E5ECF6\", \"width\": 0.5}}, \"type\": \"barpolar\"}], \"carpet\": [{\"aaxis\": {\"endlinecolor\": \"#2a3f5f\", \"gridcolor\": \"white\", \"linecolor\": \"white\", \"minorgridcolor\": \"white\", \"startlinecolor\": \"#2a3f5f\"}, \"baxis\": {\"endlinecolor\": \"#2a3f5f\", \"gridcolor\": \"white\", \"linecolor\": \"white\", \"minorgridcolor\": \"white\", \"startlinecolor\": \"#2a3f5f\"}, \"type\": \"carpet\"}], \"choropleth\": [{\"colorbar\": {\"outlinewidth\": 0, \"ticks\": \"\"}, \"type\": \"choropleth\"}], \"contour\": [{\"colorbar\": {\"outlinewidth\": 0, \"ticks\": \"\"}, \"colorscale\": [[0.0, \"#0d0887\"], [0.1111111111111111, \"#46039f\"], [0.2222222222222222, \"#7201a8\"], [0.3333333333333333, \"#9c179e\"], [0.4444444444444444, \"#bd3786\"], [0.5555555555555556, \"#d8576b\"], [0.6666666666666666, \"#ed7953\"], [0.7777777777777778, \"#fb9f3a\"], [0.8888888888888888, \"#fdca26\"], [1.0, \"#f0f921\"]], \"type\": \"contour\"}], \"contourcarpet\": [{\"colorbar\": {\"outlinewidth\": 0, \"ticks\": \"\"}, \"type\": \"contourcarpet\"}], \"heatmap\": [{\"colorbar\": {\"outlinewidth\": 0, \"ticks\": \"\"}, \"colorscale\": [[0.0, \"#0d0887\"], [0.1111111111111111, \"#46039f\"], [0.2222222222222222, \"#7201a8\"], [0.3333333333333333, \"#9c179e\"], [0.4444444444444444, \"#bd3786\"], [0.5555555555555556, \"#d8576b\"], [0.6666666666666666, \"#ed7953\"], [0.7777777777777778, \"#fb9f3a\"], [0.8888888888888888, \"#fdca26\"], [1.0, \"#f0f921\"]], \"type\": \"heatmap\"}], \"heatmapgl\": [{\"colorbar\": {\"outlinewidth\": 0, \"ticks\": \"\"}, \"colorscale\": [[0.0, \"#0d0887\"], [0.1111111111111111, \"#46039f\"], [0.2222222222222222, \"#7201a8\"], [0.3333333333333333, \"#9c179e\"], [0.4444444444444444, \"#bd3786\"], [0.5555555555555556, \"#d8576b\"], [0.6666666666666666, \"#ed7953\"], [0.7777777777777778, \"#fb9f3a\"], [0.8888888888888888, \"#fdca26\"], [1.0, \"#f0f921\"]], \"type\": \"heatmapgl\"}], \"histogram\": [{\"marker\": {\"colorbar\": {\"outlinewidth\": 0, \"ticks\": \"\"}}, \"type\": \"histogram\"}], \"histogram2d\": [{\"colorbar\": {\"outlinewidth\": 0, \"ticks\": \"\"}, \"colorscale\": [[0.0, \"#0d0887\"], [0.1111111111111111, \"#46039f\"], [0.2222222222222222, \"#7201a8\"], [0.3333333333333333, \"#9c179e\"], [0.4444444444444444, \"#bd3786\"], [0.5555555555555556, \"#d8576b\"], [0.6666666666666666, \"#ed7953\"], [0.7777777777777778, \"#fb9f3a\"], [0.8888888888888888, \"#fdca26\"], [1.0, \"#f0f921\"]], \"type\": \"histogram2d\"}], \"histogram2dcontour\": [{\"colorbar\": {\"outlinewidth\": 0, \"ticks\": \"\"}, \"colorscale\": [[0.0, \"#0d0887\"], [0.1111111111111111, \"#46039f\"], [0.2222222222222222, \"#7201a8\"], [0.3333333333333333, \"#9c179e\"], [0.4444444444444444, \"#bd3786\"], [0.5555555555555556, \"#d8576b\"], [0.6666666666666666, \"#ed7953\"], [0.7777777777777778, \"#fb9f3a\"], [0.8888888888888888, \"#fdca26\"], [1.0, \"#f0f921\"]], \"type\": \"histogram2dcontour\"}], \"mesh3d\": [{\"colorbar\": {\"outlinewidth\": 0, \"ticks\": \"\"}, \"type\": \"mesh3d\"}], \"parcoords\": [{\"line\": {\"colorbar\": {\"outlinewidth\": 0, \"ticks\": \"\"}}, \"type\": \"parcoords\"}], \"pie\": [{\"automargin\": true, \"type\": \"pie\"}], \"scatter\": [{\"marker\": {\"colorbar\": {\"outlinewidth\": 0, \"ticks\": \"\"}}, \"type\": \"scatter\"}], \"scatter3d\": [{\"line\": {\"colorbar\": {\"outlinewidth\": 0, \"ticks\": \"\"}}, \"marker\": {\"colorbar\": {\"outlinewidth\": 0, \"ticks\": \"\"}}, \"type\": \"scatter3d\"}], \"scattercarpet\": [{\"marker\": {\"colorbar\": {\"outlinewidth\": 0, \"ticks\": \"\"}}, \"type\": \"scattercarpet\"}], \"scattergeo\": [{\"marker\": {\"colorbar\": {\"outlinewidth\": 0, \"ticks\": \"\"}}, \"type\": \"scattergeo\"}], \"scattergl\": [{\"marker\": {\"colorbar\": {\"outlinewidth\": 0, \"ticks\": \"\"}}, \"type\": \"scattergl\"}], \"scattermapbox\": [{\"marker\": {\"colorbar\": {\"outlinewidth\": 0, \"ticks\": \"\"}}, \"type\": \"scattermapbox\"}], \"scatterpolar\": [{\"marker\": {\"colorbar\": {\"outlinewidth\": 0, \"ticks\": \"\"}}, \"type\": \"scatterpolar\"}], \"scatterpolargl\": [{\"marker\": {\"colorbar\": {\"outlinewidth\": 0, \"ticks\": \"\"}}, \"type\": \"scatterpolargl\"}], \"scatterternary\": [{\"marker\": {\"colorbar\": {\"outlinewidth\": 0, \"ticks\": \"\"}}, \"type\": \"scatterternary\"}], \"surface\": [{\"colorbar\": {\"outlinewidth\": 0, \"ticks\": \"\"}, \"colorscale\": [[0.0, \"#0d0887\"], [0.1111111111111111, \"#46039f\"], [0.2222222222222222, \"#7201a8\"], [0.3333333333333333, \"#9c179e\"], [0.4444444444444444, \"#bd3786\"], [0.5555555555555556, \"#d8576b\"], [0.6666666666666666, \"#ed7953\"], [0.7777777777777778, \"#fb9f3a\"], [0.8888888888888888, \"#fdca26\"], [1.0, \"#f0f921\"]], \"type\": \"surface\"}], \"table\": [{\"cells\": {\"fill\": {\"color\": \"#EBF0F8\"}, \"line\": {\"color\": \"white\"}}, \"header\": {\"fill\": {\"color\": \"#C8D4E3\"}, \"line\": {\"color\": \"white\"}}, \"type\": \"table\"}]}, \"layout\": {\"annotationdefaults\": {\"arrowcolor\": \"#2a3f5f\", \"arrowhead\": 0, \"arrowwidth\": 1}, \"coloraxis\": {\"colorbar\": {\"outlinewidth\": 0, \"ticks\": \"\"}}, \"colorscale\": {\"diverging\": [[0, \"#8e0152\"], [0.1, \"#c51b7d\"], [0.2, \"#de77ae\"], [0.3, \"#f1b6da\"], [0.4, \"#fde0ef\"], [0.5, \"#f7f7f7\"], [0.6, \"#e6f5d0\"], [0.7, \"#b8e186\"], [0.8, \"#7fbc41\"], [0.9, \"#4d9221\"], [1, \"#276419\"]], \"sequential\": [[0.0, \"#0d0887\"], [0.1111111111111111, \"#46039f\"], [0.2222222222222222, \"#7201a8\"], [0.3333333333333333, \"#9c179e\"], [0.4444444444444444, \"#bd3786\"], [0.5555555555555556, \"#d8576b\"], [0.6666666666666666, \"#ed7953\"], [0.7777777777777778, \"#fb9f3a\"], [0.8888888888888888, \"#fdca26\"], [1.0, \"#f0f921\"]], \"sequentialminus\": [[0.0, \"#0d0887\"], [0.1111111111111111, \"#46039f\"], [0.2222222222222222, \"#7201a8\"], [0.3333333333333333, \"#9c179e\"], [0.4444444444444444, \"#bd3786\"], [0.5555555555555556, \"#d8576b\"], [0.6666666666666666, \"#ed7953\"], [0.7777777777777778, \"#fb9f3a\"], [0.8888888888888888, \"#fdca26\"], [1.0, \"#f0f921\"]]}, \"colorway\": [\"#636efa\", \"#EF553B\", \"#00cc96\", \"#ab63fa\", \"#FFA15A\", \"#19d3f3\", \"#FF6692\", \"#B6E880\", \"#FF97FF\", \"#FECB52\"], \"font\": {\"color\": \"#2a3f5f\"}, \"geo\": {\"bgcolor\": \"white\", \"lakecolor\": \"white\", \"landcolor\": \"#E5ECF6\", \"showlakes\": true, \"showland\": true, \"subunitcolor\": \"white\"}, \"hoverlabel\": {\"align\": \"left\"}, \"hovermode\": \"closest\", \"mapbox\": {\"style\": \"light\"}, \"paper_bgcolor\": \"white\", \"plot_bgcolor\": \"#E5ECF6\", \"polar\": {\"angularaxis\": {\"gridcolor\": \"white\", \"linecolor\": \"white\", \"ticks\": \"\"}, \"bgcolor\": \"#E5ECF6\", \"radialaxis\": {\"gridcolor\": \"white\", \"linecolor\": \"white\", \"ticks\": \"\"}}, \"scene\": {\"xaxis\": {\"backgroundcolor\": \"#E5ECF6\", \"gridcolor\": \"white\", \"gridwidth\": 2, \"linecolor\": \"white\", \"showbackground\": true, \"ticks\": \"\", \"zerolinecolor\": \"white\"}, \"yaxis\": {\"backgroundcolor\": \"#E5ECF6\", \"gridcolor\": \"white\", \"gridwidth\": 2, \"linecolor\": \"white\", \"showbackground\": true, \"ticks\": \"\", \"zerolinecolor\": \"white\"}, \"zaxis\": {\"backgroundcolor\": \"#E5ECF6\", \"gridcolor\": \"white\", \"gridwidth\": 2, \"linecolor\": \"white\", \"showbackground\": true, \"ticks\": \"\", \"zerolinecolor\": \"white\"}}, \"shapedefaults\": {\"line\": {\"color\": \"#2a3f5f\"}}, \"ternary\": {\"aaxis\": {\"gridcolor\": \"white\", \"linecolor\": \"white\", \"ticks\": \"\"}, \"baxis\": {\"gridcolor\": \"white\", \"linecolor\": \"white\", \"ticks\": \"\"}, \"bgcolor\": \"#E5ECF6\", \"caxis\": {\"gridcolor\": \"white\", \"linecolor\": \"white\", \"ticks\": \"\"}}, \"title\": {\"x\": 0.05}, \"xaxis\": {\"automargin\": true, \"gridcolor\": \"white\", \"linecolor\": \"white\", \"ticks\": \"\", \"title\": {\"standoff\": 15}, \"zerolinecolor\": \"white\", \"zerolinewidth\": 2}, \"yaxis\": {\"automargin\": true, \"gridcolor\": \"white\", \"linecolor\": \"white\", \"ticks\": \"\", \"title\": {\"standoff\": 15}, \"zerolinecolor\": \"white\", \"zerolinewidth\": 2}}}, \"title\": {\"text\": \"Total number of deaths per country\"}, \"xaxis\": {\"title\": {\"text\": \"Days after the first reported death\"}}, \"yaxis\": {\"title\": {\"text\": \"Number of deaths\"}}},\n",
       "                        {\"responsive\": true}\n",
       "                    ).then(function(){\n",
       "                            \n",
       "var gd = document.getElementById('91ee447a-3ea0-4d11-aebf-56a48f680a7a');\n",
       "var x = new MutationObserver(function (mutations, observer) {{\n",
       "        var display = window.getComputedStyle(gd).display;\n",
       "        if (!display || display === 'none') {{\n",
       "            console.log([gd, 'removed!']);\n",
       "            Plotly.purge(gd);\n",
       "            observer.disconnect();\n",
       "        }}\n",
       "}});\n",
       "\n",
       "// Listen for the removal of the full notebook cells\n",
       "var notebookContainer = gd.closest('#notebook-container');\n",
       "if (notebookContainer) {{\n",
       "    x.observe(notebookContainer, {childList: true});\n",
       "}}\n",
       "\n",
       "// Listen for the clearing of the current output cell\n",
       "var outputEl = gd.closest('.output');\n",
       "if (outputEl) {{\n",
       "    x.observe(outputEl, {childList: true});\n",
       "}}\n",
       "\n",
       "                        })\n",
       "                };\n",
       "                });\n",
       "            </script>\n",
       "        </div>"
      ]
     },
     "metadata": {},
     "output_type": "display_data"
    }
   ],
   "source": [
    "fig = go.Figure()\n",
    "for row in data_format.iterrows():\n",
    "    to_keep=row[1][1:].values>1\n",
    "    if any(row[1][1:].values>1000):\n",
    "        fig.add_trace(go.Scatter(x=np.array(range(-1,to_keep.sum())), y=np.append([0],row[1][1:].values[to_keep]),\n",
    "                        mode='lines',\n",
    "                        name=row[1][0]))\n",
    "    #else :\n",
    "        #print(row[1][0])\n",
    "fig.update_layout(title='Total number of deaths per country',\n",
    "                   xaxis_title='Days after the first reported death',\n",
    "                   yaxis_title='Number of deaths')\n",
    "fig.show();"
   ]
  },
  {
   "cell_type": "markdown",
   "metadata": {},
   "source": [
    "## Smoothed curves"
   ]
  },
  {
   "cell_type": "code",
   "execution_count": 189,
   "metadata": {},
   "outputs": [
    {
     "data": {
      "application/vnd.plotly.v1+json": {
       "config": {
        "plotlyServerURL": "https://plot.ly"
       },
       "data": [
        {
         "mode": "lines",
         "name": "Austria",
         "type": "scatter",
         "x": [
          -1,
          0,
          1,
          2,
          3,
          4,
          5,
          6,
          7,
          8,
          9,
          10,
          11,
          12,
          13,
          14,
          15
         ],
         "y": [
          null,
          null,
          null,
          null,
          null,
          null,
          4,
          7,
          9,
          13,
          16,
          23,
          30,
          39,
          49,
          61,
          75
         ]
        },
        {
         "mode": "lines",
         "name": "Belgium",
         "type": "scatter",
         "x": [
          -1,
          0,
          1,
          2,
          3,
          4,
          5,
          6,
          7,
          8,
          9,
          10,
          11,
          12,
          13,
          14,
          15,
          16,
          17,
          18,
          19,
          20
         ],
         "y": [
          null,
          null,
          null,
          null,
          null,
          null,
          3,
          5,
          6,
          9,
          14,
          23,
          33,
          45,
          61,
          84,
          112,
          148,
          189,
          240,
          301,
          384
         ]
        },
        {
         "mode": "lines",
         "name": "Brazil",
         "type": "scatter",
         "x": [
          -1,
          0,
          1,
          2,
          3,
          4,
          5,
          6,
          7,
          8,
          9,
          10,
          11,
          12,
          13
         ],
         "y": [
          null,
          null,
          null,
          null,
          null,
          null,
          13,
          20,
          28,
          38,
          50,
          63,
          79,
          97,
          119
         ]
        },
        {
         "mode": "lines",
         "name": "Canada",
         "type": "scatter",
         "x": [
          -1,
          0,
          1,
          2,
          3,
          4,
          5,
          6,
          7,
          8,
          9,
          10,
          11,
          12,
          13,
          14,
          15
         ],
         "y": [
          null,
          null,
          null,
          null,
          null,
          null,
          8,
          11,
          14,
          17,
          20,
          24,
          30,
          36,
          43,
          50,
          61
         ]
        },
        {
         "mode": "lines",
         "name": "China",
         "type": "scatter",
         "x": [
          -1,
          0,
          1,
          2,
          3,
          4,
          5,
          6,
          7,
          8,
          9,
          10,
          11,
          12,
          13,
          14,
          15,
          16,
          17,
          18,
          19,
          20,
          21,
          22,
          23,
          24,
          25,
          26,
          27,
          28,
          29,
          30,
          31,
          32,
          33,
          34,
          35,
          36,
          37,
          38,
          39,
          40,
          41,
          42,
          43,
          44,
          45,
          46,
          47,
          48,
          49,
          50,
          51,
          52,
          53,
          54,
          55,
          56,
          57,
          58,
          59,
          60,
          61,
          62,
          63,
          64,
          65,
          66,
          67,
          68,
          69
         ],
         "y": [
          null,
          null,
          null,
          null,
          null,
          null,
          34,
          53,
          70,
          92,
          118,
          149,
          193,
          242,
          293,
          355,
          421,
          493,
          571,
          649,
          732,
          821,
          900,
          1005,
          1120,
          1243,
          1366,
          1487,
          1615,
          1757,
          1882,
          1984,
          2095,
          2192,
          2297,
          2391,
          2477,
          2550,
          2629,
          2685,
          2746,
          2792,
          2832,
          2870,
          2908,
          2945,
          2978,
          3011,
          3041,
          3068,
          3093,
          3116,
          3135,
          3153,
          3167,
          3181,
          3194,
          3205,
          3216,
          3227,
          3236,
          3246,
          3254,
          3262,
          3268,
          3274,
          3280,
          3286,
          3290,
          3295,
          3299
         ]
        },
        {
         "mode": "lines",
         "name": "France",
         "type": "scatter",
         "x": [
          -1,
          0,
          1,
          2,
          3,
          4,
          5,
          6,
          7,
          8,
          9,
          10,
          11,
          12,
          13,
          14,
          15,
          16,
          17,
          18,
          19,
          20,
          21,
          22,
          23,
          24,
          25,
          26,
          27,
          28,
          29,
          30,
          31,
          32,
          33,
          34
         ],
         "y": [
          null,
          null,
          null,
          null,
          null,
          null,
          2,
          2,
          3,
          3,
          4,
          6,
          8,
          10,
          14,
          21,
          27,
          37,
          48,
          58,
          77,
          94,
          108,
          136,
          189,
          257,
          340,
          442,
          578,
          747,
          955,
          1176,
          1426,
          1703,
          2013,
          2360
         ]
        },
        {
         "mode": "lines",
         "name": "Germany",
         "type": "scatter",
         "x": [
          -1,
          0,
          1,
          2,
          3,
          4,
          5,
          6,
          7,
          8,
          9,
          10,
          11,
          12,
          13,
          14,
          15,
          16,
          17,
          18,
          19,
          20,
          21,
          22
         ],
         "y": [
          null,
          null,
          null,
          null,
          null,
          null,
          4,
          5,
          7,
          11,
          14,
          20,
          29,
          39,
          51,
          66,
          85,
          111,
          143,
          182,
          232,
          294,
          369,
          457
         ]
        },
        {
         "mode": "lines",
         "name": "Indonesia",
         "type": "scatter",
         "x": [
          -1,
          0,
          1,
          2,
          3,
          4,
          5,
          6,
          7,
          8,
          9,
          10,
          11,
          12,
          13,
          14,
          15,
          16,
          17,
          18
         ],
         "y": [
          null,
          null,
          null,
          null,
          null,
          null,
          6,
          10,
          14,
          18,
          25,
          31,
          38,
          44,
          51,
          59,
          68,
          78,
          88,
          100
         ]
        },
        {
         "mode": "lines",
         "name": "Iran",
         "type": "scatter",
         "x": [
          -1,
          0,
          1,
          2,
          3,
          4,
          5,
          6,
          7,
          8,
          9,
          10,
          11,
          12,
          13,
          14,
          15,
          16,
          17,
          18,
          19,
          20,
          21,
          22,
          23,
          24,
          25,
          26,
          27,
          28,
          29,
          30,
          31,
          32,
          33,
          34,
          35,
          36,
          37,
          38,
          39,
          40,
          41
         ],
         "y": [
          null,
          null,
          null,
          null,
          null,
          null,
          5,
          7,
          9,
          13,
          17,
          23,
          29,
          37,
          46,
          56,
          68,
          80,
          95,
          115,
          139,
          170,
          207,
          253,
          309,
          376,
          451,
          539,
          639,
          751,
          873,
          1004,
          1139,
          1276,
          1413,
          1548,
          1683,
          1819,
          1954,
          2091,
          2227,
          2362,
          2500
         ]
        },
        {
         "mode": "lines",
         "name": "Italy",
         "type": "scatter",
         "x": [
          -1,
          0,
          1,
          2,
          3,
          4,
          5,
          6,
          7,
          8,
          9,
          10,
          11,
          12,
          13,
          14,
          15,
          16,
          17,
          18,
          19,
          20,
          21,
          22,
          23,
          24,
          25,
          26,
          27,
          28,
          29,
          30,
          31,
          32,
          33,
          34,
          35,
          36,
          37,
          38
         ],
         "y": [
          null,
          null,
          null,
          null,
          null,
          null,
          7,
          10,
          14,
          19,
          25,
          35,
          48,
          67,
          92,
          121,
          169,
          228,
          306,
          409,
          506,
          659,
          832,
          1038,
          1280,
          1547,
          1855,
          2223,
          2618,
          3101,
          3625,
          4185,
          4802,
          5448,
          6135,
          6864,
          7607,
          8364,
          9152,
          9953
         ]
        },
        {
         "mode": "lines",
         "name": "Korea, South",
         "type": "scatter",
         "x": [
          -1,
          0,
          1,
          2,
          3,
          4,
          5,
          6,
          7,
          8,
          9,
          10,
          11,
          12,
          13,
          14,
          15,
          16,
          17,
          18,
          19,
          20,
          21,
          22,
          23,
          24,
          25,
          26,
          27,
          28,
          29,
          30,
          31,
          32,
          33,
          34,
          35,
          36,
          37,
          38,
          39
         ],
         "y": [
          null,
          null,
          null,
          null,
          null,
          null,
          6,
          8,
          9,
          11,
          13,
          16,
          18,
          21,
          25,
          29,
          33,
          37,
          41,
          45,
          48,
          53,
          56,
          60,
          64,
          67,
          71,
          74,
          78,
          82,
          86,
          91,
          96,
          102,
          108,
          114,
          120,
          126,
          132,
          139,
          145
         ]
        },
        {
         "mode": "lines",
         "name": "Netherlands",
         "type": "scatter",
         "x": [
          -1,
          0,
          1,
          2,
          3,
          4,
          5,
          6,
          7,
          8,
          9,
          10,
          11,
          12,
          13,
          14,
          15,
          16,
          17,
          18,
          19,
          20,
          21,
          22,
          23
         ],
         "y": [
          null,
          null,
          null,
          null,
          null,
          null,
          4,
          6,
          8,
          11,
          17,
          25,
          35,
          49,
          67,
          89,
          117,
          150,
          193,
          244,
          307,
          379,
          463,
          556,
          665
         ]
        },
        {
         "mode": "lines",
         "name": "Portugal",
         "type": "scatter",
         "x": [
          -1,
          0,
          1,
          2,
          3,
          4,
          5,
          6,
          7,
          8,
          9,
          10,
          11,
          12,
          13
         ],
         "y": [
          null,
          null,
          null,
          null,
          null,
          null,
          9,
          13,
          19,
          27,
          37,
          50,
          65,
          82,
          100
         ]
        },
        {
         "mode": "lines",
         "name": "Spain",
         "type": "scatter",
         "x": [
          -1,
          0,
          1,
          2,
          3,
          4,
          5,
          6,
          7,
          8,
          9,
          10,
          11,
          12,
          13,
          14,
          15,
          16,
          17,
          18,
          19,
          20,
          21,
          22,
          23,
          24,
          25,
          26,
          27
         ],
         "y": [
          null,
          null,
          null,
          null,
          null,
          null,
          9,
          14,
          22,
          29,
          47,
          74,
          113,
          158,
          229,
          310,
          421,
          551,
          719,
          931,
          1212,
          1537,
          1969,
          2474,
          3059,
          3718,
          4436,
          5208,
          6016
         ]
        },
        {
         "mode": "lines",
         "name": "Sweden",
         "type": "scatter",
         "x": [
          -1,
          0,
          1,
          2,
          3,
          4,
          5,
          6,
          7,
          8,
          9,
          10,
          11,
          12,
          13,
          14,
          15,
          16,
          17
         ],
         "y": [
          null,
          null,
          null,
          null,
          null,
          null,
          6,
          8,
          10,
          13,
          16,
          20,
          27,
          37,
          49,
          62,
          74,
          92,
          112
         ]
        },
        {
         "mode": "lines",
         "name": "Switzerland",
         "type": "scatter",
         "x": [
          -1,
          0,
          1,
          2,
          3,
          4,
          5,
          6,
          7,
          8,
          9,
          10,
          11,
          12,
          13,
          14,
          15,
          16,
          17,
          18,
          19,
          20,
          21,
          22,
          23
         ],
         "y": [
          null,
          null,
          null,
          null,
          null,
          null,
          4,
          6,
          7,
          9,
          12,
          16,
          21,
          27,
          36,
          48,
          63,
          77,
          95,
          116,
          141,
          168,
          197,
          231,
          276
         ]
        },
        {
         "mode": "lines",
         "name": "Turkey",
         "type": "scatter",
         "x": [
          -1,
          0,
          1,
          2,
          3,
          4,
          5,
          6,
          7,
          8,
          9,
          10,
          11,
          12
         ],
         "y": [
          null,
          null,
          null,
          null,
          null,
          null,
          18,
          27,
          37,
          49,
          64,
          78,
          97,
          121
         ]
        },
        {
         "mode": "lines",
         "name": "US",
         "type": "scatter",
         "x": [
          -1,
          0,
          1,
          2,
          3,
          4,
          5,
          6,
          7,
          8,
          9,
          10,
          11,
          12,
          13,
          14,
          15,
          16,
          17,
          18,
          19,
          20,
          21,
          22,
          23,
          24,
          25,
          26,
          27,
          28,
          29
         ],
         "y": [
          null,
          null,
          null,
          null,
          null,
          null,
          10,
          13,
          15,
          18,
          21,
          25,
          30,
          35,
          41,
          50,
          62,
          74,
          96,
          125,
          161,
          211,
          279,
          364,
          482,
          626,
          817,
          1063,
          1355,
          1701,
          2154
         ]
        },
        {
         "mode": "lines",
         "name": "United Kingdom",
         "type": "scatter",
         "x": [
          -1,
          0,
          1,
          2,
          3,
          4,
          5,
          6,
          7,
          8,
          9,
          10,
          11,
          12,
          13,
          14,
          15,
          16,
          17,
          18,
          19,
          20,
          21,
          22,
          23,
          24,
          25
         ],
         "y": [
          null,
          null,
          null,
          null,
          null,
          null,
          4,
          5,
          6,
          8,
          11,
          18,
          25,
          35,
          53,
          77,
          108,
          145,
          185,
          238,
          294,
          357,
          440,
          553,
          688,
          842,
          1038
         ]
        }
       ],
       "layout": {
        "template": {
         "data": {
          "bar": [
           {
            "error_x": {
             "color": "#2a3f5f"
            },
            "error_y": {
             "color": "#2a3f5f"
            },
            "marker": {
             "line": {
              "color": "#E5ECF6",
              "width": 0.5
             }
            },
            "type": "bar"
           }
          ],
          "barpolar": [
           {
            "marker": {
             "line": {
              "color": "#E5ECF6",
              "width": 0.5
             }
            },
            "type": "barpolar"
           }
          ],
          "carpet": [
           {
            "aaxis": {
             "endlinecolor": "#2a3f5f",
             "gridcolor": "white",
             "linecolor": "white",
             "minorgridcolor": "white",
             "startlinecolor": "#2a3f5f"
            },
            "baxis": {
             "endlinecolor": "#2a3f5f",
             "gridcolor": "white",
             "linecolor": "white",
             "minorgridcolor": "white",
             "startlinecolor": "#2a3f5f"
            },
            "type": "carpet"
           }
          ],
          "choropleth": [
           {
            "colorbar": {
             "outlinewidth": 0,
             "ticks": ""
            },
            "type": "choropleth"
           }
          ],
          "contour": [
           {
            "colorbar": {
             "outlinewidth": 0,
             "ticks": ""
            },
            "colorscale": [
             [
              0,
              "#0d0887"
             ],
             [
              0.1111111111111111,
              "#46039f"
             ],
             [
              0.2222222222222222,
              "#7201a8"
             ],
             [
              0.3333333333333333,
              "#9c179e"
             ],
             [
              0.4444444444444444,
              "#bd3786"
             ],
             [
              0.5555555555555556,
              "#d8576b"
             ],
             [
              0.6666666666666666,
              "#ed7953"
             ],
             [
              0.7777777777777778,
              "#fb9f3a"
             ],
             [
              0.8888888888888888,
              "#fdca26"
             ],
             [
              1,
              "#f0f921"
             ]
            ],
            "type": "contour"
           }
          ],
          "contourcarpet": [
           {
            "colorbar": {
             "outlinewidth": 0,
             "ticks": ""
            },
            "type": "contourcarpet"
           }
          ],
          "heatmap": [
           {
            "colorbar": {
             "outlinewidth": 0,
             "ticks": ""
            },
            "colorscale": [
             [
              0,
              "#0d0887"
             ],
             [
              0.1111111111111111,
              "#46039f"
             ],
             [
              0.2222222222222222,
              "#7201a8"
             ],
             [
              0.3333333333333333,
              "#9c179e"
             ],
             [
              0.4444444444444444,
              "#bd3786"
             ],
             [
              0.5555555555555556,
              "#d8576b"
             ],
             [
              0.6666666666666666,
              "#ed7953"
             ],
             [
              0.7777777777777778,
              "#fb9f3a"
             ],
             [
              0.8888888888888888,
              "#fdca26"
             ],
             [
              1,
              "#f0f921"
             ]
            ],
            "type": "heatmap"
           }
          ],
          "heatmapgl": [
           {
            "colorbar": {
             "outlinewidth": 0,
             "ticks": ""
            },
            "colorscale": [
             [
              0,
              "#0d0887"
             ],
             [
              0.1111111111111111,
              "#46039f"
             ],
             [
              0.2222222222222222,
              "#7201a8"
             ],
             [
              0.3333333333333333,
              "#9c179e"
             ],
             [
              0.4444444444444444,
              "#bd3786"
             ],
             [
              0.5555555555555556,
              "#d8576b"
             ],
             [
              0.6666666666666666,
              "#ed7953"
             ],
             [
              0.7777777777777778,
              "#fb9f3a"
             ],
             [
              0.8888888888888888,
              "#fdca26"
             ],
             [
              1,
              "#f0f921"
             ]
            ],
            "type": "heatmapgl"
           }
          ],
          "histogram": [
           {
            "marker": {
             "colorbar": {
              "outlinewidth": 0,
              "ticks": ""
             }
            },
            "type": "histogram"
           }
          ],
          "histogram2d": [
           {
            "colorbar": {
             "outlinewidth": 0,
             "ticks": ""
            },
            "colorscale": [
             [
              0,
              "#0d0887"
             ],
             [
              0.1111111111111111,
              "#46039f"
             ],
             [
              0.2222222222222222,
              "#7201a8"
             ],
             [
              0.3333333333333333,
              "#9c179e"
             ],
             [
              0.4444444444444444,
              "#bd3786"
             ],
             [
              0.5555555555555556,
              "#d8576b"
             ],
             [
              0.6666666666666666,
              "#ed7953"
             ],
             [
              0.7777777777777778,
              "#fb9f3a"
             ],
             [
              0.8888888888888888,
              "#fdca26"
             ],
             [
              1,
              "#f0f921"
             ]
            ],
            "type": "histogram2d"
           }
          ],
          "histogram2dcontour": [
           {
            "colorbar": {
             "outlinewidth": 0,
             "ticks": ""
            },
            "colorscale": [
             [
              0,
              "#0d0887"
             ],
             [
              0.1111111111111111,
              "#46039f"
             ],
             [
              0.2222222222222222,
              "#7201a8"
             ],
             [
              0.3333333333333333,
              "#9c179e"
             ],
             [
              0.4444444444444444,
              "#bd3786"
             ],
             [
              0.5555555555555556,
              "#d8576b"
             ],
             [
              0.6666666666666666,
              "#ed7953"
             ],
             [
              0.7777777777777778,
              "#fb9f3a"
             ],
             [
              0.8888888888888888,
              "#fdca26"
             ],
             [
              1,
              "#f0f921"
             ]
            ],
            "type": "histogram2dcontour"
           }
          ],
          "mesh3d": [
           {
            "colorbar": {
             "outlinewidth": 0,
             "ticks": ""
            },
            "type": "mesh3d"
           }
          ],
          "parcoords": [
           {
            "line": {
             "colorbar": {
              "outlinewidth": 0,
              "ticks": ""
             }
            },
            "type": "parcoords"
           }
          ],
          "pie": [
           {
            "automargin": true,
            "type": "pie"
           }
          ],
          "scatter": [
           {
            "marker": {
             "colorbar": {
              "outlinewidth": 0,
              "ticks": ""
             }
            },
            "type": "scatter"
           }
          ],
          "scatter3d": [
           {
            "line": {
             "colorbar": {
              "outlinewidth": 0,
              "ticks": ""
             }
            },
            "marker": {
             "colorbar": {
              "outlinewidth": 0,
              "ticks": ""
             }
            },
            "type": "scatter3d"
           }
          ],
          "scattercarpet": [
           {
            "marker": {
             "colorbar": {
              "outlinewidth": 0,
              "ticks": ""
             }
            },
            "type": "scattercarpet"
           }
          ],
          "scattergeo": [
           {
            "marker": {
             "colorbar": {
              "outlinewidth": 0,
              "ticks": ""
             }
            },
            "type": "scattergeo"
           }
          ],
          "scattergl": [
           {
            "marker": {
             "colorbar": {
              "outlinewidth": 0,
              "ticks": ""
             }
            },
            "type": "scattergl"
           }
          ],
          "scattermapbox": [
           {
            "marker": {
             "colorbar": {
              "outlinewidth": 0,
              "ticks": ""
             }
            },
            "type": "scattermapbox"
           }
          ],
          "scatterpolar": [
           {
            "marker": {
             "colorbar": {
              "outlinewidth": 0,
              "ticks": ""
             }
            },
            "type": "scatterpolar"
           }
          ],
          "scatterpolargl": [
           {
            "marker": {
             "colorbar": {
              "outlinewidth": 0,
              "ticks": ""
             }
            },
            "type": "scatterpolargl"
           }
          ],
          "scatterternary": [
           {
            "marker": {
             "colorbar": {
              "outlinewidth": 0,
              "ticks": ""
             }
            },
            "type": "scatterternary"
           }
          ],
          "surface": [
           {
            "colorbar": {
             "outlinewidth": 0,
             "ticks": ""
            },
            "colorscale": [
             [
              0,
              "#0d0887"
             ],
             [
              0.1111111111111111,
              "#46039f"
             ],
             [
              0.2222222222222222,
              "#7201a8"
             ],
             [
              0.3333333333333333,
              "#9c179e"
             ],
             [
              0.4444444444444444,
              "#bd3786"
             ],
             [
              0.5555555555555556,
              "#d8576b"
             ],
             [
              0.6666666666666666,
              "#ed7953"
             ],
             [
              0.7777777777777778,
              "#fb9f3a"
             ],
             [
              0.8888888888888888,
              "#fdca26"
             ],
             [
              1,
              "#f0f921"
             ]
            ],
            "type": "surface"
           }
          ],
          "table": [
           {
            "cells": {
             "fill": {
              "color": "#EBF0F8"
             },
             "line": {
              "color": "white"
             }
            },
            "header": {
             "fill": {
              "color": "#C8D4E3"
             },
             "line": {
              "color": "white"
             }
            },
            "type": "table"
           }
          ]
         },
         "layout": {
          "annotationdefaults": {
           "arrowcolor": "#2a3f5f",
           "arrowhead": 0,
           "arrowwidth": 1
          },
          "coloraxis": {
           "colorbar": {
            "outlinewidth": 0,
            "ticks": ""
           }
          },
          "colorscale": {
           "diverging": [
            [
             0,
             "#8e0152"
            ],
            [
             0.1,
             "#c51b7d"
            ],
            [
             0.2,
             "#de77ae"
            ],
            [
             0.3,
             "#f1b6da"
            ],
            [
             0.4,
             "#fde0ef"
            ],
            [
             0.5,
             "#f7f7f7"
            ],
            [
             0.6,
             "#e6f5d0"
            ],
            [
             0.7,
             "#b8e186"
            ],
            [
             0.8,
             "#7fbc41"
            ],
            [
             0.9,
             "#4d9221"
            ],
            [
             1,
             "#276419"
            ]
           ],
           "sequential": [
            [
             0,
             "#0d0887"
            ],
            [
             0.1111111111111111,
             "#46039f"
            ],
            [
             0.2222222222222222,
             "#7201a8"
            ],
            [
             0.3333333333333333,
             "#9c179e"
            ],
            [
             0.4444444444444444,
             "#bd3786"
            ],
            [
             0.5555555555555556,
             "#d8576b"
            ],
            [
             0.6666666666666666,
             "#ed7953"
            ],
            [
             0.7777777777777778,
             "#fb9f3a"
            ],
            [
             0.8888888888888888,
             "#fdca26"
            ],
            [
             1,
             "#f0f921"
            ]
           ],
           "sequentialminus": [
            [
             0,
             "#0d0887"
            ],
            [
             0.1111111111111111,
             "#46039f"
            ],
            [
             0.2222222222222222,
             "#7201a8"
            ],
            [
             0.3333333333333333,
             "#9c179e"
            ],
            [
             0.4444444444444444,
             "#bd3786"
            ],
            [
             0.5555555555555556,
             "#d8576b"
            ],
            [
             0.6666666666666666,
             "#ed7953"
            ],
            [
             0.7777777777777778,
             "#fb9f3a"
            ],
            [
             0.8888888888888888,
             "#fdca26"
            ],
            [
             1,
             "#f0f921"
            ]
           ]
          },
          "colorway": [
           "#636efa",
           "#EF553B",
           "#00cc96",
           "#ab63fa",
           "#FFA15A",
           "#19d3f3",
           "#FF6692",
           "#B6E880",
           "#FF97FF",
           "#FECB52"
          ],
          "font": {
           "color": "#2a3f5f"
          },
          "geo": {
           "bgcolor": "white",
           "lakecolor": "white",
           "landcolor": "#E5ECF6",
           "showlakes": true,
           "showland": true,
           "subunitcolor": "white"
          },
          "hoverlabel": {
           "align": "left"
          },
          "hovermode": "closest",
          "mapbox": {
           "style": "light"
          },
          "paper_bgcolor": "white",
          "plot_bgcolor": "#E5ECF6",
          "polar": {
           "angularaxis": {
            "gridcolor": "white",
            "linecolor": "white",
            "ticks": ""
           },
           "bgcolor": "#E5ECF6",
           "radialaxis": {
            "gridcolor": "white",
            "linecolor": "white",
            "ticks": ""
           }
          },
          "scene": {
           "xaxis": {
            "backgroundcolor": "#E5ECF6",
            "gridcolor": "white",
            "gridwidth": 2,
            "linecolor": "white",
            "showbackground": true,
            "ticks": "",
            "zerolinecolor": "white"
           },
           "yaxis": {
            "backgroundcolor": "#E5ECF6",
            "gridcolor": "white",
            "gridwidth": 2,
            "linecolor": "white",
            "showbackground": true,
            "ticks": "",
            "zerolinecolor": "white"
           },
           "zaxis": {
            "backgroundcolor": "#E5ECF6",
            "gridcolor": "white",
            "gridwidth": 2,
            "linecolor": "white",
            "showbackground": true,
            "ticks": "",
            "zerolinecolor": "white"
           }
          },
          "shapedefaults": {
           "line": {
            "color": "#2a3f5f"
           }
          },
          "ternary": {
           "aaxis": {
            "gridcolor": "white",
            "linecolor": "white",
            "ticks": ""
           },
           "baxis": {
            "gridcolor": "white",
            "linecolor": "white",
            "ticks": ""
           },
           "bgcolor": "#E5ECF6",
           "caxis": {
            "gridcolor": "white",
            "linecolor": "white",
            "ticks": ""
           }
          },
          "title": {
           "x": 0.05
          },
          "xaxis": {
           "automargin": true,
           "gridcolor": "white",
           "linecolor": "white",
           "ticks": "",
           "title": {
            "standoff": 15
           },
           "zerolinecolor": "white",
           "zerolinewidth": 2
          },
          "yaxis": {
           "automargin": true,
           "gridcolor": "white",
           "linecolor": "white",
           "ticks": "",
           "title": {
            "standoff": 15
           },
           "zerolinecolor": "white",
           "zerolinewidth": 2
          }
         }
        },
        "title": {
         "text": "Total number of deaths per country"
        },
        "xaxis": {
         "title": {
          "text": "Days after the first reported death"
         }
        },
        "yaxis": {
         "title": {
          "text": "Number of deaths"
         }
        }
       }
      },
      "text/html": [
       "<div>\n",
       "        \n",
       "        \n",
       "            <div id=\"443094dc-114d-4adb-96c6-b322fa13c76a\" class=\"plotly-graph-div\" style=\"height:525px; width:100%;\"></div>\n",
       "            <script type=\"text/javascript\">\n",
       "                require([\"plotly\"], function(Plotly) {\n",
       "                    window.PLOTLYENV=window.PLOTLYENV || {};\n",
       "                    \n",
       "                if (document.getElementById(\"443094dc-114d-4adb-96c6-b322fa13c76a\")) {\n",
       "                    Plotly.newPlot(\n",
       "                        '443094dc-114d-4adb-96c6-b322fa13c76a',\n",
       "                        [{\"mode\": \"lines\", \"name\": \"Austria\", \"type\": \"scatter\", \"x\": [-1, 0, 1, 2, 3, 4, 5, 6, 7, 8, 9, 10, 11, 12, 13, 14, 15], \"y\": [null, null, null, null, null, null, 4.0, 7.0, 9.0, 13.0, 16.0, 23.0, 30.0, 39.0, 49.0, 61.0, 75.0]}, {\"mode\": \"lines\", \"name\": \"Belgium\", \"type\": \"scatter\", \"x\": [-1, 0, 1, 2, 3, 4, 5, 6, 7, 8, 9, 10, 11, 12, 13, 14, 15, 16, 17, 18, 19, 20], \"y\": [null, null, null, null, null, null, 3.0, 5.0, 6.0, 9.0, 14.0, 23.0, 33.0, 45.0, 61.0, 84.0, 112.0, 148.0, 189.0, 240.0, 301.0, 384.0]}, {\"mode\": \"lines\", \"name\": \"Brazil\", \"type\": \"scatter\", \"x\": [-1, 0, 1, 2, 3, 4, 5, 6, 7, 8, 9, 10, 11, 12, 13], \"y\": [null, null, null, null, null, null, 13.0, 20.0, 28.0, 38.0, 50.0, 63.0, 79.0, 97.0, 119.0]}, {\"mode\": \"lines\", \"name\": \"Canada\", \"type\": \"scatter\", \"x\": [-1, 0, 1, 2, 3, 4, 5, 6, 7, 8, 9, 10, 11, 12, 13, 14, 15], \"y\": [null, null, null, null, null, null, 8.0, 11.0, 14.0, 17.0, 20.0, 24.0, 30.0, 36.0, 43.0, 50.0, 61.0]}, {\"mode\": \"lines\", \"name\": \"China\", \"type\": \"scatter\", \"x\": [-1, 0, 1, 2, 3, 4, 5, 6, 7, 8, 9, 10, 11, 12, 13, 14, 15, 16, 17, 18, 19, 20, 21, 22, 23, 24, 25, 26, 27, 28, 29, 30, 31, 32, 33, 34, 35, 36, 37, 38, 39, 40, 41, 42, 43, 44, 45, 46, 47, 48, 49, 50, 51, 52, 53, 54, 55, 56, 57, 58, 59, 60, 61, 62, 63, 64, 65, 66, 67, 68, 69], \"y\": [null, null, null, null, null, null, 34.0, 53.0, 70.0, 92.0, 118.0, 149.0, 193.0, 242.0, 293.0, 355.0, 421.0, 493.0, 571.0, 649.0, 732.0, 821.0, 900.0, 1005.0, 1120.0, 1243.0, 1366.0, 1487.0, 1615.0, 1757.0, 1882.0, 1984.0, 2095.0, 2192.0, 2297.0, 2391.0, 2477.0, 2550.0, 2629.0, 2685.0, 2746.0, 2792.0, 2832.0, 2870.0, 2908.0, 2945.0, 2978.0, 3011.0, 3041.0, 3068.0, 3093.0, 3116.0, 3135.0, 3153.0, 3167.0, 3181.0, 3194.0, 3205.0, 3216.0, 3227.0, 3236.0, 3246.0, 3254.0, 3262.0, 3268.0, 3274.0, 3280.0, 3286.0, 3290.0, 3295.0, 3299.0]}, {\"mode\": \"lines\", \"name\": \"France\", \"type\": \"scatter\", \"x\": [-1, 0, 1, 2, 3, 4, 5, 6, 7, 8, 9, 10, 11, 12, 13, 14, 15, 16, 17, 18, 19, 20, 21, 22, 23, 24, 25, 26, 27, 28, 29, 30, 31, 32, 33, 34], \"y\": [null, null, null, null, null, null, 2.0, 2.0, 3.0, 3.0, 4.0, 6.0, 8.0, 10.0, 14.0, 21.0, 27.0, 37.0, 48.0, 58.0, 77.0, 94.0, 108.0, 136.0, 189.0, 257.0, 340.0, 442.0, 578.0, 747.0, 955.0, 1176.0, 1426.0, 1703.0, 2013.0, 2360.0]}, {\"mode\": \"lines\", \"name\": \"Germany\", \"type\": \"scatter\", \"x\": [-1, 0, 1, 2, 3, 4, 5, 6, 7, 8, 9, 10, 11, 12, 13, 14, 15, 16, 17, 18, 19, 20, 21, 22], \"y\": [null, null, null, null, null, null, 4.0, 5.0, 7.0, 11.0, 14.0, 20.0, 29.0, 39.0, 51.0, 66.0, 85.0, 111.0, 143.0, 182.0, 232.0, 294.0, 369.0, 457.0]}, {\"mode\": \"lines\", \"name\": \"Indonesia\", \"type\": \"scatter\", \"x\": [-1, 0, 1, 2, 3, 4, 5, 6, 7, 8, 9, 10, 11, 12, 13, 14, 15, 16, 17, 18], \"y\": [null, null, null, null, null, null, 6.0, 10.0, 14.0, 18.0, 25.0, 31.0, 38.0, 44.0, 51.0, 59.0, 68.0, 78.0, 88.0, 100.0]}, {\"mode\": \"lines\", \"name\": \"Iran\", \"type\": \"scatter\", \"x\": [-1, 0, 1, 2, 3, 4, 5, 6, 7, 8, 9, 10, 11, 12, 13, 14, 15, 16, 17, 18, 19, 20, 21, 22, 23, 24, 25, 26, 27, 28, 29, 30, 31, 32, 33, 34, 35, 36, 37, 38, 39, 40, 41], \"y\": [null, null, null, null, null, null, 5.0, 7.0, 9.0, 13.0, 17.0, 23.0, 29.0, 37.0, 46.0, 56.0, 68.0, 80.0, 95.0, 115.0, 139.0, 170.0, 207.0, 253.0, 309.0, 376.0, 451.0, 539.0, 639.0, 751.0, 873.0, 1004.0, 1139.0, 1276.0, 1413.0, 1548.0, 1683.0, 1819.0, 1954.0, 2091.0, 2227.0, 2362.0, 2500.0]}, {\"mode\": \"lines\", \"name\": \"Italy\", \"type\": \"scatter\", \"x\": [-1, 0, 1, 2, 3, 4, 5, 6, 7, 8, 9, 10, 11, 12, 13, 14, 15, 16, 17, 18, 19, 20, 21, 22, 23, 24, 25, 26, 27, 28, 29, 30, 31, 32, 33, 34, 35, 36, 37, 38], \"y\": [null, null, null, null, null, null, 7.0, 10.0, 14.0, 19.0, 25.0, 35.0, 48.0, 67.0, 92.0, 121.0, 169.0, 228.0, 306.0, 409.0, 506.0, 659.0, 832.0, 1038.0, 1280.0, 1547.0, 1855.0, 2223.0, 2618.0, 3101.0, 3625.0, 4185.0, 4802.0, 5448.0, 6135.0, 6864.0, 7607.0, 8364.0, 9152.0, 9953.0]}, {\"mode\": \"lines\", \"name\": \"Korea, South\", \"type\": \"scatter\", \"x\": [-1, 0, 1, 2, 3, 4, 5, 6, 7, 8, 9, 10, 11, 12, 13, 14, 15, 16, 17, 18, 19, 20, 21, 22, 23, 24, 25, 26, 27, 28, 29, 30, 31, 32, 33, 34, 35, 36, 37, 38, 39], \"y\": [null, null, null, null, null, null, 6.0, 8.0, 9.0, 11.0, 13.0, 16.0, 18.0, 21.0, 25.0, 29.0, 33.0, 37.0, 41.0, 45.0, 48.0, 53.0, 56.0, 60.0, 64.0, 67.0, 71.0, 74.0, 78.0, 82.0, 86.0, 91.0, 96.0, 102.0, 108.0, 114.0, 120.0, 126.0, 132.0, 139.0, 145.0]}, {\"mode\": \"lines\", \"name\": \"Netherlands\", \"type\": \"scatter\", \"x\": [-1, 0, 1, 2, 3, 4, 5, 6, 7, 8, 9, 10, 11, 12, 13, 14, 15, 16, 17, 18, 19, 20, 21, 22, 23], \"y\": [null, null, null, null, null, null, 4.0, 6.0, 8.0, 11.0, 17.0, 25.0, 35.0, 49.0, 67.0, 89.0, 117.0, 150.0, 193.0, 244.0, 307.0, 379.0, 463.0, 556.0, 665.0]}, {\"mode\": \"lines\", \"name\": \"Portugal\", \"type\": \"scatter\", \"x\": [-1, 0, 1, 2, 3, 4, 5, 6, 7, 8, 9, 10, 11, 12, 13], \"y\": [null, null, null, null, null, null, 9.0, 13.0, 19.0, 27.0, 37.0, 50.0, 65.0, 82.0, 100.0]}, {\"mode\": \"lines\", \"name\": \"Spain\", \"type\": \"scatter\", \"x\": [-1, 0, 1, 2, 3, 4, 5, 6, 7, 8, 9, 10, 11, 12, 13, 14, 15, 16, 17, 18, 19, 20, 21, 22, 23, 24, 25, 26, 27], \"y\": [null, null, null, null, null, null, 9.0, 14.0, 22.0, 29.0, 47.0, 74.0, 113.0, 158.0, 229.0, 310.0, 421.0, 551.0, 719.0, 931.0, 1212.0, 1537.0, 1969.0, 2474.0, 3059.0, 3718.0, 4436.0, 5208.0, 6016.0]}, {\"mode\": \"lines\", \"name\": \"Sweden\", \"type\": \"scatter\", \"x\": [-1, 0, 1, 2, 3, 4, 5, 6, 7, 8, 9, 10, 11, 12, 13, 14, 15, 16, 17], \"y\": [null, null, null, null, null, null, 6.0, 8.0, 10.0, 13.0, 16.0, 20.0, 27.0, 37.0, 49.0, 62.0, 74.0, 92.0, 112.0]}, {\"mode\": \"lines\", \"name\": \"Switzerland\", \"type\": \"scatter\", \"x\": [-1, 0, 1, 2, 3, 4, 5, 6, 7, 8, 9, 10, 11, 12, 13, 14, 15, 16, 17, 18, 19, 20, 21, 22, 23], \"y\": [null, null, null, null, null, null, 4.0, 6.0, 7.0, 9.0, 12.0, 16.0, 21.0, 27.0, 36.0, 48.0, 63.0, 77.0, 95.0, 116.0, 141.0, 168.0, 197.0, 231.0, 276.0]}, {\"mode\": \"lines\", \"name\": \"Turkey\", \"type\": \"scatter\", \"x\": [-1, 0, 1, 2, 3, 4, 5, 6, 7, 8, 9, 10, 11, 12], \"y\": [null, null, null, null, null, null, 18.0, 27.0, 37.0, 49.0, 64.0, 78.0, 97.0, 121.0]}, {\"mode\": \"lines\", \"name\": \"US\", \"type\": \"scatter\", \"x\": [-1, 0, 1, 2, 3, 4, 5, 6, 7, 8, 9, 10, 11, 12, 13, 14, 15, 16, 17, 18, 19, 20, 21, 22, 23, 24, 25, 26, 27, 28, 29], \"y\": [null, null, null, null, null, null, 10.0, 13.0, 15.0, 18.0, 21.0, 25.0, 30.0, 35.0, 41.0, 50.0, 62.0, 74.0, 96.0, 125.0, 161.0, 211.0, 279.0, 364.0, 482.0, 626.0, 817.0, 1063.0, 1355.0, 1701.0, 2154.0]}, {\"mode\": \"lines\", \"name\": \"United Kingdom\", \"type\": \"scatter\", \"x\": [-1, 0, 1, 2, 3, 4, 5, 6, 7, 8, 9, 10, 11, 12, 13, 14, 15, 16, 17, 18, 19, 20, 21, 22, 23, 24, 25], \"y\": [null, null, null, null, null, null, 4.0, 5.0, 6.0, 8.0, 11.0, 18.0, 25.0, 35.0, 53.0, 77.0, 108.0, 145.0, 185.0, 238.0, 294.0, 357.0, 440.0, 553.0, 688.0, 842.0, 1038.0]}],\n",
       "                        {\"template\": {\"data\": {\"bar\": [{\"error_x\": {\"color\": \"#2a3f5f\"}, \"error_y\": {\"color\": \"#2a3f5f\"}, \"marker\": {\"line\": {\"color\": \"#E5ECF6\", \"width\": 0.5}}, \"type\": \"bar\"}], \"barpolar\": [{\"marker\": {\"line\": {\"color\": \"#E5ECF6\", \"width\": 0.5}}, \"type\": \"barpolar\"}], \"carpet\": [{\"aaxis\": {\"endlinecolor\": \"#2a3f5f\", \"gridcolor\": \"white\", \"linecolor\": \"white\", \"minorgridcolor\": \"white\", \"startlinecolor\": \"#2a3f5f\"}, \"baxis\": {\"endlinecolor\": \"#2a3f5f\", \"gridcolor\": \"white\", \"linecolor\": \"white\", \"minorgridcolor\": \"white\", \"startlinecolor\": \"#2a3f5f\"}, \"type\": \"carpet\"}], \"choropleth\": [{\"colorbar\": {\"outlinewidth\": 0, \"ticks\": \"\"}, \"type\": \"choropleth\"}], \"contour\": [{\"colorbar\": {\"outlinewidth\": 0, \"ticks\": \"\"}, \"colorscale\": [[0.0, \"#0d0887\"], [0.1111111111111111, \"#46039f\"], [0.2222222222222222, \"#7201a8\"], [0.3333333333333333, \"#9c179e\"], [0.4444444444444444, \"#bd3786\"], [0.5555555555555556, \"#d8576b\"], [0.6666666666666666, \"#ed7953\"], [0.7777777777777778, \"#fb9f3a\"], [0.8888888888888888, \"#fdca26\"], [1.0, \"#f0f921\"]], \"type\": \"contour\"}], \"contourcarpet\": [{\"colorbar\": {\"outlinewidth\": 0, \"ticks\": \"\"}, \"type\": \"contourcarpet\"}], \"heatmap\": [{\"colorbar\": {\"outlinewidth\": 0, \"ticks\": \"\"}, \"colorscale\": [[0.0, \"#0d0887\"], [0.1111111111111111, \"#46039f\"], [0.2222222222222222, \"#7201a8\"], [0.3333333333333333, \"#9c179e\"], [0.4444444444444444, \"#bd3786\"], [0.5555555555555556, \"#d8576b\"], [0.6666666666666666, \"#ed7953\"], [0.7777777777777778, \"#fb9f3a\"], [0.8888888888888888, \"#fdca26\"], [1.0, \"#f0f921\"]], \"type\": \"heatmap\"}], \"heatmapgl\": [{\"colorbar\": {\"outlinewidth\": 0, \"ticks\": \"\"}, \"colorscale\": [[0.0, \"#0d0887\"], [0.1111111111111111, \"#46039f\"], [0.2222222222222222, \"#7201a8\"], [0.3333333333333333, \"#9c179e\"], [0.4444444444444444, \"#bd3786\"], [0.5555555555555556, \"#d8576b\"], [0.6666666666666666, \"#ed7953\"], [0.7777777777777778, \"#fb9f3a\"], [0.8888888888888888, \"#fdca26\"], [1.0, \"#f0f921\"]], \"type\": \"heatmapgl\"}], \"histogram\": [{\"marker\": {\"colorbar\": {\"outlinewidth\": 0, \"ticks\": \"\"}}, \"type\": \"histogram\"}], \"histogram2d\": [{\"colorbar\": {\"outlinewidth\": 0, \"ticks\": \"\"}, \"colorscale\": [[0.0, \"#0d0887\"], [0.1111111111111111, \"#46039f\"], [0.2222222222222222, \"#7201a8\"], [0.3333333333333333, \"#9c179e\"], [0.4444444444444444, \"#bd3786\"], [0.5555555555555556, \"#d8576b\"], [0.6666666666666666, \"#ed7953\"], [0.7777777777777778, \"#fb9f3a\"], [0.8888888888888888, \"#fdca26\"], [1.0, \"#f0f921\"]], \"type\": \"histogram2d\"}], \"histogram2dcontour\": [{\"colorbar\": {\"outlinewidth\": 0, \"ticks\": \"\"}, \"colorscale\": [[0.0, \"#0d0887\"], [0.1111111111111111, \"#46039f\"], [0.2222222222222222, \"#7201a8\"], [0.3333333333333333, \"#9c179e\"], [0.4444444444444444, \"#bd3786\"], [0.5555555555555556, \"#d8576b\"], [0.6666666666666666, \"#ed7953\"], [0.7777777777777778, \"#fb9f3a\"], [0.8888888888888888, \"#fdca26\"], [1.0, \"#f0f921\"]], \"type\": \"histogram2dcontour\"}], \"mesh3d\": [{\"colorbar\": {\"outlinewidth\": 0, \"ticks\": \"\"}, \"type\": \"mesh3d\"}], \"parcoords\": [{\"line\": {\"colorbar\": {\"outlinewidth\": 0, \"ticks\": \"\"}}, \"type\": \"parcoords\"}], \"pie\": [{\"automargin\": true, \"type\": \"pie\"}], \"scatter\": [{\"marker\": {\"colorbar\": {\"outlinewidth\": 0, \"ticks\": \"\"}}, \"type\": \"scatter\"}], \"scatter3d\": [{\"line\": {\"colorbar\": {\"outlinewidth\": 0, \"ticks\": \"\"}}, \"marker\": {\"colorbar\": {\"outlinewidth\": 0, \"ticks\": \"\"}}, \"type\": \"scatter3d\"}], \"scattercarpet\": [{\"marker\": {\"colorbar\": {\"outlinewidth\": 0, \"ticks\": \"\"}}, \"type\": \"scattercarpet\"}], \"scattergeo\": [{\"marker\": {\"colorbar\": {\"outlinewidth\": 0, \"ticks\": \"\"}}, \"type\": \"scattergeo\"}], \"scattergl\": [{\"marker\": {\"colorbar\": {\"outlinewidth\": 0, \"ticks\": \"\"}}, \"type\": \"scattergl\"}], \"scattermapbox\": [{\"marker\": {\"colorbar\": {\"outlinewidth\": 0, \"ticks\": \"\"}}, \"type\": \"scattermapbox\"}], \"scatterpolar\": [{\"marker\": {\"colorbar\": {\"outlinewidth\": 0, \"ticks\": \"\"}}, \"type\": \"scatterpolar\"}], \"scatterpolargl\": [{\"marker\": {\"colorbar\": {\"outlinewidth\": 0, \"ticks\": \"\"}}, \"type\": \"scatterpolargl\"}], \"scatterternary\": [{\"marker\": {\"colorbar\": {\"outlinewidth\": 0, \"ticks\": \"\"}}, \"type\": \"scatterternary\"}], \"surface\": [{\"colorbar\": {\"outlinewidth\": 0, \"ticks\": \"\"}, \"colorscale\": [[0.0, \"#0d0887\"], [0.1111111111111111, \"#46039f\"], [0.2222222222222222, \"#7201a8\"], [0.3333333333333333, \"#9c179e\"], [0.4444444444444444, \"#bd3786\"], [0.5555555555555556, \"#d8576b\"], [0.6666666666666666, \"#ed7953\"], [0.7777777777777778, \"#fb9f3a\"], [0.8888888888888888, \"#fdca26\"], [1.0, \"#f0f921\"]], \"type\": \"surface\"}], \"table\": [{\"cells\": {\"fill\": {\"color\": \"#EBF0F8\"}, \"line\": {\"color\": \"white\"}}, \"header\": {\"fill\": {\"color\": \"#C8D4E3\"}, \"line\": {\"color\": \"white\"}}, \"type\": \"table\"}]}, \"layout\": {\"annotationdefaults\": {\"arrowcolor\": \"#2a3f5f\", \"arrowhead\": 0, \"arrowwidth\": 1}, \"coloraxis\": {\"colorbar\": {\"outlinewidth\": 0, \"ticks\": \"\"}}, \"colorscale\": {\"diverging\": [[0, \"#8e0152\"], [0.1, \"#c51b7d\"], [0.2, \"#de77ae\"], [0.3, \"#f1b6da\"], [0.4, \"#fde0ef\"], [0.5, \"#f7f7f7\"], [0.6, \"#e6f5d0\"], [0.7, \"#b8e186\"], [0.8, \"#7fbc41\"], [0.9, \"#4d9221\"], [1, \"#276419\"]], \"sequential\": [[0.0, \"#0d0887\"], [0.1111111111111111, \"#46039f\"], [0.2222222222222222, \"#7201a8\"], [0.3333333333333333, \"#9c179e\"], [0.4444444444444444, \"#bd3786\"], [0.5555555555555556, \"#d8576b\"], [0.6666666666666666, \"#ed7953\"], [0.7777777777777778, \"#fb9f3a\"], [0.8888888888888888, \"#fdca26\"], [1.0, \"#f0f921\"]], \"sequentialminus\": [[0.0, \"#0d0887\"], [0.1111111111111111, \"#46039f\"], [0.2222222222222222, \"#7201a8\"], [0.3333333333333333, \"#9c179e\"], [0.4444444444444444, \"#bd3786\"], [0.5555555555555556, \"#d8576b\"], [0.6666666666666666, \"#ed7953\"], [0.7777777777777778, \"#fb9f3a\"], [0.8888888888888888, \"#fdca26\"], [1.0, \"#f0f921\"]]}, \"colorway\": [\"#636efa\", \"#EF553B\", \"#00cc96\", \"#ab63fa\", \"#FFA15A\", \"#19d3f3\", \"#FF6692\", \"#B6E880\", \"#FF97FF\", \"#FECB52\"], \"font\": {\"color\": \"#2a3f5f\"}, \"geo\": {\"bgcolor\": \"white\", \"lakecolor\": \"white\", \"landcolor\": \"#E5ECF6\", \"showlakes\": true, \"showland\": true, \"subunitcolor\": \"white\"}, \"hoverlabel\": {\"align\": \"left\"}, \"hovermode\": \"closest\", \"mapbox\": {\"style\": \"light\"}, \"paper_bgcolor\": \"white\", \"plot_bgcolor\": \"#E5ECF6\", \"polar\": {\"angularaxis\": {\"gridcolor\": \"white\", \"linecolor\": \"white\", \"ticks\": \"\"}, \"bgcolor\": \"#E5ECF6\", \"radialaxis\": {\"gridcolor\": \"white\", \"linecolor\": \"white\", \"ticks\": \"\"}}, \"scene\": {\"xaxis\": {\"backgroundcolor\": \"#E5ECF6\", \"gridcolor\": \"white\", \"gridwidth\": 2, \"linecolor\": \"white\", \"showbackground\": true, \"ticks\": \"\", \"zerolinecolor\": \"white\"}, \"yaxis\": {\"backgroundcolor\": \"#E5ECF6\", \"gridcolor\": \"white\", \"gridwidth\": 2, \"linecolor\": \"white\", \"showbackground\": true, \"ticks\": \"\", \"zerolinecolor\": \"white\"}, \"zaxis\": {\"backgroundcolor\": \"#E5ECF6\", \"gridcolor\": \"white\", \"gridwidth\": 2, \"linecolor\": \"white\", \"showbackground\": true, \"ticks\": \"\", \"zerolinecolor\": \"white\"}}, \"shapedefaults\": {\"line\": {\"color\": \"#2a3f5f\"}}, \"ternary\": {\"aaxis\": {\"gridcolor\": \"white\", \"linecolor\": \"white\", \"ticks\": \"\"}, \"baxis\": {\"gridcolor\": \"white\", \"linecolor\": \"white\", \"ticks\": \"\"}, \"bgcolor\": \"#E5ECF6\", \"caxis\": {\"gridcolor\": \"white\", \"linecolor\": \"white\", \"ticks\": \"\"}}, \"title\": {\"x\": 0.05}, \"xaxis\": {\"automargin\": true, \"gridcolor\": \"white\", \"linecolor\": \"white\", \"ticks\": \"\", \"title\": {\"standoff\": 15}, \"zerolinecolor\": \"white\", \"zerolinewidth\": 2}, \"yaxis\": {\"automargin\": true, \"gridcolor\": \"white\", \"linecolor\": \"white\", \"ticks\": \"\", \"title\": {\"standoff\": 15}, \"zerolinecolor\": \"white\", \"zerolinewidth\": 2}}}, \"title\": {\"text\": \"Total number of deaths per country\"}, \"xaxis\": {\"title\": {\"text\": \"Days after the first reported death\"}}, \"yaxis\": {\"title\": {\"text\": \"Number of deaths\"}}},\n",
       "                        {\"responsive\": true}\n",
       "                    ).then(function(){\n",
       "                            \n",
       "var gd = document.getElementById('443094dc-114d-4adb-96c6-b322fa13c76a');\n",
       "var x = new MutationObserver(function (mutations, observer) {{\n",
       "        var display = window.getComputedStyle(gd).display;\n",
       "        if (!display || display === 'none') {{\n",
       "            console.log([gd, 'removed!']);\n",
       "            Plotly.purge(gd);\n",
       "            observer.disconnect();\n",
       "        }}\n",
       "}});\n",
       "\n",
       "// Listen for the removal of the full notebook cells\n",
       "var notebookContainer = gd.closest('#notebook-container');\n",
       "if (notebookContainer) {{\n",
       "    x.observe(notebookContainer, {childList: true});\n",
       "}}\n",
       "\n",
       "// Listen for the clearing of the current output cell\n",
       "var outputEl = gd.closest('.output');\n",
       "if (outputEl) {{\n",
       "    x.observe(outputEl, {childList: true});\n",
       "}}\n",
       "\n",
       "                        })\n",
       "                };\n",
       "                });\n",
       "            </script>\n",
       "        </div>"
      ]
     },
     "metadata": {},
     "output_type": "display_data"
    }
   ],
   "source": [
    "fig = go.Figure()\n",
    "for row in data_format.iterrows():\n",
    "    to_keep=row[1][1:].values>1\n",
    "    if any(row[1][1:].values>100):\n",
    "        fig.add_trace(go.Scatter(x=np.array(range(-1,to_keep.sum())), y=pd.Series(np.append([0],row[1][1:].values[to_keep])).rolling(7).mean().round(),\n",
    "                        mode='lines',\n",
    "                        name=row[1][0]))\n",
    "    #else :\n",
    "        #print(row[1][0])\n",
    "fig.update_layout(title='Total number of deaths per country',\n",
    "                   xaxis_title='Days after the first reported death',\n",
    "                   yaxis_title='Number of deaths')\n",
    "fig.show();\n"
   ]
  },
  {
   "cell_type": "markdown",
   "metadata": {},
   "source": [
    "# daily death curves"
   ]
  },
  {
   "cell_type": "markdown",
   "metadata": {},
   "source": [
    "##  Fitted exponential curves"
   ]
  },
  {
   "cell_type": "code",
   "execution_count": 191,
   "metadata": {},
   "outputs": [
    {
     "data": {
      "application/vnd.plotly.v1+json": {
       "config": {
        "plotlyServerURL": "https://plot.ly"
       },
       "data": [
        {
         "line": {
          "color": "rgb(214, 39, 40)"
         },
         "name": "Austria",
         "type": "scatter",
         "x": [
          0,
          1,
          2,
          3,
          4,
          5,
          6,
          7,
          8,
          9,
          10,
          11,
          12,
          13,
          14,
          15
         ],
         "y": [
          null,
          null,
          null,
          2,
          3,
          4,
          4,
          6,
          7,
          9,
          10,
          12,
          14,
          null,
          null,
          null
         ]
        },
        {
         "line": {
          "color": "rgb(214, 39, 40)",
          "dash": "dash"
         },
         "name": "Fit - Austria",
         "type": "scatter",
         "x": [
          5,
          6,
          7,
          8,
          9,
          10,
          11,
          12,
          13,
          14,
          15,
          16,
          17,
          18,
          19,
          20
         ],
         "y": [
          4,
          5,
          6,
          7,
          8,
          10,
          12,
          14,
          17,
          21,
          25,
          31,
          37,
          44,
          54,
          65
         ]
        },
        {
         "line": {
          "color": "rgb(148, 103, 189)"
         },
         "name": "Belgium",
         "type": "scatter",
         "x": [
          0,
          1,
          2,
          3,
          4,
          5,
          6,
          7,
          8,
          9,
          10,
          11,
          12,
          13,
          14,
          15,
          16,
          17,
          18,
          19,
          20
         ],
         "y": [
          null,
          null,
          null,
          1,
          2,
          3,
          5,
          9,
          10,
          12,
          16,
          23,
          28,
          36,
          41,
          51,
          61,
          83,
          null,
          null,
          null
         ]
        },
        {
         "line": {
          "color": "rgb(148, 103, 189)",
          "dash": "dash"
         },
         "name": "Fit - Belgium",
         "type": "scatter",
         "x": [
          5,
          6,
          7,
          8,
          9,
          10,
          11,
          12,
          13,
          14,
          15,
          16,
          17,
          18,
          19,
          20,
          21,
          22,
          23,
          24,
          25
         ],
         "y": [
          5,
          7,
          8,
          10,
          13,
          17,
          21,
          26,
          33,
          41,
          52,
          65,
          81,
          102,
          128,
          161,
          202,
          254,
          319,
          401,
          504
         ]
        },
        {
         "line": {
          "color": "rgb(140, 86, 75)"
         },
         "name": "Brazil",
         "type": "scatter",
         "x": [
          0,
          1,
          2,
          3,
          4,
          5,
          6,
          7,
          8,
          9,
          10,
          11,
          12,
          13
         ],
         "y": [
          null,
          null,
          null,
          7,
          8,
          10,
          12,
          14,
          16,
          18,
          22,
          null,
          null,
          null
         ]
        },
        {
         "line": {
          "color": "rgb(140, 86, 75)",
          "dash": "dash"
         },
         "name": "Fit - Brazil",
         "type": "scatter",
         "x": [
          5,
          6,
          7,
          8,
          9,
          10,
          11,
          12,
          13,
          14,
          15,
          16,
          17,
          18
         ],
         "y": [
          10,
          12,
          14,
          16,
          19,
          22,
          26,
          30,
          35,
          41,
          48,
          56,
          66,
          77
         ]
        },
        {
         "line": {
          "color": "rgb(44, 160, 44)"
         },
         "name": "Canada",
         "type": "scatter",
         "x": [
          0,
          1,
          2,
          3,
          4,
          5,
          6,
          7,
          8,
          9,
          10,
          11,
          12,
          13,
          14,
          15
         ],
         "y": [
          null,
          null,
          null,
          3,
          3,
          3,
          3,
          4,
          6,
          6,
          6,
          8,
          11,
          null,
          null,
          null
         ]
        },
        {
         "line": {
          "color": "rgb(44, 160, 44)",
          "dash": "dash"
         },
         "name": "Fit - Canada",
         "type": "scatter",
         "x": [
          5,
          6,
          7,
          8,
          9,
          10,
          11,
          12,
          13,
          14,
          15,
          16,
          17,
          18,
          19,
          20
         ],
         "y": [
          3,
          4,
          4,
          5,
          6,
          7,
          9,
          10,
          12,
          14,
          17,
          20,
          24,
          28,
          33,
          39
         ]
        },
        {
         "line": {
          "color": "rgb(255, 127, 14)"
         },
         "name": "France",
         "type": "scatter",
         "x": [
          0,
          1,
          2,
          3,
          4,
          5,
          6,
          7,
          8,
          9,
          10,
          11,
          12,
          13,
          14,
          15,
          16,
          17,
          18,
          19,
          20,
          21,
          22,
          23,
          24,
          25,
          26,
          27,
          28,
          29,
          30,
          31,
          32,
          33,
          34
         ],
         "y": [
          null,
          null,
          null,
          1,
          0,
          1,
          1,
          1,
          2,
          2,
          4,
          6,
          6,
          10,
          11,
          10,
          19,
          17,
          14,
          28,
          53,
          67,
          84,
          102,
          136,
          169,
          208,
          221,
          251,
          276,
          310,
          347,
          null,
          null,
          null
         ]
        },
        {
         "line": {
          "color": "rgb(255, 127, 14)",
          "dash": "dash"
         },
         "name": "Fit - France",
         "type": "scatter",
         "x": [
          5,
          6,
          7,
          8,
          9,
          10,
          11,
          12,
          13,
          14,
          15,
          16,
          17,
          18,
          19,
          20,
          21,
          22,
          23,
          24,
          25,
          26,
          27,
          28,
          29,
          30,
          31,
          32,
          33,
          34,
          35,
          36,
          37,
          38,
          39
         ],
         "y": [
          5,
          6,
          8,
          9,
          10,
          12,
          15,
          17,
          20,
          24,
          28,
          33,
          39,
          45,
          53,
          63,
          74,
          87,
          103,
          121,
          142,
          167,
          197,
          232,
          273,
          321,
          378,
          445,
          524,
          616,
          725,
          854,
          1005,
          1183,
          1392
         ]
        },
        {
         "line": {
          "color": "rgb(140, 86, 75)"
         },
         "name": "Germany",
         "type": "scatter",
         "x": [
          0,
          1,
          2,
          3,
          4,
          5,
          6,
          7,
          8,
          9,
          10,
          11,
          12,
          13,
          14,
          15,
          16,
          17,
          18,
          19,
          20,
          21,
          22
         ],
         "y": [
          null,
          null,
          null,
          2,
          2,
          3,
          4,
          6,
          9,
          11,
          12,
          15,
          19,
          25,
          32,
          39,
          50,
          63,
          75,
          88,
          null,
          null,
          null
         ]
        },
        {
         "line": {
          "color": "rgb(140, 86, 75)",
          "dash": "dash"
         },
         "name": "Fit - Germany",
         "type": "scatter",
         "x": [
          5,
          6,
          7,
          8,
          9,
          10,
          11,
          12,
          13,
          14,
          15,
          16,
          17,
          18,
          19,
          20,
          21,
          22,
          23,
          24,
          25,
          26,
          27
         ],
         "y": [
          5,
          6,
          7,
          9,
          11,
          13,
          16,
          20,
          25,
          31,
          39,
          48,
          60,
          74,
          91,
          113,
          141,
          174,
          216,
          268,
          332,
          411,
          510
         ]
        },
        {
         "line": {
          "color": "rgb(255, 127, 14)"
         },
         "name": "Indonesia",
         "type": "scatter",
         "x": [
          0,
          1,
          2,
          3,
          4,
          5,
          6,
          7,
          8,
          9,
          10,
          11,
          12,
          13,
          14,
          15,
          16,
          17,
          18
         ],
         "y": [
          null,
          null,
          null,
          4,
          4,
          5,
          6,
          6,
          7,
          6,
          8,
          8,
          9,
          9,
          10,
          12,
          null,
          null,
          null
         ]
        },
        {
         "line": {
          "color": "rgb(255, 127, 14)",
          "dash": "dash"
         },
         "name": "Fit - Indonesia",
         "type": "scatter",
         "x": [
          5,
          6,
          7,
          8,
          9,
          10,
          11,
          12,
          13,
          14,
          15,
          16,
          17,
          18,
          19,
          20,
          21,
          22,
          23
         ],
         "y": [
          5,
          5,
          6,
          6,
          7,
          7,
          8,
          9,
          10,
          10,
          11,
          12,
          13,
          15,
          16,
          17,
          19,
          20,
          22
         ]
        },
        {
         "line": {
          "color": "rgb(44, 160, 44)"
         },
         "name": "Iran",
         "type": "scatter",
         "x": [
          0,
          1,
          2,
          3,
          4,
          5,
          6,
          7,
          8,
          9,
          10,
          11,
          12,
          13,
          14,
          15,
          16,
          17,
          18,
          19,
          20,
          21,
          22,
          23,
          24,
          25,
          26,
          27,
          28,
          29,
          30,
          31,
          32,
          33,
          34,
          35,
          36,
          37,
          38,
          39,
          40,
          41
         ],
         "y": [
          null,
          null,
          null,
          2,
          2,
          3,
          4,
          5,
          7,
          8,
          9,
          10,
          12,
          13,
          15,
          20,
          24,
          31,
          37,
          46,
          56,
          67,
          76,
          88,
          100,
          112,
          122,
          131,
          135,
          137,
          137,
          135,
          135,
          136,
          135,
          137,
          136,
          135,
          138,
          null,
          null,
          null
         ]
        },
        {
         "line": {
          "color": "rgb(44, 160, 44)",
          "dash": "dash"
         },
         "name": "Fit - Iran",
         "type": "scatter",
         "x": [
          5,
          6,
          7,
          8,
          9,
          10,
          11,
          12,
          13,
          14,
          15,
          16,
          17,
          18,
          19,
          20,
          21,
          22,
          23,
          24,
          25,
          26,
          27,
          28,
          29,
          30,
          31,
          32,
          33,
          34,
          35,
          36,
          37,
          38,
          39,
          40,
          41,
          42,
          43,
          44,
          45,
          46
         ],
         "y": [
          22,
          24,
          25,
          27,
          29,
          30,
          32,
          34,
          37,
          39,
          42,
          44,
          47,
          50,
          54,
          57,
          61,
          65,
          69,
          74,
          78,
          84,
          89,
          95,
          101,
          108,
          115,
          122,
          130,
          139,
          148,
          157,
          168,
          179,
          190,
          203,
          216,
          230,
          245,
          261,
          278,
          296
         ]
        },
        {
         "line": {
          "color": "rgb(31, 119, 180)"
         },
         "name": "Italy",
         "type": "scatter",
         "x": [
          0,
          1,
          2,
          3,
          4,
          5,
          6,
          7,
          8,
          9,
          10,
          11,
          12,
          13,
          14,
          15,
          16,
          17,
          18,
          19,
          20,
          21,
          22,
          23,
          24,
          25,
          26,
          27,
          28,
          29,
          30,
          31,
          32,
          33,
          34,
          35,
          36,
          37,
          38
         ],
         "y": [
          null,
          null,
          null,
          3,
          4,
          4,
          6,
          10,
          14,
          19,
          25,
          29,
          47,
          59,
          79,
          103,
          97,
          153,
          173,
          206,
          242,
          267,
          307,
          368,
          395,
          483,
          524,
          560,
          617,
          646,
          687,
          729,
          743,
          758,
          788,
          801,
          null,
          null,
          null
         ]
        },
        {
         "line": {
          "color": "rgb(31, 119, 180)",
          "dash": "dash"
         },
         "name": "Fit - Italy",
         "type": "scatter",
         "x": [
          5,
          6,
          7,
          8,
          9,
          10,
          11,
          12,
          13,
          14,
          15,
          16,
          17,
          18,
          19,
          20,
          21,
          22,
          23,
          24,
          25,
          26,
          27,
          28,
          29,
          30,
          31,
          32,
          33,
          34,
          35,
          36,
          37,
          38,
          39,
          40,
          41,
          42,
          43
         ],
         "y": [
          63,
          68,
          75,
          82,
          90,
          98,
          108,
          118,
          129,
          142,
          155,
          170,
          186,
          204,
          223,
          245,
          268,
          293,
          321,
          352,
          386,
          422,
          462,
          506,
          555,
          608,
          665,
          729,
          798,
          874,
          957,
          1049,
          1148,
          1258,
          1378,
          1509,
          1652,
          1810,
          1982
         ]
        },
        {
         "line": {
          "color": "rgb(31, 119, 180)"
         },
         "name": "Korea, South",
         "type": "scatter",
         "x": [
          0,
          1,
          2,
          3,
          4,
          5,
          6,
          7,
          8,
          9,
          10,
          11,
          12,
          13,
          14,
          15,
          16,
          17,
          18,
          19,
          20,
          21,
          22,
          23,
          24,
          25,
          26,
          27,
          28,
          29,
          30,
          31,
          32,
          33,
          34,
          35,
          36,
          37,
          38,
          39
         ],
         "y": [
          null,
          null,
          null,
          2,
          2,
          2,
          2,
          3,
          3,
          3,
          3,
          4,
          4,
          5,
          4,
          4,
          4,
          4,
          3,
          4,
          4,
          3,
          4,
          3,
          4,
          4,
          4,
          5,
          5,
          6,
          6,
          6,
          6,
          6,
          6,
          7,
          6,
          null,
          null,
          null
         ]
        },
        {
         "line": {
          "color": "rgb(31, 119, 180)",
          "dash": "dash"
         },
         "name": "Fit - Korea, South",
         "type": "scatter",
         "x": [
          5,
          6,
          7,
          8,
          9,
          10,
          11,
          12,
          13,
          14,
          15,
          16,
          17,
          18,
          19,
          20,
          21,
          22,
          23,
          24,
          25,
          26,
          27,
          28,
          29,
          30,
          31,
          32,
          33,
          34,
          35,
          36,
          37,
          38,
          39,
          40,
          41,
          42,
          43,
          44
         ],
         "y": [
          3,
          3,
          3,
          3,
          3,
          3,
          3,
          3,
          3,
          3,
          3,
          4,
          4,
          4,
          4,
          4,
          4,
          4,
          4,
          5,
          5,
          5,
          5,
          5,
          5,
          5,
          6,
          6,
          6,
          6,
          6,
          6,
          7,
          7,
          7,
          7,
          8,
          8,
          8,
          8
         ]
        },
        {
         "line": {
          "color": "rgb(140, 86, 75)"
         },
         "name": "Netherlands",
         "type": "scatter",
         "x": [
          0,
          1,
          2,
          3,
          4,
          5,
          6,
          7,
          8,
          9,
          10,
          11,
          12,
          13,
          14,
          15,
          16,
          17,
          18,
          19,
          20,
          21,
          22,
          23
         ],
         "y": [
          null,
          null,
          null,
          2,
          2,
          3,
          6,
          8,
          10,
          14,
          18,
          23,
          27,
          33,
          43,
          51,
          63,
          72,
          85,
          93,
          109,
          null,
          null,
          null
         ]
        },
        {
         "line": {
          "color": "rgb(140, 86, 75)",
          "dash": "dash"
         },
         "name": "Fit - Netherlands",
         "type": "scatter",
         "x": [
          5,
          6,
          7,
          8,
          9,
          10,
          11,
          12,
          13,
          14,
          15,
          16,
          17,
          18,
          19,
          20,
          21,
          22,
          23,
          24,
          25,
          26,
          27,
          28
         ],
         "y": [
          8,
          10,
          12,
          14,
          16,
          20,
          23,
          28,
          33,
          40,
          47,
          57,
          68,
          81,
          96,
          115,
          137,
          163,
          195,
          232,
          277,
          331,
          395,
          471
         ]
        },
        {
         "line": {
          "color": "rgb(44, 160, 44)"
         },
         "name": "Portugal",
         "type": "scatter",
         "x": [
          0,
          1,
          2,
          3,
          4,
          5,
          6,
          7,
          8,
          9,
          10,
          11,
          12,
          13
         ],
         "y": [
          null,
          null,
          null,
          5,
          6,
          8,
          10,
          13,
          15,
          17,
          18,
          null,
          null,
          null
         ]
        },
        {
         "line": {
          "color": "rgb(44, 160, 44)",
          "dash": "dash"
         },
         "name": "Fit - Portugal",
         "type": "scatter",
         "x": [
          5,
          6,
          7,
          8,
          9,
          10,
          11,
          12,
          13,
          14,
          15,
          16,
          17,
          18
         ],
         "y": [
          8,
          10,
          12,
          14,
          16,
          19,
          23,
          27,
          32,
          38,
          45,
          54,
          64,
          75
         ]
        },
        {
         "line": {
          "color": "rgb(214, 39, 40)"
         },
         "name": "Spain",
         "type": "scatter",
         "x": [
          0,
          1,
          2,
          3,
          4,
          5,
          6,
          7,
          8,
          9,
          10,
          11,
          12,
          13,
          14,
          15,
          16,
          17,
          18,
          19,
          20,
          21,
          22,
          23,
          24,
          25,
          26,
          27
         ],
         "y": [
          null,
          null,
          null,
          5,
          7,
          7,
          18,
          26,
          39,
          45,
          71,
          81,
          111,
          130,
          169,
          212,
          281,
          325,
          432,
          505,
          585,
          658,
          719,
          772,
          808,
          null,
          null,
          null
         ]
        },
        {
         "line": {
          "color": "rgb(214, 39, 40)",
          "dash": "dash"
         },
         "name": "Fit - Spain",
         "type": "scatter",
         "x": [
          5,
          6,
          7,
          8,
          9,
          10,
          11,
          12,
          13,
          14,
          15,
          16,
          17,
          18,
          19,
          20,
          21,
          22,
          23,
          24,
          25,
          26,
          27,
          28,
          29,
          30,
          31,
          32
         ],
         "y": [
          50,
          59,
          68,
          80,
          93,
          108,
          126,
          147,
          171,
          200,
          233,
          271,
          316,
          368,
          429,
          500,
          583,
          680,
          793,
          924,
          1077,
          1255,
          1463,
          1705,
          1988,
          2317,
          2701,
          3148
         ]
        },
        {
         "line": {
          "color": "rgb(255, 127, 14)"
         },
         "name": "Sweden",
         "type": "scatter",
         "x": [
          0,
          1,
          2,
          3,
          4,
          5,
          6,
          7,
          8,
          9,
          10,
          11,
          12,
          13,
          14,
          15,
          16,
          17
         ],
         "y": [
          null,
          null,
          null,
          2,
          3,
          3,
          3,
          4,
          7,
          9,
          13,
          12,
          13,
          17,
          21,
          null,
          null,
          null
         ]
        },
        {
         "line": {
          "color": "rgb(255, 127, 14)",
          "dash": "dash"
         },
         "name": "Fit - Sweden",
         "type": "scatter",
         "x": [
          5,
          6,
          7,
          8,
          9,
          10,
          11,
          12,
          13,
          14,
          15,
          16,
          17,
          18,
          19,
          20,
          21,
          22
         ],
         "y": [
          4,
          4,
          5,
          7,
          8,
          10,
          12,
          14,
          17,
          21,
          26,
          31,
          38,
          46,
          55,
          67,
          82,
          99
         ]
        },
        {
         "line": {
          "color": "rgb(44, 160, 44)"
         },
         "name": "Switzerland",
         "type": "scatter",
         "x": [
          0,
          1,
          2,
          3,
          4,
          5,
          6,
          7,
          8,
          9,
          10,
          11,
          12,
          13,
          14,
          15,
          16,
          17,
          18,
          19,
          20,
          21,
          22,
          23
         ],
         "y": [
          null,
          null,
          null,
          2,
          2,
          2,
          3,
          3,
          5,
          6,
          9,
          12,
          15,
          14,
          18,
          21,
          25,
          27,
          29,
          34,
          44,
          null,
          null,
          null
         ]
        },
        {
         "line": {
          "color": "rgb(44, 160, 44)",
          "dash": "dash"
         },
         "name": "Fit - Switzerland",
         "type": "scatter",
         "x": [
          5,
          6,
          7,
          8,
          9,
          10,
          11,
          12,
          13,
          14,
          15,
          16,
          17,
          18,
          19,
          20,
          21,
          22,
          23,
          24,
          25,
          26,
          27,
          28
         ],
         "y": [
          4,
          5,
          5,
          6,
          7,
          9,
          10,
          12,
          14,
          17,
          19,
          23,
          27,
          31,
          37,
          43,
          50,
          59,
          69,
          81,
          95,
          111,
          130,
          152
         ]
        },
        {
         "line": {
          "color": "rgb(140, 86, 75)"
         },
         "name": "Turkey",
         "type": "scatter",
         "x": [
          0,
          1,
          2,
          3,
          4,
          5,
          6,
          7,
          8,
          9,
          10,
          11,
          12
         ],
         "y": [
          null,
          null,
          null,
          8,
          10,
          13,
          14,
          14,
          19,
          24,
          null,
          null,
          null
         ]
        },
        {
         "line": {
          "color": "rgb(140, 86, 75)",
          "dash": "dash"
         },
         "name": "Fit - Turkey",
         "type": "scatter",
         "x": [
          5,
          6,
          7,
          8,
          9,
          10,
          11,
          12,
          13,
          14,
          15,
          16,
          17
         ],
         "y": [
          12,
          14,
          16,
          19,
          23,
          27,
          32,
          39,
          46,
          54,
          65,
          77,
          91
         ]
        },
        {
         "line": {
          "color": "rgb(31, 119, 180)"
         },
         "name": "US",
         "type": "scatter",
         "x": [
          0,
          1,
          2,
          3,
          4,
          5,
          6,
          7,
          8,
          9,
          10,
          11,
          12,
          13,
          14,
          15,
          16,
          17,
          18,
          19,
          20,
          21,
          22,
          23,
          24,
          25,
          26,
          27,
          28,
          29
         ],
         "y": [
          null,
          null,
          null,
          3,
          2,
          3,
          4,
          4,
          5,
          5,
          6,
          9,
          11,
          12,
          23,
          28,
          36,
          51,
          67,
          85,
          118,
          144,
          191,
          246,
          293,
          346,
          452,
          null,
          null,
          null
         ]
        },
        {
         "line": {
          "color": "rgb(31, 119, 180)",
          "dash": "dash"
         },
         "name": "Fit - US",
         "type": "scatter",
         "x": [
          5,
          6,
          7,
          8,
          9,
          10,
          11,
          12,
          13,
          14,
          15,
          16,
          17,
          18,
          19,
          20,
          21,
          22,
          23,
          24,
          25,
          26,
          27,
          28,
          29,
          30,
          31,
          32,
          33,
          34
         ],
         "y": [
          3,
          4,
          6,
          7,
          9,
          11,
          14,
          18,
          22,
          28,
          35,
          45,
          56,
          71,
          90,
          113,
          143,
          180,
          227,
          286,
          361,
          455,
          574,
          724,
          913,
          1152,
          1453,
          1832,
          2311,
          2914
         ]
        },
        {
         "line": {
          "color": "rgb(148, 103, 189)"
         },
         "name": "United Kingdom",
         "type": "scatter",
         "x": [
          0,
          1,
          2,
          3,
          4,
          5,
          6,
          7,
          8,
          9,
          10,
          11,
          12,
          13,
          14,
          15,
          16,
          17,
          18,
          19,
          20,
          21,
          22,
          23,
          24,
          25
         ],
         "y": [
          null,
          null,
          null,
          1,
          1,
          3,
          3,
          7,
          7,
          9,
          19,
          24,
          30,
          37,
          40,
          52,
          56,
          63,
          83,
          112,
          136,
          154,
          196,
          null,
          null,
          null
         ]
        },
        {
         "line": {
          "color": "rgb(148, 103, 189)",
          "dash": "dash"
         },
         "name": "Fit - United Kingdom",
         "type": "scatter",
         "x": [
          5,
          6,
          7,
          8,
          9,
          10,
          11,
          12,
          13,
          14,
          15,
          16,
          17,
          18,
          19,
          20,
          21,
          22,
          23,
          24,
          25,
          26,
          27,
          28,
          29,
          30
         ],
         "y": [
          6,
          8,
          9,
          11,
          14,
          17,
          21,
          26,
          31,
          39,
          47,
          58,
          71,
          87,
          106,
          130,
          160,
          195,
          239,
          293,
          359,
          440,
          539,
          661,
          809,
          991
         ]
        }
       ],
       "layout": {
        "template": {
         "data": {
          "bar": [
           {
            "error_x": {
             "color": "#2a3f5f"
            },
            "error_y": {
             "color": "#2a3f5f"
            },
            "marker": {
             "line": {
              "color": "#E5ECF6",
              "width": 0.5
             }
            },
            "type": "bar"
           }
          ],
          "barpolar": [
           {
            "marker": {
             "line": {
              "color": "#E5ECF6",
              "width": 0.5
             }
            },
            "type": "barpolar"
           }
          ],
          "carpet": [
           {
            "aaxis": {
             "endlinecolor": "#2a3f5f",
             "gridcolor": "white",
             "linecolor": "white",
             "minorgridcolor": "white",
             "startlinecolor": "#2a3f5f"
            },
            "baxis": {
             "endlinecolor": "#2a3f5f",
             "gridcolor": "white",
             "linecolor": "white",
             "minorgridcolor": "white",
             "startlinecolor": "#2a3f5f"
            },
            "type": "carpet"
           }
          ],
          "choropleth": [
           {
            "colorbar": {
             "outlinewidth": 0,
             "ticks": ""
            },
            "type": "choropleth"
           }
          ],
          "contour": [
           {
            "colorbar": {
             "outlinewidth": 0,
             "ticks": ""
            },
            "colorscale": [
             [
              0,
              "#0d0887"
             ],
             [
              0.1111111111111111,
              "#46039f"
             ],
             [
              0.2222222222222222,
              "#7201a8"
             ],
             [
              0.3333333333333333,
              "#9c179e"
             ],
             [
              0.4444444444444444,
              "#bd3786"
             ],
             [
              0.5555555555555556,
              "#d8576b"
             ],
             [
              0.6666666666666666,
              "#ed7953"
             ],
             [
              0.7777777777777778,
              "#fb9f3a"
             ],
             [
              0.8888888888888888,
              "#fdca26"
             ],
             [
              1,
              "#f0f921"
             ]
            ],
            "type": "contour"
           }
          ],
          "contourcarpet": [
           {
            "colorbar": {
             "outlinewidth": 0,
             "ticks": ""
            },
            "type": "contourcarpet"
           }
          ],
          "heatmap": [
           {
            "colorbar": {
             "outlinewidth": 0,
             "ticks": ""
            },
            "colorscale": [
             [
              0,
              "#0d0887"
             ],
             [
              0.1111111111111111,
              "#46039f"
             ],
             [
              0.2222222222222222,
              "#7201a8"
             ],
             [
              0.3333333333333333,
              "#9c179e"
             ],
             [
              0.4444444444444444,
              "#bd3786"
             ],
             [
              0.5555555555555556,
              "#d8576b"
             ],
             [
              0.6666666666666666,
              "#ed7953"
             ],
             [
              0.7777777777777778,
              "#fb9f3a"
             ],
             [
              0.8888888888888888,
              "#fdca26"
             ],
             [
              1,
              "#f0f921"
             ]
            ],
            "type": "heatmap"
           }
          ],
          "heatmapgl": [
           {
            "colorbar": {
             "outlinewidth": 0,
             "ticks": ""
            },
            "colorscale": [
             [
              0,
              "#0d0887"
             ],
             [
              0.1111111111111111,
              "#46039f"
             ],
             [
              0.2222222222222222,
              "#7201a8"
             ],
             [
              0.3333333333333333,
              "#9c179e"
             ],
             [
              0.4444444444444444,
              "#bd3786"
             ],
             [
              0.5555555555555556,
              "#d8576b"
             ],
             [
              0.6666666666666666,
              "#ed7953"
             ],
             [
              0.7777777777777778,
              "#fb9f3a"
             ],
             [
              0.8888888888888888,
              "#fdca26"
             ],
             [
              1,
              "#f0f921"
             ]
            ],
            "type": "heatmapgl"
           }
          ],
          "histogram": [
           {
            "marker": {
             "colorbar": {
              "outlinewidth": 0,
              "ticks": ""
             }
            },
            "type": "histogram"
           }
          ],
          "histogram2d": [
           {
            "colorbar": {
             "outlinewidth": 0,
             "ticks": ""
            },
            "colorscale": [
             [
              0,
              "#0d0887"
             ],
             [
              0.1111111111111111,
              "#46039f"
             ],
             [
              0.2222222222222222,
              "#7201a8"
             ],
             [
              0.3333333333333333,
              "#9c179e"
             ],
             [
              0.4444444444444444,
              "#bd3786"
             ],
             [
              0.5555555555555556,
              "#d8576b"
             ],
             [
              0.6666666666666666,
              "#ed7953"
             ],
             [
              0.7777777777777778,
              "#fb9f3a"
             ],
             [
              0.8888888888888888,
              "#fdca26"
             ],
             [
              1,
              "#f0f921"
             ]
            ],
            "type": "histogram2d"
           }
          ],
          "histogram2dcontour": [
           {
            "colorbar": {
             "outlinewidth": 0,
             "ticks": ""
            },
            "colorscale": [
             [
              0,
              "#0d0887"
             ],
             [
              0.1111111111111111,
              "#46039f"
             ],
             [
              0.2222222222222222,
              "#7201a8"
             ],
             [
              0.3333333333333333,
              "#9c179e"
             ],
             [
              0.4444444444444444,
              "#bd3786"
             ],
             [
              0.5555555555555556,
              "#d8576b"
             ],
             [
              0.6666666666666666,
              "#ed7953"
             ],
             [
              0.7777777777777778,
              "#fb9f3a"
             ],
             [
              0.8888888888888888,
              "#fdca26"
             ],
             [
              1,
              "#f0f921"
             ]
            ],
            "type": "histogram2dcontour"
           }
          ],
          "mesh3d": [
           {
            "colorbar": {
             "outlinewidth": 0,
             "ticks": ""
            },
            "type": "mesh3d"
           }
          ],
          "parcoords": [
           {
            "line": {
             "colorbar": {
              "outlinewidth": 0,
              "ticks": ""
             }
            },
            "type": "parcoords"
           }
          ],
          "pie": [
           {
            "automargin": true,
            "type": "pie"
           }
          ],
          "scatter": [
           {
            "marker": {
             "colorbar": {
              "outlinewidth": 0,
              "ticks": ""
             }
            },
            "type": "scatter"
           }
          ],
          "scatter3d": [
           {
            "line": {
             "colorbar": {
              "outlinewidth": 0,
              "ticks": ""
             }
            },
            "marker": {
             "colorbar": {
              "outlinewidth": 0,
              "ticks": ""
             }
            },
            "type": "scatter3d"
           }
          ],
          "scattercarpet": [
           {
            "marker": {
             "colorbar": {
              "outlinewidth": 0,
              "ticks": ""
             }
            },
            "type": "scattercarpet"
           }
          ],
          "scattergeo": [
           {
            "marker": {
             "colorbar": {
              "outlinewidth": 0,
              "ticks": ""
             }
            },
            "type": "scattergeo"
           }
          ],
          "scattergl": [
           {
            "marker": {
             "colorbar": {
              "outlinewidth": 0,
              "ticks": ""
             }
            },
            "type": "scattergl"
           }
          ],
          "scattermapbox": [
           {
            "marker": {
             "colorbar": {
              "outlinewidth": 0,
              "ticks": ""
             }
            },
            "type": "scattermapbox"
           }
          ],
          "scatterpolar": [
           {
            "marker": {
             "colorbar": {
              "outlinewidth": 0,
              "ticks": ""
             }
            },
            "type": "scatterpolar"
           }
          ],
          "scatterpolargl": [
           {
            "marker": {
             "colorbar": {
              "outlinewidth": 0,
              "ticks": ""
             }
            },
            "type": "scatterpolargl"
           }
          ],
          "scatterternary": [
           {
            "marker": {
             "colorbar": {
              "outlinewidth": 0,
              "ticks": ""
             }
            },
            "type": "scatterternary"
           }
          ],
          "surface": [
           {
            "colorbar": {
             "outlinewidth": 0,
             "ticks": ""
            },
            "colorscale": [
             [
              0,
              "#0d0887"
             ],
             [
              0.1111111111111111,
              "#46039f"
             ],
             [
              0.2222222222222222,
              "#7201a8"
             ],
             [
              0.3333333333333333,
              "#9c179e"
             ],
             [
              0.4444444444444444,
              "#bd3786"
             ],
             [
              0.5555555555555556,
              "#d8576b"
             ],
             [
              0.6666666666666666,
              "#ed7953"
             ],
             [
              0.7777777777777778,
              "#fb9f3a"
             ],
             [
              0.8888888888888888,
              "#fdca26"
             ],
             [
              1,
              "#f0f921"
             ]
            ],
            "type": "surface"
           }
          ],
          "table": [
           {
            "cells": {
             "fill": {
              "color": "#EBF0F8"
             },
             "line": {
              "color": "white"
             }
            },
            "header": {
             "fill": {
              "color": "#C8D4E3"
             },
             "line": {
              "color": "white"
             }
            },
            "type": "table"
           }
          ]
         },
         "layout": {
          "annotationdefaults": {
           "arrowcolor": "#2a3f5f",
           "arrowhead": 0,
           "arrowwidth": 1
          },
          "coloraxis": {
           "colorbar": {
            "outlinewidth": 0,
            "ticks": ""
           }
          },
          "colorscale": {
           "diverging": [
            [
             0,
             "#8e0152"
            ],
            [
             0.1,
             "#c51b7d"
            ],
            [
             0.2,
             "#de77ae"
            ],
            [
             0.3,
             "#f1b6da"
            ],
            [
             0.4,
             "#fde0ef"
            ],
            [
             0.5,
             "#f7f7f7"
            ],
            [
             0.6,
             "#e6f5d0"
            ],
            [
             0.7,
             "#b8e186"
            ],
            [
             0.8,
             "#7fbc41"
            ],
            [
             0.9,
             "#4d9221"
            ],
            [
             1,
             "#276419"
            ]
           ],
           "sequential": [
            [
             0,
             "#0d0887"
            ],
            [
             0.1111111111111111,
             "#46039f"
            ],
            [
             0.2222222222222222,
             "#7201a8"
            ],
            [
             0.3333333333333333,
             "#9c179e"
            ],
            [
             0.4444444444444444,
             "#bd3786"
            ],
            [
             0.5555555555555556,
             "#d8576b"
            ],
            [
             0.6666666666666666,
             "#ed7953"
            ],
            [
             0.7777777777777778,
             "#fb9f3a"
            ],
            [
             0.8888888888888888,
             "#fdca26"
            ],
            [
             1,
             "#f0f921"
            ]
           ],
           "sequentialminus": [
            [
             0,
             "#0d0887"
            ],
            [
             0.1111111111111111,
             "#46039f"
            ],
            [
             0.2222222222222222,
             "#7201a8"
            ],
            [
             0.3333333333333333,
             "#9c179e"
            ],
            [
             0.4444444444444444,
             "#bd3786"
            ],
            [
             0.5555555555555556,
             "#d8576b"
            ],
            [
             0.6666666666666666,
             "#ed7953"
            ],
            [
             0.7777777777777778,
             "#fb9f3a"
            ],
            [
             0.8888888888888888,
             "#fdca26"
            ],
            [
             1,
             "#f0f921"
            ]
           ]
          },
          "colorway": [
           "#636efa",
           "#EF553B",
           "#00cc96",
           "#ab63fa",
           "#FFA15A",
           "#19d3f3",
           "#FF6692",
           "#B6E880",
           "#FF97FF",
           "#FECB52"
          ],
          "font": {
           "color": "#2a3f5f"
          },
          "geo": {
           "bgcolor": "white",
           "lakecolor": "white",
           "landcolor": "#E5ECF6",
           "showlakes": true,
           "showland": true,
           "subunitcolor": "white"
          },
          "hoverlabel": {
           "align": "left"
          },
          "hovermode": "closest",
          "mapbox": {
           "style": "light"
          },
          "paper_bgcolor": "white",
          "plot_bgcolor": "#E5ECF6",
          "polar": {
           "angularaxis": {
            "gridcolor": "white",
            "linecolor": "white",
            "ticks": ""
           },
           "bgcolor": "#E5ECF6",
           "radialaxis": {
            "gridcolor": "white",
            "linecolor": "white",
            "ticks": ""
           }
          },
          "scene": {
           "xaxis": {
            "backgroundcolor": "#E5ECF6",
            "gridcolor": "white",
            "gridwidth": 2,
            "linecolor": "white",
            "showbackground": true,
            "ticks": "",
            "zerolinecolor": "white"
           },
           "yaxis": {
            "backgroundcolor": "#E5ECF6",
            "gridcolor": "white",
            "gridwidth": 2,
            "linecolor": "white",
            "showbackground": true,
            "ticks": "",
            "zerolinecolor": "white"
           },
           "zaxis": {
            "backgroundcolor": "#E5ECF6",
            "gridcolor": "white",
            "gridwidth": 2,
            "linecolor": "white",
            "showbackground": true,
            "ticks": "",
            "zerolinecolor": "white"
           }
          },
          "shapedefaults": {
           "line": {
            "color": "#2a3f5f"
           }
          },
          "ternary": {
           "aaxis": {
            "gridcolor": "white",
            "linecolor": "white",
            "ticks": ""
           },
           "baxis": {
            "gridcolor": "white",
            "linecolor": "white",
            "ticks": ""
           },
           "bgcolor": "#E5ECF6",
           "caxis": {
            "gridcolor": "white",
            "linecolor": "white",
            "ticks": ""
           }
          },
          "title": {
           "x": 0.05
          },
          "xaxis": {
           "automargin": true,
           "gridcolor": "white",
           "linecolor": "white",
           "ticks": "",
           "title": {
            "standoff": 15
           },
           "zerolinecolor": "white",
           "zerolinewidth": 2
          },
          "yaxis": {
           "automargin": true,
           "gridcolor": "white",
           "linecolor": "white",
           "ticks": "",
           "title": {
            "standoff": 15
           },
           "zerolinecolor": "white",
           "zerolinewidth": 2
          }
         }
        },
        "title": {
         "text": "Daily number of deaths per country"
        },
        "xaxis": {
         "title": {
          "text": "Days after the first reported death"
         }
        },
        "yaxis": {
         "title": {
          "text": "Number of deaths"
         }
        }
       }
      },
      "text/html": [
       "<div>\n",
       "        \n",
       "        \n",
       "            <div id=\"faeaf56e-c629-4c07-b662-2414b8747613\" class=\"plotly-graph-div\" style=\"height:525px; width:100%;\"></div>\n",
       "            <script type=\"text/javascript\">\n",
       "                require([\"plotly\"], function(Plotly) {\n",
       "                    window.PLOTLYENV=window.PLOTLYENV || {};\n",
       "                    \n",
       "                if (document.getElementById(\"faeaf56e-c629-4c07-b662-2414b8747613\")) {\n",
       "                    Plotly.newPlot(\n",
       "                        'faeaf56e-c629-4c07-b662-2414b8747613',\n",
       "                        [{\"line\": {\"color\": \"rgb(214, 39, 40)\"}, \"name\": \"Austria\", \"type\": \"scatter\", \"x\": [0, 1, 2, 3, 4, 5, 6, 7, 8, 9, 10, 11, 12, 13, 14, 15], \"y\": [null, null, null, 2.0, 3.0, 4.0, 4.0, 6.0, 7.0, 9.0, 10.0, 12.0, 14.0, null, null, null]}, {\"line\": {\"color\": \"rgb(214, 39, 40)\", \"dash\": \"dash\"}, \"name\": \"Fit - Austria\", \"type\": \"scatter\", \"x\": [5.0, 6.0, 7.0, 8.0, 9.0, 10.0, 11.0, 12.0, 13.0, 14.0, 15.0, 16.0, 17.0, 18.0, 19.0, 20.0], \"y\": [4.0, 5.0, 6.0, 7.0, 8.0, 10.0, 12.0, 14.0, 17.0, 21.0, 25.0, 31.0, 37.0, 44.0, 54.0, 65.0]}, {\"line\": {\"color\": \"rgb(148, 103, 189)\"}, \"name\": \"Belgium\", \"type\": \"scatter\", \"x\": [0, 1, 2, 3, 4, 5, 6, 7, 8, 9, 10, 11, 12, 13, 14, 15, 16, 17, 18, 19, 20], \"y\": [null, null, null, 1.0, 2.0, 3.0, 5.0, 9.0, 10.0, 12.0, 16.0, 23.0, 28.0, 36.0, 41.0, 51.0, 61.0, 83.0, null, null, null]}, {\"line\": {\"color\": \"rgb(148, 103, 189)\", \"dash\": \"dash\"}, \"name\": \"Fit - Belgium\", \"type\": \"scatter\", \"x\": [5.0, 6.0, 7.0, 8.0, 9.0, 10.0, 11.0, 12.0, 13.0, 14.0, 15.0, 16.0, 17.0, 18.0, 19.0, 20.0, 21.0, 22.0, 23.0, 24.0, 25.0], \"y\": [5.0, 7.0, 8.0, 10.0, 13.0, 17.0, 21.0, 26.0, 33.0, 41.0, 52.0, 65.0, 81.0, 102.0, 128.0, 161.0, 202.0, 254.0, 319.0, 401.0, 504.0]}, {\"line\": {\"color\": \"rgb(140, 86, 75)\"}, \"name\": \"Brazil\", \"type\": \"scatter\", \"x\": [0, 1, 2, 3, 4, 5, 6, 7, 8, 9, 10, 11, 12, 13], \"y\": [null, null, null, 7.0, 8.0, 10.0, 12.0, 14.0, 16.0, 18.0, 22.0, null, null, null]}, {\"line\": {\"color\": \"rgb(140, 86, 75)\", \"dash\": \"dash\"}, \"name\": \"Fit - Brazil\", \"type\": \"scatter\", \"x\": [5.0, 6.0, 7.0, 8.0, 9.0, 10.0, 11.0, 12.0, 13.0, 14.0, 15.0, 16.0, 17.0, 18.0], \"y\": [10.0, 12.0, 14.0, 16.0, 19.0, 22.0, 26.0, 30.0, 35.0, 41.0, 48.0, 56.0, 66.0, 77.0]}, {\"line\": {\"color\": \"rgb(44, 160, 44)\"}, \"name\": \"Canada\", \"type\": \"scatter\", \"x\": [0, 1, 2, 3, 4, 5, 6, 7, 8, 9, 10, 11, 12, 13, 14, 15], \"y\": [null, null, null, 3.0, 3.0, 3.0, 3.0, 4.0, 6.0, 6.0, 6.0, 8.0, 11.0, null, null, null]}, {\"line\": {\"color\": \"rgb(44, 160, 44)\", \"dash\": \"dash\"}, \"name\": \"Fit - Canada\", \"type\": \"scatter\", \"x\": [5.0, 6.0, 7.0, 8.0, 9.0, 10.0, 11.0, 12.0, 13.0, 14.0, 15.0, 16.0, 17.0, 18.0, 19.0, 20.0], \"y\": [3.0, 4.0, 4.0, 5.0, 6.0, 7.0, 9.0, 10.0, 12.0, 14.0, 17.0, 20.0, 24.0, 28.0, 33.0, 39.0]}, {\"line\": {\"color\": \"rgb(255, 127, 14)\"}, \"name\": \"France\", \"type\": \"scatter\", \"x\": [0, 1, 2, 3, 4, 5, 6, 7, 8, 9, 10, 11, 12, 13, 14, 15, 16, 17, 18, 19, 20, 21, 22, 23, 24, 25, 26, 27, 28, 29, 30, 31, 32, 33, 34], \"y\": [null, null, null, 1.0, 0.0, 1.0, 1.0, 1.0, 2.0, 2.0, 4.0, 6.0, 6.0, 10.0, 11.0, 10.0, 19.0, 17.0, 14.0, 28.0, 53.0, 67.0, 84.0, 102.0, 136.0, 169.0, 208.0, 221.0, 251.0, 276.0, 310.0, 347.0, null, null, null]}, {\"line\": {\"color\": \"rgb(255, 127, 14)\", \"dash\": \"dash\"}, \"name\": \"Fit - France\", \"type\": \"scatter\", \"x\": [5.0, 6.0, 7.0, 8.0, 9.0, 10.0, 11.0, 12.0, 13.0, 14.0, 15.0, 16.0, 17.0, 18.0, 19.0, 20.0, 21.0, 22.0, 23.0, 24.0, 25.0, 26.0, 27.0, 28.0, 29.0, 30.0, 31.0, 32.0, 33.0, 34.0, 35.0, 36.0, 37.0, 38.0, 39.0], \"y\": [5.0, 6.0, 8.0, 9.0, 10.0, 12.0, 15.0, 17.0, 20.0, 24.0, 28.0, 33.0, 39.0, 45.0, 53.0, 63.0, 74.0, 87.0, 103.0, 121.0, 142.0, 167.0, 197.0, 232.0, 273.0, 321.0, 378.0, 445.0, 524.0, 616.0, 725.0, 854.0, 1005.0, 1183.0, 1392.0]}, {\"line\": {\"color\": \"rgb(140, 86, 75)\"}, \"name\": \"Germany\", \"type\": \"scatter\", \"x\": [0, 1, 2, 3, 4, 5, 6, 7, 8, 9, 10, 11, 12, 13, 14, 15, 16, 17, 18, 19, 20, 21, 22], \"y\": [null, null, null, 2.0, 2.0, 3.0, 4.0, 6.0, 9.0, 11.0, 12.0, 15.0, 19.0, 25.0, 32.0, 39.0, 50.0, 63.0, 75.0, 88.0, null, null, null]}, {\"line\": {\"color\": \"rgb(140, 86, 75)\", \"dash\": \"dash\"}, \"name\": \"Fit - Germany\", \"type\": \"scatter\", \"x\": [5.0, 6.0, 7.0, 8.0, 9.0, 10.0, 11.0, 12.0, 13.0, 14.0, 15.0, 16.0, 17.0, 18.0, 19.0, 20.0, 21.0, 22.0, 23.0, 24.0, 25.0, 26.0, 27.0], \"y\": [5.0, 6.0, 7.0, 9.0, 11.0, 13.0, 16.0, 20.0, 25.0, 31.0, 39.0, 48.0, 60.0, 74.0, 91.0, 113.0, 141.0, 174.0, 216.0, 268.0, 332.0, 411.0, 510.0]}, {\"line\": {\"color\": \"rgb(255, 127, 14)\"}, \"name\": \"Indonesia\", \"type\": \"scatter\", \"x\": [0, 1, 2, 3, 4, 5, 6, 7, 8, 9, 10, 11, 12, 13, 14, 15, 16, 17, 18], \"y\": [null, null, null, 4.0, 4.0, 5.0, 6.0, 6.0, 7.0, 6.0, 8.0, 8.0, 9.0, 9.0, 10.0, 12.0, null, null, null]}, {\"line\": {\"color\": \"rgb(255, 127, 14)\", \"dash\": \"dash\"}, \"name\": \"Fit - Indonesia\", \"type\": \"scatter\", \"x\": [5.0, 6.0, 7.0, 8.0, 9.0, 10.0, 11.0, 12.0, 13.0, 14.0, 15.0, 16.0, 17.0, 18.0, 19.0, 20.0, 21.0, 22.0, 23.0], \"y\": [5.0, 5.0, 6.0, 6.0, 7.0, 7.0, 8.0, 9.0, 10.0, 10.0, 11.0, 12.0, 13.0, 15.0, 16.0, 17.0, 19.0, 20.0, 22.0]}, {\"line\": {\"color\": \"rgb(44, 160, 44)\"}, \"name\": \"Iran\", \"type\": \"scatter\", \"x\": [0, 1, 2, 3, 4, 5, 6, 7, 8, 9, 10, 11, 12, 13, 14, 15, 16, 17, 18, 19, 20, 21, 22, 23, 24, 25, 26, 27, 28, 29, 30, 31, 32, 33, 34, 35, 36, 37, 38, 39, 40, 41], \"y\": [null, null, null, 2.0, 2.0, 3.0, 4.0, 5.0, 7.0, 8.0, 9.0, 10.0, 12.0, 13.0, 15.0, 20.0, 24.0, 31.0, 37.0, 46.0, 56.0, 67.0, 76.0, 88.0, 100.0, 112.0, 122.0, 131.0, 135.0, 137.0, 137.0, 135.0, 135.0, 136.0, 135.0, 137.0, 136.0, 135.0, 138.0, null, null, null]}, {\"line\": {\"color\": \"rgb(44, 160, 44)\", \"dash\": \"dash\"}, \"name\": \"Fit - Iran\", \"type\": \"scatter\", \"x\": [5.0, 6.0, 7.0, 8.0, 9.0, 10.0, 11.0, 12.0, 13.0, 14.0, 15.0, 16.0, 17.0, 18.0, 19.0, 20.0, 21.0, 22.0, 23.0, 24.0, 25.0, 26.0, 27.0, 28.0, 29.0, 30.0, 31.0, 32.0, 33.0, 34.0, 35.0, 36.0, 37.0, 38.0, 39.0, 40.0, 41.0, 42.0, 43.0, 44.0, 45.0, 46.0], \"y\": [22.0, 24.0, 25.0, 27.0, 29.0, 30.0, 32.0, 34.0, 37.0, 39.0, 42.0, 44.0, 47.0, 50.0, 54.0, 57.0, 61.0, 65.0, 69.0, 74.0, 78.0, 84.0, 89.0, 95.0, 101.0, 108.0, 115.0, 122.0, 130.0, 139.0, 148.0, 157.0, 168.0, 179.0, 190.0, 203.0, 216.0, 230.0, 245.0, 261.0, 278.0, 296.0]}, {\"line\": {\"color\": \"rgb(31, 119, 180)\"}, \"name\": \"Italy\", \"type\": \"scatter\", \"x\": [0, 1, 2, 3, 4, 5, 6, 7, 8, 9, 10, 11, 12, 13, 14, 15, 16, 17, 18, 19, 20, 21, 22, 23, 24, 25, 26, 27, 28, 29, 30, 31, 32, 33, 34, 35, 36, 37, 38], \"y\": [null, null, null, 3.0, 4.0, 4.0, 6.0, 10.0, 14.0, 19.0, 25.0, 29.0, 47.0, 59.0, 79.0, 103.0, 97.0, 153.0, 173.0, 206.0, 242.0, 267.0, 307.0, 368.0, 395.0, 483.0, 524.0, 560.0, 617.0, 646.0, 687.0, 729.0, 743.0, 758.0, 788.0, 801.0, null, null, null]}, {\"line\": {\"color\": \"rgb(31, 119, 180)\", \"dash\": \"dash\"}, \"name\": \"Fit - Italy\", \"type\": \"scatter\", \"x\": [5.0, 6.0, 7.0, 8.0, 9.0, 10.0, 11.0, 12.0, 13.0, 14.0, 15.0, 16.0, 17.0, 18.0, 19.0, 20.0, 21.0, 22.0, 23.0, 24.0, 25.0, 26.0, 27.0, 28.0, 29.0, 30.0, 31.0, 32.0, 33.0, 34.0, 35.0, 36.0, 37.0, 38.0, 39.0, 40.0, 41.0, 42.0, 43.0], \"y\": [63.0, 68.0, 75.0, 82.0, 90.0, 98.0, 108.0, 118.0, 129.0, 142.0, 155.0, 170.0, 186.0, 204.0, 223.0, 245.0, 268.0, 293.0, 321.0, 352.0, 386.0, 422.0, 462.0, 506.0, 555.0, 608.0, 665.0, 729.0, 798.0, 874.0, 957.0, 1049.0, 1148.0, 1258.0, 1378.0, 1509.0, 1652.0, 1810.0, 1982.0]}, {\"line\": {\"color\": \"rgb(31, 119, 180)\"}, \"name\": \"Korea, South\", \"type\": \"scatter\", \"x\": [0, 1, 2, 3, 4, 5, 6, 7, 8, 9, 10, 11, 12, 13, 14, 15, 16, 17, 18, 19, 20, 21, 22, 23, 24, 25, 26, 27, 28, 29, 30, 31, 32, 33, 34, 35, 36, 37, 38, 39], \"y\": [null, null, null, 2.0, 2.0, 2.0, 2.0, 3.0, 3.0, 3.0, 3.0, 4.0, 4.0, 5.0, 4.0, 4.0, 4.0, 4.0, 3.0, 4.0, 4.0, 3.0, 4.0, 3.0, 4.0, 4.0, 4.0, 5.0, 5.0, 6.0, 6.0, 6.0, 6.0, 6.0, 6.0, 7.0, 6.0, null, null, null]}, {\"line\": {\"color\": \"rgb(31, 119, 180)\", \"dash\": \"dash\"}, \"name\": \"Fit - Korea, South\", \"type\": \"scatter\", \"x\": [5.0, 6.0, 7.0, 8.0, 9.0, 10.0, 11.0, 12.0, 13.0, 14.0, 15.0, 16.0, 17.0, 18.0, 19.0, 20.0, 21.0, 22.0, 23.0, 24.0, 25.0, 26.0, 27.0, 28.0, 29.0, 30.0, 31.0, 32.0, 33.0, 34.0, 35.0, 36.0, 37.0, 38.0, 39.0, 40.0, 41.0, 42.0, 43.0, 44.0], \"y\": [3.0, 3.0, 3.0, 3.0, 3.0, 3.0, 3.0, 3.0, 3.0, 3.0, 3.0, 4.0, 4.0, 4.0, 4.0, 4.0, 4.0, 4.0, 4.0, 5.0, 5.0, 5.0, 5.0, 5.0, 5.0, 5.0, 6.0, 6.0, 6.0, 6.0, 6.0, 6.0, 7.0, 7.0, 7.0, 7.0, 8.0, 8.0, 8.0, 8.0]}, {\"line\": {\"color\": \"rgb(140, 86, 75)\"}, \"name\": \"Netherlands\", \"type\": \"scatter\", \"x\": [0, 1, 2, 3, 4, 5, 6, 7, 8, 9, 10, 11, 12, 13, 14, 15, 16, 17, 18, 19, 20, 21, 22, 23], \"y\": [null, null, null, 2.0, 2.0, 3.0, 6.0, 8.0, 10.0, 14.0, 18.0, 23.0, 27.0, 33.0, 43.0, 51.0, 63.0, 72.0, 85.0, 93.0, 109.0, null, null, null]}, {\"line\": {\"color\": \"rgb(140, 86, 75)\", \"dash\": \"dash\"}, \"name\": \"Fit - Netherlands\", \"type\": \"scatter\", \"x\": [5.0, 6.0, 7.0, 8.0, 9.0, 10.0, 11.0, 12.0, 13.0, 14.0, 15.0, 16.0, 17.0, 18.0, 19.0, 20.0, 21.0, 22.0, 23.0, 24.0, 25.0, 26.0, 27.0, 28.0], \"y\": [8.0, 10.0, 12.0, 14.0, 16.0, 20.0, 23.0, 28.0, 33.0, 40.0, 47.0, 57.0, 68.0, 81.0, 96.0, 115.0, 137.0, 163.0, 195.0, 232.0, 277.0, 331.0, 395.0, 471.0]}, {\"line\": {\"color\": \"rgb(44, 160, 44)\"}, \"name\": \"Portugal\", \"type\": \"scatter\", \"x\": [0, 1, 2, 3, 4, 5, 6, 7, 8, 9, 10, 11, 12, 13], \"y\": [null, null, null, 5.0, 6.0, 8.0, 10.0, 13.0, 15.0, 17.0, 18.0, null, null, null]}, {\"line\": {\"color\": \"rgb(44, 160, 44)\", \"dash\": \"dash\"}, \"name\": \"Fit - Portugal\", \"type\": \"scatter\", \"x\": [5.0, 6.0, 7.0, 8.0, 9.0, 10.0, 11.0, 12.0, 13.0, 14.0, 15.0, 16.0, 17.0, 18.0], \"y\": [8.0, 10.0, 12.0, 14.0, 16.0, 19.0, 23.0, 27.0, 32.0, 38.0, 45.0, 54.0, 64.0, 75.0]}, {\"line\": {\"color\": \"rgb(214, 39, 40)\"}, \"name\": \"Spain\", \"type\": \"scatter\", \"x\": [0, 1, 2, 3, 4, 5, 6, 7, 8, 9, 10, 11, 12, 13, 14, 15, 16, 17, 18, 19, 20, 21, 22, 23, 24, 25, 26, 27], \"y\": [null, null, null, 5.0, 7.0, 7.0, 18.0, 26.0, 39.0, 45.0, 71.0, 81.0, 111.0, 130.0, 169.0, 212.0, 281.0, 325.0, 432.0, 505.0, 585.0, 658.0, 719.0, 772.0, 808.0, null, null, null]}, {\"line\": {\"color\": \"rgb(214, 39, 40)\", \"dash\": \"dash\"}, \"name\": \"Fit - Spain\", \"type\": \"scatter\", \"x\": [5.0, 6.0, 7.0, 8.0, 9.0, 10.0, 11.0, 12.0, 13.0, 14.0, 15.0, 16.0, 17.0, 18.0, 19.0, 20.0, 21.0, 22.0, 23.0, 24.0, 25.0, 26.0, 27.0, 28.0, 29.0, 30.0, 31.0, 32.0], \"y\": [50.0, 59.0, 68.0, 80.0, 93.0, 108.0, 126.0, 147.0, 171.0, 200.0, 233.0, 271.0, 316.0, 368.0, 429.0, 500.0, 583.0, 680.0, 793.0, 924.0, 1077.0, 1255.0, 1463.0, 1705.0, 1988.0, 2317.0, 2701.0, 3148.0]}, {\"line\": {\"color\": \"rgb(255, 127, 14)\"}, \"name\": \"Sweden\", \"type\": \"scatter\", \"x\": [0, 1, 2, 3, 4, 5, 6, 7, 8, 9, 10, 11, 12, 13, 14, 15, 16, 17], \"y\": [null, null, null, 2.0, 3.0, 3.0, 3.0, 4.0, 7.0, 9.0, 13.0, 12.0, 13.0, 17.0, 21.0, null, null, null]}, {\"line\": {\"color\": \"rgb(255, 127, 14)\", \"dash\": \"dash\"}, \"name\": \"Fit - Sweden\", \"type\": \"scatter\", \"x\": [5.0, 6.0, 7.0, 8.0, 9.0, 10.0, 11.0, 12.0, 13.0, 14.0, 15.0, 16.0, 17.0, 18.0, 19.0, 20.0, 21.0, 22.0], \"y\": [4.0, 4.0, 5.0, 7.0, 8.0, 10.0, 12.0, 14.0, 17.0, 21.0, 26.0, 31.0, 38.0, 46.0, 55.0, 67.0, 82.0, 99.0]}, {\"line\": {\"color\": \"rgb(44, 160, 44)\"}, \"name\": \"Switzerland\", \"type\": \"scatter\", \"x\": [0, 1, 2, 3, 4, 5, 6, 7, 8, 9, 10, 11, 12, 13, 14, 15, 16, 17, 18, 19, 20, 21, 22, 23], \"y\": [null, null, null, 2.0, 2.0, 2.0, 3.0, 3.0, 5.0, 6.0, 9.0, 12.0, 15.0, 14.0, 18.0, 21.0, 25.0, 27.0, 29.0, 34.0, 44.0, null, null, null]}, {\"line\": {\"color\": \"rgb(44, 160, 44)\", \"dash\": \"dash\"}, \"name\": \"Fit - Switzerland\", \"type\": \"scatter\", \"x\": [5.0, 6.0, 7.0, 8.0, 9.0, 10.0, 11.0, 12.0, 13.0, 14.0, 15.0, 16.0, 17.0, 18.0, 19.0, 20.0, 21.0, 22.0, 23.0, 24.0, 25.0, 26.0, 27.0, 28.0], \"y\": [4.0, 5.0, 5.0, 6.0, 7.0, 9.0, 10.0, 12.0, 14.0, 17.0, 19.0, 23.0, 27.0, 31.0, 37.0, 43.0, 50.0, 59.0, 69.0, 81.0, 95.0, 111.0, 130.0, 152.0]}, {\"line\": {\"color\": \"rgb(140, 86, 75)\"}, \"name\": \"Turkey\", \"type\": \"scatter\", \"x\": [0, 1, 2, 3, 4, 5, 6, 7, 8, 9, 10, 11, 12], \"y\": [null, null, null, 8.0, 10.0, 13.0, 14.0, 14.0, 19.0, 24.0, null, null, null]}, {\"line\": {\"color\": \"rgb(140, 86, 75)\", \"dash\": \"dash\"}, \"name\": \"Fit - Turkey\", \"type\": \"scatter\", \"x\": [5.0, 6.0, 7.0, 8.0, 9.0, 10.0, 11.0, 12.0, 13.0, 14.0, 15.0, 16.0, 17.0], \"y\": [12.0, 14.0, 16.0, 19.0, 23.0, 27.0, 32.0, 39.0, 46.0, 54.0, 65.0, 77.0, 91.0]}, {\"line\": {\"color\": \"rgb(31, 119, 180)\"}, \"name\": \"US\", \"type\": \"scatter\", \"x\": [0, 1, 2, 3, 4, 5, 6, 7, 8, 9, 10, 11, 12, 13, 14, 15, 16, 17, 18, 19, 20, 21, 22, 23, 24, 25, 26, 27, 28, 29], \"y\": [null, null, null, 3.0, 2.0, 3.0, 4.0, 4.0, 5.0, 5.0, 6.0, 9.0, 11.0, 12.0, 23.0, 28.0, 36.0, 51.0, 67.0, 85.0, 118.0, 144.0, 191.0, 246.0, 293.0, 346.0, 452.0, null, null, null]}, {\"line\": {\"color\": \"rgb(31, 119, 180)\", \"dash\": \"dash\"}, \"name\": \"Fit - US\", \"type\": \"scatter\", \"x\": [5.0, 6.0, 7.0, 8.0, 9.0, 10.0, 11.0, 12.0, 13.0, 14.0, 15.0, 16.0, 17.0, 18.0, 19.0, 20.0, 21.0, 22.0, 23.0, 24.0, 25.0, 26.0, 27.0, 28.0, 29.0, 30.0, 31.0, 32.0, 33.0, 34.0], \"y\": [3.0, 4.0, 6.0, 7.0, 9.0, 11.0, 14.0, 18.0, 22.0, 28.0, 35.0, 45.0, 56.0, 71.0, 90.0, 113.0, 143.0, 180.0, 227.0, 286.0, 361.0, 455.0, 574.0, 724.0, 913.0, 1152.0, 1453.0, 1832.0, 2311.0, 2914.0]}, {\"line\": {\"color\": \"rgb(148, 103, 189)\"}, \"name\": \"United Kingdom\", \"type\": \"scatter\", \"x\": [0, 1, 2, 3, 4, 5, 6, 7, 8, 9, 10, 11, 12, 13, 14, 15, 16, 17, 18, 19, 20, 21, 22, 23, 24, 25], \"y\": [null, null, null, 1.0, 1.0, 3.0, 3.0, 7.0, 7.0, 9.0, 19.0, 24.0, 30.0, 37.0, 40.0, 52.0, 56.0, 63.0, 83.0, 112.0, 136.0, 154.0, 196.0, null, null, null]}, {\"line\": {\"color\": \"rgb(148, 103, 189)\", \"dash\": \"dash\"}, \"name\": \"Fit - United Kingdom\", \"type\": \"scatter\", \"x\": [5.0, 6.0, 7.0, 8.0, 9.0, 10.0, 11.0, 12.0, 13.0, 14.0, 15.0, 16.0, 17.0, 18.0, 19.0, 20.0, 21.0, 22.0, 23.0, 24.0, 25.0, 26.0, 27.0, 28.0, 29.0, 30.0], \"y\": [6.0, 8.0, 9.0, 11.0, 14.0, 17.0, 21.0, 26.0, 31.0, 39.0, 47.0, 58.0, 71.0, 87.0, 106.0, 130.0, 160.0, 195.0, 239.0, 293.0, 359.0, 440.0, 539.0, 661.0, 809.0, 991.0]}],\n",
       "                        {\"template\": {\"data\": {\"bar\": [{\"error_x\": {\"color\": \"#2a3f5f\"}, \"error_y\": {\"color\": \"#2a3f5f\"}, \"marker\": {\"line\": {\"color\": \"#E5ECF6\", \"width\": 0.5}}, \"type\": \"bar\"}], \"barpolar\": [{\"marker\": {\"line\": {\"color\": \"#E5ECF6\", \"width\": 0.5}}, \"type\": \"barpolar\"}], \"carpet\": [{\"aaxis\": {\"endlinecolor\": \"#2a3f5f\", \"gridcolor\": \"white\", \"linecolor\": \"white\", \"minorgridcolor\": \"white\", \"startlinecolor\": \"#2a3f5f\"}, \"baxis\": {\"endlinecolor\": \"#2a3f5f\", \"gridcolor\": \"white\", \"linecolor\": \"white\", \"minorgridcolor\": \"white\", \"startlinecolor\": \"#2a3f5f\"}, \"type\": \"carpet\"}], \"choropleth\": [{\"colorbar\": {\"outlinewidth\": 0, \"ticks\": \"\"}, \"type\": \"choropleth\"}], \"contour\": [{\"colorbar\": {\"outlinewidth\": 0, \"ticks\": \"\"}, \"colorscale\": [[0.0, \"#0d0887\"], [0.1111111111111111, \"#46039f\"], [0.2222222222222222, \"#7201a8\"], [0.3333333333333333, \"#9c179e\"], [0.4444444444444444, \"#bd3786\"], [0.5555555555555556, \"#d8576b\"], [0.6666666666666666, \"#ed7953\"], [0.7777777777777778, \"#fb9f3a\"], [0.8888888888888888, \"#fdca26\"], [1.0, \"#f0f921\"]], \"type\": \"contour\"}], \"contourcarpet\": [{\"colorbar\": {\"outlinewidth\": 0, \"ticks\": \"\"}, \"type\": \"contourcarpet\"}], \"heatmap\": [{\"colorbar\": {\"outlinewidth\": 0, \"ticks\": \"\"}, \"colorscale\": [[0.0, \"#0d0887\"], [0.1111111111111111, \"#46039f\"], [0.2222222222222222, \"#7201a8\"], [0.3333333333333333, \"#9c179e\"], [0.4444444444444444, \"#bd3786\"], [0.5555555555555556, \"#d8576b\"], [0.6666666666666666, \"#ed7953\"], [0.7777777777777778, \"#fb9f3a\"], [0.8888888888888888, \"#fdca26\"], [1.0, \"#f0f921\"]], \"type\": \"heatmap\"}], \"heatmapgl\": [{\"colorbar\": {\"outlinewidth\": 0, \"ticks\": \"\"}, \"colorscale\": [[0.0, \"#0d0887\"], [0.1111111111111111, \"#46039f\"], [0.2222222222222222, \"#7201a8\"], [0.3333333333333333, \"#9c179e\"], [0.4444444444444444, \"#bd3786\"], [0.5555555555555556, \"#d8576b\"], [0.6666666666666666, \"#ed7953\"], [0.7777777777777778, \"#fb9f3a\"], [0.8888888888888888, \"#fdca26\"], [1.0, \"#f0f921\"]], \"type\": \"heatmapgl\"}], \"histogram\": [{\"marker\": {\"colorbar\": {\"outlinewidth\": 0, \"ticks\": \"\"}}, \"type\": \"histogram\"}], \"histogram2d\": [{\"colorbar\": {\"outlinewidth\": 0, \"ticks\": \"\"}, \"colorscale\": [[0.0, \"#0d0887\"], [0.1111111111111111, \"#46039f\"], [0.2222222222222222, \"#7201a8\"], [0.3333333333333333, \"#9c179e\"], [0.4444444444444444, \"#bd3786\"], [0.5555555555555556, \"#d8576b\"], [0.6666666666666666, \"#ed7953\"], [0.7777777777777778, \"#fb9f3a\"], [0.8888888888888888, \"#fdca26\"], [1.0, \"#f0f921\"]], \"type\": \"histogram2d\"}], \"histogram2dcontour\": [{\"colorbar\": {\"outlinewidth\": 0, \"ticks\": \"\"}, \"colorscale\": [[0.0, \"#0d0887\"], [0.1111111111111111, \"#46039f\"], [0.2222222222222222, \"#7201a8\"], [0.3333333333333333, \"#9c179e\"], [0.4444444444444444, \"#bd3786\"], [0.5555555555555556, \"#d8576b\"], [0.6666666666666666, \"#ed7953\"], [0.7777777777777778, \"#fb9f3a\"], [0.8888888888888888, \"#fdca26\"], [1.0, \"#f0f921\"]], \"type\": \"histogram2dcontour\"}], \"mesh3d\": [{\"colorbar\": {\"outlinewidth\": 0, \"ticks\": \"\"}, \"type\": \"mesh3d\"}], \"parcoords\": [{\"line\": {\"colorbar\": {\"outlinewidth\": 0, \"ticks\": \"\"}}, \"type\": \"parcoords\"}], \"pie\": [{\"automargin\": true, \"type\": \"pie\"}], \"scatter\": [{\"marker\": {\"colorbar\": {\"outlinewidth\": 0, \"ticks\": \"\"}}, \"type\": \"scatter\"}], \"scatter3d\": [{\"line\": {\"colorbar\": {\"outlinewidth\": 0, \"ticks\": \"\"}}, \"marker\": {\"colorbar\": {\"outlinewidth\": 0, \"ticks\": \"\"}}, \"type\": \"scatter3d\"}], \"scattercarpet\": [{\"marker\": {\"colorbar\": {\"outlinewidth\": 0, \"ticks\": \"\"}}, \"type\": \"scattercarpet\"}], \"scattergeo\": [{\"marker\": {\"colorbar\": {\"outlinewidth\": 0, \"ticks\": \"\"}}, \"type\": \"scattergeo\"}], \"scattergl\": [{\"marker\": {\"colorbar\": {\"outlinewidth\": 0, \"ticks\": \"\"}}, \"type\": \"scattergl\"}], \"scattermapbox\": [{\"marker\": {\"colorbar\": {\"outlinewidth\": 0, \"ticks\": \"\"}}, \"type\": \"scattermapbox\"}], \"scatterpolar\": [{\"marker\": {\"colorbar\": {\"outlinewidth\": 0, \"ticks\": \"\"}}, \"type\": \"scatterpolar\"}], \"scatterpolargl\": [{\"marker\": {\"colorbar\": {\"outlinewidth\": 0, \"ticks\": \"\"}}, \"type\": \"scatterpolargl\"}], \"scatterternary\": [{\"marker\": {\"colorbar\": {\"outlinewidth\": 0, \"ticks\": \"\"}}, \"type\": \"scatterternary\"}], \"surface\": [{\"colorbar\": {\"outlinewidth\": 0, \"ticks\": \"\"}, \"colorscale\": [[0.0, \"#0d0887\"], [0.1111111111111111, \"#46039f\"], [0.2222222222222222, \"#7201a8\"], [0.3333333333333333, \"#9c179e\"], [0.4444444444444444, \"#bd3786\"], [0.5555555555555556, \"#d8576b\"], [0.6666666666666666, \"#ed7953\"], [0.7777777777777778, \"#fb9f3a\"], [0.8888888888888888, \"#fdca26\"], [1.0, \"#f0f921\"]], \"type\": \"surface\"}], \"table\": [{\"cells\": {\"fill\": {\"color\": \"#EBF0F8\"}, \"line\": {\"color\": \"white\"}}, \"header\": {\"fill\": {\"color\": \"#C8D4E3\"}, \"line\": {\"color\": \"white\"}}, \"type\": \"table\"}]}, \"layout\": {\"annotationdefaults\": {\"arrowcolor\": \"#2a3f5f\", \"arrowhead\": 0, \"arrowwidth\": 1}, \"coloraxis\": {\"colorbar\": {\"outlinewidth\": 0, \"ticks\": \"\"}}, \"colorscale\": {\"diverging\": [[0, \"#8e0152\"], [0.1, \"#c51b7d\"], [0.2, \"#de77ae\"], [0.3, \"#f1b6da\"], [0.4, \"#fde0ef\"], [0.5, \"#f7f7f7\"], [0.6, \"#e6f5d0\"], [0.7, \"#b8e186\"], [0.8, \"#7fbc41\"], [0.9, \"#4d9221\"], [1, \"#276419\"]], \"sequential\": [[0.0, \"#0d0887\"], [0.1111111111111111, \"#46039f\"], [0.2222222222222222, \"#7201a8\"], [0.3333333333333333, \"#9c179e\"], [0.4444444444444444, \"#bd3786\"], [0.5555555555555556, \"#d8576b\"], [0.6666666666666666, \"#ed7953\"], [0.7777777777777778, \"#fb9f3a\"], [0.8888888888888888, \"#fdca26\"], [1.0, \"#f0f921\"]], \"sequentialminus\": [[0.0, \"#0d0887\"], [0.1111111111111111, \"#46039f\"], [0.2222222222222222, \"#7201a8\"], [0.3333333333333333, \"#9c179e\"], [0.4444444444444444, \"#bd3786\"], [0.5555555555555556, \"#d8576b\"], [0.6666666666666666, \"#ed7953\"], [0.7777777777777778, \"#fb9f3a\"], [0.8888888888888888, \"#fdca26\"], [1.0, \"#f0f921\"]]}, \"colorway\": [\"#636efa\", \"#EF553B\", \"#00cc96\", \"#ab63fa\", \"#FFA15A\", \"#19d3f3\", \"#FF6692\", \"#B6E880\", \"#FF97FF\", \"#FECB52\"], \"font\": {\"color\": \"#2a3f5f\"}, \"geo\": {\"bgcolor\": \"white\", \"lakecolor\": \"white\", \"landcolor\": \"#E5ECF6\", \"showlakes\": true, \"showland\": true, \"subunitcolor\": \"white\"}, \"hoverlabel\": {\"align\": \"left\"}, \"hovermode\": \"closest\", \"mapbox\": {\"style\": \"light\"}, \"paper_bgcolor\": \"white\", \"plot_bgcolor\": \"#E5ECF6\", \"polar\": {\"angularaxis\": {\"gridcolor\": \"white\", \"linecolor\": \"white\", \"ticks\": \"\"}, \"bgcolor\": \"#E5ECF6\", \"radialaxis\": {\"gridcolor\": \"white\", \"linecolor\": \"white\", \"ticks\": \"\"}}, \"scene\": {\"xaxis\": {\"backgroundcolor\": \"#E5ECF6\", \"gridcolor\": \"white\", \"gridwidth\": 2, \"linecolor\": \"white\", \"showbackground\": true, \"ticks\": \"\", \"zerolinecolor\": \"white\"}, \"yaxis\": {\"backgroundcolor\": \"#E5ECF6\", \"gridcolor\": \"white\", \"gridwidth\": 2, \"linecolor\": \"white\", \"showbackground\": true, \"ticks\": \"\", \"zerolinecolor\": \"white\"}, \"zaxis\": {\"backgroundcolor\": \"#E5ECF6\", \"gridcolor\": \"white\", \"gridwidth\": 2, \"linecolor\": \"white\", \"showbackground\": true, \"ticks\": \"\", \"zerolinecolor\": \"white\"}}, \"shapedefaults\": {\"line\": {\"color\": \"#2a3f5f\"}}, \"ternary\": {\"aaxis\": {\"gridcolor\": \"white\", \"linecolor\": \"white\", \"ticks\": \"\"}, \"baxis\": {\"gridcolor\": \"white\", \"linecolor\": \"white\", \"ticks\": \"\"}, \"bgcolor\": \"#E5ECF6\", \"caxis\": {\"gridcolor\": \"white\", \"linecolor\": \"white\", \"ticks\": \"\"}}, \"title\": {\"x\": 0.05}, \"xaxis\": {\"automargin\": true, \"gridcolor\": \"white\", \"linecolor\": \"white\", \"ticks\": \"\", \"title\": {\"standoff\": 15}, \"zerolinecolor\": \"white\", \"zerolinewidth\": 2}, \"yaxis\": {\"automargin\": true, \"gridcolor\": \"white\", \"linecolor\": \"white\", \"ticks\": \"\", \"title\": {\"standoff\": 15}, \"zerolinecolor\": \"white\", \"zerolinewidth\": 2}}}, \"title\": {\"text\": \"Daily number of deaths per country\"}, \"xaxis\": {\"title\": {\"text\": \"Days after the first reported death\"}}, \"yaxis\": {\"title\": {\"text\": \"Number of deaths\"}}},\n",
       "                        {\"responsive\": true}\n",
       "                    ).then(function(){\n",
       "                            \n",
       "var gd = document.getElementById('faeaf56e-c629-4c07-b662-2414b8747613');\n",
       "var x = new MutationObserver(function (mutations, observer) {{\n",
       "        var display = window.getComputedStyle(gd).display;\n",
       "        if (!display || display === 'none') {{\n",
       "            console.log([gd, 'removed!']);\n",
       "            Plotly.purge(gd);\n",
       "            observer.disconnect();\n",
       "        }}\n",
       "}});\n",
       "\n",
       "// Listen for the removal of the full notebook cells\n",
       "var notebookContainer = gd.closest('#notebook-container');\n",
       "if (notebookContainer) {{\n",
       "    x.observe(notebookContainer, {childList: true});\n",
       "}}\n",
       "\n",
       "// Listen for the clearing of the current output cell\n",
       "var outputEl = gd.closest('.output');\n",
       "if (outputEl) {{\n",
       "    x.observe(outputEl, {childList: true});\n",
       "}}\n",
       "\n",
       "                        })\n",
       "                };\n",
       "                });\n",
       "            </script>\n",
       "        </div>"
      ]
     },
     "metadata": {},
     "output_type": "display_data"
    }
   ],
   "source": [
    "def function(x,a,b):\n",
    "    return a*np.exp(b*x)\n",
    "\n",
    "colorscale=['rgb(31, 119, 180)' ,'rgb(255, 127, 14)','rgb(44, 160, 44)','rgb(214, 39, 40)','rgb(148, 103, 189)','rgb(140, 86, 75)']\n",
    "\n",
    "c=0\n",
    "fig = go.Figure()\n",
    "for row in data_format.iterrows():\n",
    "    to_keep=row[1][1:].values>1\n",
    "    if (any(row[1][1:].values>100)) & (row[1][0]!='China'): # china has to be removed as it obviously does not fit anymore\n",
    "        death=pd.Series(np.diff(np.append([0],row[1][1:].values[to_keep]))).rolling(7,center=True).mean().round()\n",
    "        time=np.array(list(death.index))\n",
    "        fig.add_trace(go.Scatter(x=time, y=death,line=dict(color=colorscale[c]),name=row[1][0]))\n",
    "        if len(death.dropna())>5:\n",
    "            popt, pcov = curve_fit(function,  time[death.notnull()],  death.dropna(),p0=(1,1))\n",
    "            fig.add_trace(go.Scatter(x=np.linspace(5,time[-1]+5,time[-1]+1), y=pd.Series(function(np.linspace(5,time[-1]+5,time[-1]+1), *popt)).round(),line=dict(color=colorscale[c],dash='dash'),name=\"Fit - \"+row[1][0]))\n",
    "    #else :\n",
    "        #print(row[1][0])\n",
    "     \n",
    "    c+=1\n",
    "    if c>(len(colorscale)-1):\n",
    "        c=0\n",
    "        \n",
    "fig.update_layout(title='Daily number of deaths per country',\n",
    "                   xaxis_title='Days after the first reported death',\n",
    "                   yaxis_title='Number of deaths')\n",
    "fig.show();"
   ]
  },
  {
   "cell_type": "markdown",
   "metadata": {},
   "source": [
    "When the exponential fits badly it means that the propagation is getting mitigated (e.g. Italy,south korea). On the other hand, a really good fit (e.g. Netherlands) means it still propagate exponentially."
   ]
  },
  {
   "cell_type": "markdown",
   "metadata": {},
   "source": [
    "## Fitted polynomial curves with 5 days projection"
   ]
  },
  {
   "cell_type": "code",
   "execution_count": 187,
   "metadata": {},
   "outputs": [
    {
     "data": {
      "application/vnd.plotly.v1+json": {
       "config": {
        "plotlyServerURL": "https://plot.ly"
       },
       "data": [
        {
         "line": {
          "color": "rgb(214, 39, 40)"
         },
         "name": "Austria",
         "type": "scatter",
         "x": [
          0,
          1,
          2,
          3,
          4,
          5,
          6,
          7,
          8,
          9,
          10,
          11,
          12,
          13,
          14,
          15
         ],
         "y": [
          null,
          null,
          null,
          2,
          3,
          4,
          4,
          6,
          7,
          9,
          10,
          12,
          14,
          null,
          null,
          null
         ]
        },
        {
         "line": {
          "color": "rgb(214, 39, 40)",
          "dash": "dash"
         },
         "name": "Fit - Austria",
         "type": "scatter",
         "x": [
          5,
          6,
          7,
          8,
          9,
          10,
          11,
          12,
          13,
          14,
          15,
          16,
          17,
          18,
          19,
          20
         ],
         "y": [
          4,
          5,
          6,
          7,
          9,
          10,
          12,
          14,
          16,
          17,
          19,
          20,
          20,
          19,
          17,
          14
         ]
        },
        {
         "line": {
          "color": "rgb(148, 103, 189)"
         },
         "name": "Belgium",
         "type": "scatter",
         "x": [
          0,
          1,
          2,
          3,
          4,
          5,
          6,
          7,
          8,
          9,
          10,
          11,
          12,
          13,
          14,
          15,
          16,
          17,
          18,
          19,
          20
         ],
         "y": [
          null,
          null,
          null,
          1,
          2,
          3,
          5,
          9,
          10,
          12,
          16,
          23,
          28,
          36,
          41,
          51,
          61,
          83,
          null,
          null,
          null
         ]
        },
        {
         "line": {
          "color": "rgb(148, 103, 189)",
          "dash": "dash"
         },
         "name": "Fit - Belgium",
         "type": "scatter",
         "x": [
          5,
          6,
          7,
          8,
          9,
          10,
          11,
          12,
          13,
          14,
          15,
          16,
          17,
          18,
          19,
          20,
          21,
          22,
          23,
          24,
          25
         ],
         "y": [
          3,
          5,
          8,
          11,
          14,
          18,
          22,
          27,
          33,
          41,
          51,
          64,
          81,
          102,
          129,
          163,
          204,
          255,
          317,
          391,
          478
         ]
        },
        {
         "line": {
          "color": "rgb(140, 86, 75)"
         },
         "name": "Brazil",
         "type": "scatter",
         "x": [
          0,
          1,
          2,
          3,
          4,
          5,
          6,
          7,
          8,
          9,
          10,
          11,
          12,
          13
         ],
         "y": [
          null,
          null,
          null,
          7,
          8,
          10,
          12,
          14,
          16,
          18,
          22,
          null,
          null,
          null
         ]
        },
        {
         "line": {
          "color": "rgb(140, 86, 75)",
          "dash": "dash"
         },
         "name": "Fit - Brazil",
         "type": "scatter",
         "x": [
          5,
          6,
          7,
          8,
          9,
          10,
          11,
          12,
          13,
          14,
          15,
          16,
          17,
          18
         ],
         "y": [
          10,
          12,
          14,
          16,
          18,
          22,
          29,
          41,
          60,
          91,
          135,
          197,
          281,
          393
         ]
        },
        {
         "line": {
          "color": "rgb(44, 160, 44)"
         },
         "name": "Canada",
         "type": "scatter",
         "x": [
          0,
          1,
          2,
          3,
          4,
          5,
          6,
          7,
          8,
          9,
          10,
          11,
          12,
          13,
          14,
          15
         ],
         "y": [
          null,
          null,
          null,
          3,
          3,
          3,
          3,
          4,
          6,
          6,
          6,
          8,
          11,
          null,
          null,
          null
         ]
        },
        {
         "line": {
          "color": "rgb(44, 160, 44)",
          "dash": "dash"
         },
         "name": "Fit - Canada",
         "type": "scatter",
         "x": [
          5,
          6,
          7,
          8,
          9,
          10,
          11,
          12,
          13,
          14,
          15,
          16,
          17,
          18,
          19,
          20
         ],
         "y": [
          3,
          4,
          4,
          5,
          6,
          7,
          8,
          11,
          16,
          25,
          39,
          59,
          88,
          127,
          178,
          246
         ]
        },
        {
         "line": {
          "color": "rgb(31, 119, 180)"
         },
         "name": "China",
         "type": "scatter",
         "x": [
          0,
          1,
          2,
          3,
          4,
          5,
          6,
          7,
          8,
          9,
          10,
          11,
          12,
          13,
          14,
          15,
          16,
          17,
          18,
          19,
          20,
          21,
          22,
          23,
          24,
          25,
          26,
          27,
          28,
          29,
          30,
          31,
          32,
          33,
          34,
          35,
          36,
          37,
          38,
          39,
          40,
          41,
          42,
          43,
          44,
          45,
          46,
          47,
          48,
          49,
          50,
          51,
          52,
          53,
          54,
          55,
          56,
          57,
          58,
          59,
          60,
          61,
          62,
          63,
          64,
          65,
          66,
          67,
          68,
          69
         ],
         "y": [
          null,
          null,
          null,
          19,
          17,
          22,
          27,
          31,
          44,
          49,
          51,
          61,
          66,
          72,
          78,
          78,
          84,
          89,
          79,
          105,
          115,
          123,
          123,
          122,
          127,
          143,
          124,
          102,
          111,
          97,
          104,
          95,
          86,
          73,
          79,
          56,
          61,
          46,
          40,
          38,
          38,
          36,
          34,
          33,
          30,
          27,
          25,
          22,
          19,
          17,
          15,
          13,
          13,
          11,
          11,
          10,
          9,
          10,
          8,
          7,
          6,
          6,
          6,
          6,
          4,
          5,
          4,
          null,
          null,
          null
         ]
        },
        {
         "line": {
          "color": "rgb(31, 119, 180)",
          "dash": "dash"
         },
         "name": "Fit - China",
         "type": "scatter",
         "x": [
          5,
          6,
          7,
          8,
          9,
          10,
          11,
          12,
          13,
          14,
          15,
          16,
          17,
          18,
          19,
          20,
          21,
          22,
          23,
          24,
          25,
          26,
          27,
          28,
          29,
          30,
          31,
          32,
          33,
          34,
          35,
          36,
          37,
          38,
          39,
          40,
          41,
          42,
          43,
          44,
          45,
          46,
          47,
          48,
          49,
          50,
          51,
          52,
          53,
          54,
          55,
          56,
          57,
          58,
          59,
          60,
          61,
          62,
          63,
          64,
          65,
          66,
          67,
          68,
          69,
          70,
          71,
          72,
          73,
          74
         ],
         "y": [
          18,
          29,
          39,
          49,
          57,
          65,
          72,
          78,
          84,
          88,
          93,
          96,
          99,
          101,
          103,
          104,
          105,
          105,
          104,
          104,
          102,
          101,
          99,
          97,
          94,
          91,
          88,
          85,
          81,
          77,
          73,
          69,
          65,
          61,
          56,
          52,
          48,
          43,
          39,
          35,
          31,
          27,
          23,
          20,
          16,
          13,
          10,
          8,
          5,
          3,
          2,
          1,
          0,
          0,
          0,
          1,
          2,
          4,
          6,
          10,
          13,
          18,
          23,
          29,
          35,
          43,
          51,
          60,
          70,
          81
         ]
        },
        {
         "line": {
          "color": "rgb(255, 127, 14)"
         },
         "name": "France",
         "type": "scatter",
         "x": [
          0,
          1,
          2,
          3,
          4,
          5,
          6,
          7,
          8,
          9,
          10,
          11,
          12,
          13,
          14,
          15,
          16,
          17,
          18,
          19,
          20,
          21,
          22,
          23,
          24,
          25,
          26,
          27,
          28,
          29,
          30,
          31,
          32,
          33,
          34
         ],
         "y": [
          null,
          null,
          null,
          1,
          0,
          1,
          1,
          1,
          2,
          2,
          4,
          6,
          6,
          10,
          11,
          10,
          19,
          17,
          14,
          28,
          53,
          67,
          84,
          102,
          136,
          169,
          208,
          221,
          251,
          276,
          310,
          347,
          null,
          null,
          null
         ]
        },
        {
         "line": {
          "color": "rgb(255, 127, 14)",
          "dash": "dash"
         },
         "name": "Fit - France",
         "type": "scatter",
         "x": [
          5,
          6,
          7,
          8,
          9,
          10,
          11,
          12,
          13,
          14,
          15,
          16,
          17,
          18,
          19,
          20,
          21,
          22,
          23,
          24,
          25,
          26,
          27,
          28,
          29,
          30,
          31,
          32,
          33,
          34,
          35,
          36,
          37,
          38,
          39
         ],
         "y": [
          5,
          7,
          7,
          7,
          5,
          3,
          2,
          1,
          1,
          2,
          6,
          11,
          18,
          28,
          39,
          54,
          71,
          90,
          111,
          135,
          161,
          189,
          219,
          250,
          282,
          314,
          347,
          380,
          412,
          443,
          471,
          498,
          521,
          540,
          555
         ]
        },
        {
         "line": {
          "color": "rgb(140, 86, 75)"
         },
         "name": "Germany",
         "type": "scatter",
         "x": [
          0,
          1,
          2,
          3,
          4,
          5,
          6,
          7,
          8,
          9,
          10,
          11,
          12,
          13,
          14,
          15,
          16,
          17,
          18,
          19,
          20,
          21,
          22
         ],
         "y": [
          null,
          null,
          null,
          2,
          2,
          3,
          4,
          6,
          9,
          11,
          12,
          15,
          19,
          25,
          32,
          39,
          50,
          63,
          75,
          88,
          null,
          null,
          null
         ]
        },
        {
         "line": {
          "color": "rgb(140, 86, 75)",
          "dash": "dash"
         },
         "name": "Fit - Germany",
         "type": "scatter",
         "x": [
          5,
          6,
          7,
          8,
          9,
          10,
          11,
          12,
          13,
          14,
          15,
          16,
          17,
          18,
          19,
          20,
          21,
          22,
          23,
          24,
          25,
          26,
          27
         ],
         "y": [
          4,
          5,
          6,
          8,
          9,
          12,
          15,
          20,
          25,
          32,
          40,
          50,
          61,
          74,
          89,
          106,
          124,
          145,
          167,
          192,
          219,
          247,
          278
         ]
        },
        {
         "line": {
          "color": "rgb(255, 127, 14)"
         },
         "name": "Indonesia",
         "type": "scatter",
         "x": [
          0,
          1,
          2,
          3,
          4,
          5,
          6,
          7,
          8,
          9,
          10,
          11,
          12,
          13,
          14,
          15,
          16,
          17,
          18
         ],
         "y": [
          null,
          null,
          null,
          4,
          4,
          5,
          6,
          6,
          7,
          6,
          8,
          8,
          9,
          9,
          10,
          12,
          null,
          null,
          null
         ]
        },
        {
         "line": {
          "color": "rgb(255, 127, 14)",
          "dash": "dash"
         },
         "name": "Fit - Indonesia",
         "type": "scatter",
         "x": [
          5,
          6,
          7,
          8,
          9,
          10,
          11,
          12,
          13,
          14,
          15,
          16,
          17,
          18,
          19,
          20,
          21,
          22,
          23
         ],
         "y": [
          5,
          6,
          6,
          7,
          7,
          8,
          8,
          9,
          9,
          10,
          12,
          14,
          17,
          21,
          27,
          34,
          43,
          54,
          68
         ]
        },
        {
         "line": {
          "color": "rgb(44, 160, 44)"
         },
         "name": "Iran",
         "type": "scatter",
         "x": [
          0,
          1,
          2,
          3,
          4,
          5,
          6,
          7,
          8,
          9,
          10,
          11,
          12,
          13,
          14,
          15,
          16,
          17,
          18,
          19,
          20,
          21,
          22,
          23,
          24,
          25,
          26,
          27,
          28,
          29,
          30,
          31,
          32,
          33,
          34,
          35,
          36,
          37,
          38,
          39,
          40,
          41
         ],
         "y": [
          null,
          null,
          null,
          2,
          2,
          3,
          4,
          5,
          7,
          8,
          9,
          10,
          12,
          13,
          15,
          20,
          24,
          31,
          37,
          46,
          56,
          67,
          76,
          88,
          100,
          112,
          122,
          131,
          135,
          137,
          137,
          135,
          135,
          136,
          135,
          137,
          136,
          135,
          138,
          null,
          null,
          null
         ]
        },
        {
         "line": {
          "color": "rgb(44, 160, 44)",
          "dash": "dash"
         },
         "name": "Fit - Iran",
         "type": "scatter",
         "x": [
          5,
          6,
          7,
          8,
          9,
          10,
          11,
          12,
          13,
          14,
          15,
          16,
          17,
          18,
          19,
          20,
          21,
          22,
          23,
          24,
          25,
          26,
          27,
          28,
          29,
          30,
          31,
          32,
          33,
          34,
          35,
          36,
          37,
          38,
          39,
          40,
          41,
          42,
          43,
          44,
          45,
          46
         ],
         "y": [
          3,
          2,
          1,
          1,
          2,
          4,
          7,
          10,
          14,
          19,
          25,
          31,
          38,
          45,
          53,
          61,
          69,
          78,
          86,
          95,
          103,
          111,
          118,
          125,
          131,
          137,
          141,
          144,
          145,
          145,
          143,
          139,
          133,
          124,
          113,
          99,
          81,
          60,
          35,
          7,
          -26,
          -64
         ]
        },
        {
         "line": {
          "color": "rgb(31, 119, 180)"
         },
         "name": "Italy",
         "type": "scatter",
         "x": [
          0,
          1,
          2,
          3,
          4,
          5,
          6,
          7,
          8,
          9,
          10,
          11,
          12,
          13,
          14,
          15,
          16,
          17,
          18,
          19,
          20,
          21,
          22,
          23,
          24,
          25,
          26,
          27,
          28,
          29,
          30,
          31,
          32,
          33,
          34,
          35,
          36,
          37,
          38
         ],
         "y": [
          null,
          null,
          null,
          3,
          4,
          4,
          6,
          10,
          14,
          19,
          25,
          29,
          47,
          59,
          79,
          103,
          97,
          153,
          173,
          206,
          242,
          267,
          307,
          368,
          395,
          483,
          524,
          560,
          617,
          646,
          687,
          729,
          743,
          758,
          788,
          801,
          null,
          null,
          null
         ]
        },
        {
         "line": {
          "color": "rgb(31, 119, 180)",
          "dash": "dash"
         },
         "name": "Fit - Italy",
         "type": "scatter",
         "x": [
          5,
          6,
          7,
          8,
          9,
          10,
          11,
          12,
          13,
          14,
          15,
          16,
          17,
          18,
          19,
          20,
          21,
          22,
          23,
          24,
          25,
          26,
          27,
          28,
          29,
          30,
          31,
          32,
          33,
          34,
          35,
          36,
          37,
          38,
          39,
          40,
          41,
          42,
          43
         ],
         "y": [
          8,
          11,
          13,
          16,
          20,
          25,
          32,
          42,
          55,
          71,
          91,
          114,
          140,
          171,
          205,
          242,
          282,
          325,
          370,
          416,
          463,
          511,
          558,
          604,
          647,
          687,
          722,
          752,
          774,
          788,
          792,
          785,
          764,
          729,
          677,
          607,
          516,
          403,
          265
         ]
        },
        {
         "line": {
          "color": "rgb(31, 119, 180)"
         },
         "name": "Korea, South",
         "type": "scatter",
         "x": [
          0,
          1,
          2,
          3,
          4,
          5,
          6,
          7,
          8,
          9,
          10,
          11,
          12,
          13,
          14,
          15,
          16,
          17,
          18,
          19,
          20,
          21,
          22,
          23,
          24,
          25,
          26,
          27,
          28,
          29,
          30,
          31,
          32,
          33,
          34,
          35,
          36,
          37,
          38,
          39
         ],
         "y": [
          null,
          null,
          null,
          2,
          2,
          2,
          2,
          3,
          3,
          3,
          3,
          4,
          4,
          5,
          4,
          4,
          4,
          4,
          3,
          4,
          4,
          3,
          4,
          3,
          4,
          4,
          4,
          5,
          5,
          6,
          6,
          6,
          6,
          6,
          6,
          7,
          6,
          null,
          null,
          null
         ]
        },
        {
         "line": {
          "color": "rgb(31, 119, 180)",
          "dash": "dash"
         },
         "name": "Fit - Korea, South",
         "type": "scatter",
         "x": [
          5,
          6,
          7,
          8,
          9,
          10,
          11,
          12,
          13,
          14,
          15,
          16,
          17,
          18,
          19,
          20,
          21,
          22,
          23,
          24,
          25,
          26,
          27,
          28,
          29,
          30,
          31,
          32,
          33,
          34,
          35,
          36,
          37,
          38,
          39,
          40,
          41,
          42,
          43,
          44
         ],
         "y": [
          2,
          3,
          3,
          3,
          3,
          4,
          4,
          4,
          4,
          4,
          4,
          4,
          4,
          4,
          4,
          4,
          4,
          4,
          4,
          4,
          4,
          5,
          5,
          5,
          5,
          5,
          6,
          6,
          6,
          6,
          6,
          7,
          7,
          7,
          6,
          6,
          6,
          5,
          5,
          4
         ]
        },
        {
         "line": {
          "color": "rgb(140, 86, 75)"
         },
         "name": "Netherlands",
         "type": "scatter",
         "x": [
          0,
          1,
          2,
          3,
          4,
          5,
          6,
          7,
          8,
          9,
          10,
          11,
          12,
          13,
          14,
          15,
          16,
          17,
          18,
          19,
          20,
          21,
          22,
          23
         ],
         "y": [
          null,
          null,
          null,
          2,
          2,
          3,
          6,
          8,
          10,
          14,
          18,
          23,
          27,
          33,
          43,
          51,
          63,
          72,
          85,
          93,
          109,
          null,
          null,
          null
         ]
        },
        {
         "line": {
          "color": "rgb(140, 86, 75)",
          "dash": "dash"
         },
         "name": "Fit - Netherlands",
         "type": "scatter",
         "x": [
          5,
          6,
          7,
          8,
          9,
          10,
          11,
          12,
          13,
          14,
          15,
          16,
          17,
          18,
          19,
          20,
          21,
          22,
          23,
          24,
          25,
          26,
          27,
          28
         ],
         "y": [
          4,
          6,
          8,
          10,
          13,
          17,
          22,
          28,
          35,
          43,
          52,
          61,
          72,
          83,
          96,
          108,
          121,
          134,
          147,
          160,
          172,
          183,
          193,
          202
         ]
        },
        {
         "line": {
          "color": "rgb(44, 160, 44)"
         },
         "name": "Portugal",
         "type": "scatter",
         "x": [
          0,
          1,
          2,
          3,
          4,
          5,
          6,
          7,
          8,
          9,
          10,
          11,
          12,
          13
         ],
         "y": [
          null,
          null,
          null,
          5,
          6,
          8,
          10,
          13,
          15,
          17,
          18,
          null,
          null,
          null
         ]
        },
        {
         "line": {
          "color": "rgb(44, 160, 44)",
          "dash": "dash"
         },
         "name": "Fit - Portugal",
         "type": "scatter",
         "x": [
          5,
          6,
          7,
          8,
          9,
          10,
          11,
          12,
          13,
          14,
          15,
          16,
          17,
          18
         ],
         "y": [
          8,
          10,
          13,
          15,
          17,
          18,
          18,
          16,
          13,
          7,
          -1,
          -12,
          -26,
          -44
         ]
        },
        {
         "line": {
          "color": "rgb(214, 39, 40)"
         },
         "name": "Spain",
         "type": "scatter",
         "x": [
          0,
          1,
          2,
          3,
          4,
          5,
          6,
          7,
          8,
          9,
          10,
          11,
          12,
          13,
          14,
          15,
          16,
          17,
          18,
          19,
          20,
          21,
          22,
          23,
          24,
          25,
          26,
          27
         ],
         "y": [
          null,
          null,
          null,
          5,
          7,
          7,
          18,
          26,
          39,
          45,
          71,
          81,
          111,
          130,
          169,
          212,
          281,
          325,
          432,
          505,
          585,
          658,
          719,
          772,
          808,
          null,
          null,
          null
         ]
        },
        {
         "line": {
          "color": "rgb(214, 39, 40)",
          "dash": "dash"
         },
         "name": "Fit - Spain",
         "type": "scatter",
         "x": [
          5,
          6,
          7,
          8,
          9,
          10,
          11,
          12,
          13,
          14,
          15,
          16,
          17,
          18,
          19,
          20,
          21,
          22,
          23,
          24,
          25,
          26,
          27,
          28,
          29,
          30,
          31,
          32
         ],
         "y": [
          23,
          29,
          32,
          35,
          42,
          53,
          71,
          97,
          132,
          175,
          227,
          286,
          353,
          425,
          500,
          575,
          648,
          715,
          773,
          816,
          840,
          841,
          811,
          745,
          636,
          477,
          261,
          -21
         ]
        },
        {
         "line": {
          "color": "rgb(255, 127, 14)"
         },
         "name": "Sweden",
         "type": "scatter",
         "x": [
          0,
          1,
          2,
          3,
          4,
          5,
          6,
          7,
          8,
          9,
          10,
          11,
          12,
          13,
          14,
          15,
          16,
          17
         ],
         "y": [
          null,
          null,
          null,
          2,
          3,
          3,
          3,
          4,
          7,
          9,
          13,
          12,
          13,
          17,
          21,
          null,
          null,
          null
         ]
        },
        {
         "line": {
          "color": "rgb(255, 127, 14)",
          "dash": "dash"
         },
         "name": "Fit - Sweden",
         "type": "scatter",
         "x": [
          5,
          6,
          7,
          8,
          9,
          10,
          11,
          12,
          13,
          14,
          15,
          16,
          17,
          18,
          19,
          20,
          21,
          22
         ],
         "y": [
          2,
          4,
          5,
          7,
          9,
          11,
          12,
          14,
          17,
          21,
          26,
          34,
          45,
          61,
          82,
          110,
          146,
          192
         ]
        },
        {
         "line": {
          "color": "rgb(44, 160, 44)"
         },
         "name": "Switzerland",
         "type": "scatter",
         "x": [
          0,
          1,
          2,
          3,
          4,
          5,
          6,
          7,
          8,
          9,
          10,
          11,
          12,
          13,
          14,
          15,
          16,
          17,
          18,
          19,
          20,
          21,
          22,
          23
         ],
         "y": [
          null,
          null,
          null,
          2,
          2,
          2,
          3,
          3,
          5,
          6,
          9,
          12,
          15,
          14,
          18,
          21,
          25,
          27,
          29,
          34,
          44,
          null,
          null,
          null
         ]
        },
        {
         "line": {
          "color": "rgb(44, 160, 44)",
          "dash": "dash"
         },
         "name": "Fit - Switzerland",
         "type": "scatter",
         "x": [
          5,
          6,
          7,
          8,
          9,
          10,
          11,
          12,
          13,
          14,
          15,
          16,
          17,
          18,
          19,
          20,
          21,
          22,
          23,
          24,
          25,
          26,
          27,
          28
         ],
         "y": [
          1,
          2,
          4,
          5,
          7,
          9,
          11,
          14,
          16,
          18,
          20,
          23,
          27,
          31,
          36,
          42,
          51,
          61,
          75,
          91,
          112,
          136,
          166,
          202
         ]
        },
        {
         "line": {
          "color": "rgb(140, 86, 75)"
         },
         "name": "Turkey",
         "type": "scatter",
         "x": [
          0,
          1,
          2,
          3,
          4,
          5,
          6,
          7,
          8,
          9,
          10,
          11,
          12
         ],
         "y": [
          null,
          null,
          null,
          8,
          10,
          13,
          14,
          14,
          19,
          24,
          null,
          null,
          null
         ]
        },
        {
         "line": {
          "color": "rgb(140, 86, 75)",
          "dash": "dash"
         },
         "name": "Fit - Turkey",
         "type": "scatter",
         "x": [
          5,
          6,
          7,
          8,
          9,
          10,
          11,
          12,
          13,
          14,
          15,
          16,
          17
         ],
         "y": [
          12,
          14,
          15,
          18,
          24,
          35,
          53,
          81,
          122,
          179,
          256,
          357,
          486
         ]
        },
        {
         "line": {
          "color": "rgb(31, 119, 180)"
         },
         "name": "US",
         "type": "scatter",
         "x": [
          0,
          1,
          2,
          3,
          4,
          5,
          6,
          7,
          8,
          9,
          10,
          11,
          12,
          13,
          14,
          15,
          16,
          17,
          18,
          19,
          20,
          21,
          22,
          23,
          24,
          25,
          26,
          27,
          28,
          29
         ],
         "y": [
          null,
          null,
          null,
          3,
          2,
          3,
          4,
          4,
          5,
          5,
          6,
          9,
          11,
          12,
          23,
          28,
          36,
          51,
          67,
          85,
          118,
          144,
          191,
          246,
          293,
          346,
          452,
          null,
          null,
          null
         ]
        },
        {
         "line": {
          "color": "rgb(31, 119, 180)",
          "dash": "dash"
         },
         "name": "Fit - US",
         "type": "scatter",
         "x": [
          5,
          6,
          7,
          8,
          9,
          10,
          11,
          12,
          13,
          14,
          15,
          16,
          17,
          18,
          19,
          20,
          21,
          22,
          23,
          24,
          25,
          26,
          27,
          28,
          29,
          30,
          31,
          32,
          33,
          34
         ],
         "y": [
          3,
          3,
          4,
          4,
          5,
          7,
          9,
          11,
          15,
          20,
          27,
          37,
          50,
          67,
          88,
          115,
          148,
          188,
          236,
          294,
          363,
          443,
          536,
          644,
          767,
          908,
          1068,
          1249,
          1452,
          1680
         ]
        },
        {
         "line": {
          "color": "rgb(148, 103, 189)"
         },
         "name": "United Kingdom",
         "type": "scatter",
         "x": [
          0,
          1,
          2,
          3,
          4,
          5,
          6,
          7,
          8,
          9,
          10,
          11,
          12,
          13,
          14,
          15,
          16,
          17,
          18,
          19,
          20,
          21,
          22,
          23,
          24,
          25
         ],
         "y": [
          null,
          null,
          null,
          1,
          1,
          3,
          3,
          7,
          7,
          9,
          19,
          24,
          30,
          37,
          40,
          52,
          56,
          63,
          83,
          112,
          136,
          154,
          196,
          null,
          null,
          null
         ]
        },
        {
         "line": {
          "color": "rgb(148, 103, 189)",
          "dash": "dash"
         },
         "name": "Fit - United Kingdom",
         "type": "scatter",
         "x": [
          5,
          6,
          7,
          8,
          9,
          10,
          11,
          12,
          13,
          14,
          15,
          16,
          17,
          18,
          19,
          20,
          21,
          22,
          23,
          24,
          25,
          26,
          27,
          28,
          29,
          30
         ],
         "y": [
          1,
          3,
          6,
          9,
          14,
          18,
          23,
          28,
          34,
          41,
          49,
          59,
          71,
          86,
          106,
          130,
          159,
          196,
          240,
          294,
          359,
          435,
          526,
          632,
          755,
          897
         ]
        }
       ],
       "layout": {
        "template": {
         "data": {
          "bar": [
           {
            "error_x": {
             "color": "#2a3f5f"
            },
            "error_y": {
             "color": "#2a3f5f"
            },
            "marker": {
             "line": {
              "color": "#E5ECF6",
              "width": 0.5
             }
            },
            "type": "bar"
           }
          ],
          "barpolar": [
           {
            "marker": {
             "line": {
              "color": "#E5ECF6",
              "width": 0.5
             }
            },
            "type": "barpolar"
           }
          ],
          "carpet": [
           {
            "aaxis": {
             "endlinecolor": "#2a3f5f",
             "gridcolor": "white",
             "linecolor": "white",
             "minorgridcolor": "white",
             "startlinecolor": "#2a3f5f"
            },
            "baxis": {
             "endlinecolor": "#2a3f5f",
             "gridcolor": "white",
             "linecolor": "white",
             "minorgridcolor": "white",
             "startlinecolor": "#2a3f5f"
            },
            "type": "carpet"
           }
          ],
          "choropleth": [
           {
            "colorbar": {
             "outlinewidth": 0,
             "ticks": ""
            },
            "type": "choropleth"
           }
          ],
          "contour": [
           {
            "colorbar": {
             "outlinewidth": 0,
             "ticks": ""
            },
            "colorscale": [
             [
              0,
              "#0d0887"
             ],
             [
              0.1111111111111111,
              "#46039f"
             ],
             [
              0.2222222222222222,
              "#7201a8"
             ],
             [
              0.3333333333333333,
              "#9c179e"
             ],
             [
              0.4444444444444444,
              "#bd3786"
             ],
             [
              0.5555555555555556,
              "#d8576b"
             ],
             [
              0.6666666666666666,
              "#ed7953"
             ],
             [
              0.7777777777777778,
              "#fb9f3a"
             ],
             [
              0.8888888888888888,
              "#fdca26"
             ],
             [
              1,
              "#f0f921"
             ]
            ],
            "type": "contour"
           }
          ],
          "contourcarpet": [
           {
            "colorbar": {
             "outlinewidth": 0,
             "ticks": ""
            },
            "type": "contourcarpet"
           }
          ],
          "heatmap": [
           {
            "colorbar": {
             "outlinewidth": 0,
             "ticks": ""
            },
            "colorscale": [
             [
              0,
              "#0d0887"
             ],
             [
              0.1111111111111111,
              "#46039f"
             ],
             [
              0.2222222222222222,
              "#7201a8"
             ],
             [
              0.3333333333333333,
              "#9c179e"
             ],
             [
              0.4444444444444444,
              "#bd3786"
             ],
             [
              0.5555555555555556,
              "#d8576b"
             ],
             [
              0.6666666666666666,
              "#ed7953"
             ],
             [
              0.7777777777777778,
              "#fb9f3a"
             ],
             [
              0.8888888888888888,
              "#fdca26"
             ],
             [
              1,
              "#f0f921"
             ]
            ],
            "type": "heatmap"
           }
          ],
          "heatmapgl": [
           {
            "colorbar": {
             "outlinewidth": 0,
             "ticks": ""
            },
            "colorscale": [
             [
              0,
              "#0d0887"
             ],
             [
              0.1111111111111111,
              "#46039f"
             ],
             [
              0.2222222222222222,
              "#7201a8"
             ],
             [
              0.3333333333333333,
              "#9c179e"
             ],
             [
              0.4444444444444444,
              "#bd3786"
             ],
             [
              0.5555555555555556,
              "#d8576b"
             ],
             [
              0.6666666666666666,
              "#ed7953"
             ],
             [
              0.7777777777777778,
              "#fb9f3a"
             ],
             [
              0.8888888888888888,
              "#fdca26"
             ],
             [
              1,
              "#f0f921"
             ]
            ],
            "type": "heatmapgl"
           }
          ],
          "histogram": [
           {
            "marker": {
             "colorbar": {
              "outlinewidth": 0,
              "ticks": ""
             }
            },
            "type": "histogram"
           }
          ],
          "histogram2d": [
           {
            "colorbar": {
             "outlinewidth": 0,
             "ticks": ""
            },
            "colorscale": [
             [
              0,
              "#0d0887"
             ],
             [
              0.1111111111111111,
              "#46039f"
             ],
             [
              0.2222222222222222,
              "#7201a8"
             ],
             [
              0.3333333333333333,
              "#9c179e"
             ],
             [
              0.4444444444444444,
              "#bd3786"
             ],
             [
              0.5555555555555556,
              "#d8576b"
             ],
             [
              0.6666666666666666,
              "#ed7953"
             ],
             [
              0.7777777777777778,
              "#fb9f3a"
             ],
             [
              0.8888888888888888,
              "#fdca26"
             ],
             [
              1,
              "#f0f921"
             ]
            ],
            "type": "histogram2d"
           }
          ],
          "histogram2dcontour": [
           {
            "colorbar": {
             "outlinewidth": 0,
             "ticks": ""
            },
            "colorscale": [
             [
              0,
              "#0d0887"
             ],
             [
              0.1111111111111111,
              "#46039f"
             ],
             [
              0.2222222222222222,
              "#7201a8"
             ],
             [
              0.3333333333333333,
              "#9c179e"
             ],
             [
              0.4444444444444444,
              "#bd3786"
             ],
             [
              0.5555555555555556,
              "#d8576b"
             ],
             [
              0.6666666666666666,
              "#ed7953"
             ],
             [
              0.7777777777777778,
              "#fb9f3a"
             ],
             [
              0.8888888888888888,
              "#fdca26"
             ],
             [
              1,
              "#f0f921"
             ]
            ],
            "type": "histogram2dcontour"
           }
          ],
          "mesh3d": [
           {
            "colorbar": {
             "outlinewidth": 0,
             "ticks": ""
            },
            "type": "mesh3d"
           }
          ],
          "parcoords": [
           {
            "line": {
             "colorbar": {
              "outlinewidth": 0,
              "ticks": ""
             }
            },
            "type": "parcoords"
           }
          ],
          "pie": [
           {
            "automargin": true,
            "type": "pie"
           }
          ],
          "scatter": [
           {
            "marker": {
             "colorbar": {
              "outlinewidth": 0,
              "ticks": ""
             }
            },
            "type": "scatter"
           }
          ],
          "scatter3d": [
           {
            "line": {
             "colorbar": {
              "outlinewidth": 0,
              "ticks": ""
             }
            },
            "marker": {
             "colorbar": {
              "outlinewidth": 0,
              "ticks": ""
             }
            },
            "type": "scatter3d"
           }
          ],
          "scattercarpet": [
           {
            "marker": {
             "colorbar": {
              "outlinewidth": 0,
              "ticks": ""
             }
            },
            "type": "scattercarpet"
           }
          ],
          "scattergeo": [
           {
            "marker": {
             "colorbar": {
              "outlinewidth": 0,
              "ticks": ""
             }
            },
            "type": "scattergeo"
           }
          ],
          "scattergl": [
           {
            "marker": {
             "colorbar": {
              "outlinewidth": 0,
              "ticks": ""
             }
            },
            "type": "scattergl"
           }
          ],
          "scattermapbox": [
           {
            "marker": {
             "colorbar": {
              "outlinewidth": 0,
              "ticks": ""
             }
            },
            "type": "scattermapbox"
           }
          ],
          "scatterpolar": [
           {
            "marker": {
             "colorbar": {
              "outlinewidth": 0,
              "ticks": ""
             }
            },
            "type": "scatterpolar"
           }
          ],
          "scatterpolargl": [
           {
            "marker": {
             "colorbar": {
              "outlinewidth": 0,
              "ticks": ""
             }
            },
            "type": "scatterpolargl"
           }
          ],
          "scatterternary": [
           {
            "marker": {
             "colorbar": {
              "outlinewidth": 0,
              "ticks": ""
             }
            },
            "type": "scatterternary"
           }
          ],
          "surface": [
           {
            "colorbar": {
             "outlinewidth": 0,
             "ticks": ""
            },
            "colorscale": [
             [
              0,
              "#0d0887"
             ],
             [
              0.1111111111111111,
              "#46039f"
             ],
             [
              0.2222222222222222,
              "#7201a8"
             ],
             [
              0.3333333333333333,
              "#9c179e"
             ],
             [
              0.4444444444444444,
              "#bd3786"
             ],
             [
              0.5555555555555556,
              "#d8576b"
             ],
             [
              0.6666666666666666,
              "#ed7953"
             ],
             [
              0.7777777777777778,
              "#fb9f3a"
             ],
             [
              0.8888888888888888,
              "#fdca26"
             ],
             [
              1,
              "#f0f921"
             ]
            ],
            "type": "surface"
           }
          ],
          "table": [
           {
            "cells": {
             "fill": {
              "color": "#EBF0F8"
             },
             "line": {
              "color": "white"
             }
            },
            "header": {
             "fill": {
              "color": "#C8D4E3"
             },
             "line": {
              "color": "white"
             }
            },
            "type": "table"
           }
          ]
         },
         "layout": {
          "annotationdefaults": {
           "arrowcolor": "#2a3f5f",
           "arrowhead": 0,
           "arrowwidth": 1
          },
          "coloraxis": {
           "colorbar": {
            "outlinewidth": 0,
            "ticks": ""
           }
          },
          "colorscale": {
           "diverging": [
            [
             0,
             "#8e0152"
            ],
            [
             0.1,
             "#c51b7d"
            ],
            [
             0.2,
             "#de77ae"
            ],
            [
             0.3,
             "#f1b6da"
            ],
            [
             0.4,
             "#fde0ef"
            ],
            [
             0.5,
             "#f7f7f7"
            ],
            [
             0.6,
             "#e6f5d0"
            ],
            [
             0.7,
             "#b8e186"
            ],
            [
             0.8,
             "#7fbc41"
            ],
            [
             0.9,
             "#4d9221"
            ],
            [
             1,
             "#276419"
            ]
           ],
           "sequential": [
            [
             0,
             "#0d0887"
            ],
            [
             0.1111111111111111,
             "#46039f"
            ],
            [
             0.2222222222222222,
             "#7201a8"
            ],
            [
             0.3333333333333333,
             "#9c179e"
            ],
            [
             0.4444444444444444,
             "#bd3786"
            ],
            [
             0.5555555555555556,
             "#d8576b"
            ],
            [
             0.6666666666666666,
             "#ed7953"
            ],
            [
             0.7777777777777778,
             "#fb9f3a"
            ],
            [
             0.8888888888888888,
             "#fdca26"
            ],
            [
             1,
             "#f0f921"
            ]
           ],
           "sequentialminus": [
            [
             0,
             "#0d0887"
            ],
            [
             0.1111111111111111,
             "#46039f"
            ],
            [
             0.2222222222222222,
             "#7201a8"
            ],
            [
             0.3333333333333333,
             "#9c179e"
            ],
            [
             0.4444444444444444,
             "#bd3786"
            ],
            [
             0.5555555555555556,
             "#d8576b"
            ],
            [
             0.6666666666666666,
             "#ed7953"
            ],
            [
             0.7777777777777778,
             "#fb9f3a"
            ],
            [
             0.8888888888888888,
             "#fdca26"
            ],
            [
             1,
             "#f0f921"
            ]
           ]
          },
          "colorway": [
           "#636efa",
           "#EF553B",
           "#00cc96",
           "#ab63fa",
           "#FFA15A",
           "#19d3f3",
           "#FF6692",
           "#B6E880",
           "#FF97FF",
           "#FECB52"
          ],
          "font": {
           "color": "#2a3f5f"
          },
          "geo": {
           "bgcolor": "white",
           "lakecolor": "white",
           "landcolor": "#E5ECF6",
           "showlakes": true,
           "showland": true,
           "subunitcolor": "white"
          },
          "hoverlabel": {
           "align": "left"
          },
          "hovermode": "closest",
          "mapbox": {
           "style": "light"
          },
          "paper_bgcolor": "white",
          "plot_bgcolor": "#E5ECF6",
          "polar": {
           "angularaxis": {
            "gridcolor": "white",
            "linecolor": "white",
            "ticks": ""
           },
           "bgcolor": "#E5ECF6",
           "radialaxis": {
            "gridcolor": "white",
            "linecolor": "white",
            "ticks": ""
           }
          },
          "scene": {
           "xaxis": {
            "backgroundcolor": "#E5ECF6",
            "gridcolor": "white",
            "gridwidth": 2,
            "linecolor": "white",
            "showbackground": true,
            "ticks": "",
            "zerolinecolor": "white"
           },
           "yaxis": {
            "backgroundcolor": "#E5ECF6",
            "gridcolor": "white",
            "gridwidth": 2,
            "linecolor": "white",
            "showbackground": true,
            "ticks": "",
            "zerolinecolor": "white"
           },
           "zaxis": {
            "backgroundcolor": "#E5ECF6",
            "gridcolor": "white",
            "gridwidth": 2,
            "linecolor": "white",
            "showbackground": true,
            "ticks": "",
            "zerolinecolor": "white"
           }
          },
          "shapedefaults": {
           "line": {
            "color": "#2a3f5f"
           }
          },
          "ternary": {
           "aaxis": {
            "gridcolor": "white",
            "linecolor": "white",
            "ticks": ""
           },
           "baxis": {
            "gridcolor": "white",
            "linecolor": "white",
            "ticks": ""
           },
           "bgcolor": "#E5ECF6",
           "caxis": {
            "gridcolor": "white",
            "linecolor": "white",
            "ticks": ""
           }
          },
          "title": {
           "x": 0.05
          },
          "xaxis": {
           "automargin": true,
           "gridcolor": "white",
           "linecolor": "white",
           "ticks": "",
           "title": {
            "standoff": 15
           },
           "zerolinecolor": "white",
           "zerolinewidth": 2
          },
          "yaxis": {
           "automargin": true,
           "gridcolor": "white",
           "linecolor": "white",
           "ticks": "",
           "title": {
            "standoff": 15
           },
           "zerolinecolor": "white",
           "zerolinewidth": 2
          }
         }
        },
        "title": {
         "text": "Daily number of deaths per country"
        },
        "xaxis": {
         "title": {
          "text": "Days after the first reported death"
         }
        },
        "yaxis": {
         "title": {
          "text": "Number of deaths"
         }
        }
       }
      },
      "text/html": [
       "<div>\n",
       "        \n",
       "        \n",
       "            <div id=\"4acb1959-a711-4298-9860-4642a68d4ef2\" class=\"plotly-graph-div\" style=\"height:525px; width:100%;\"></div>\n",
       "            <script type=\"text/javascript\">\n",
       "                require([\"plotly\"], function(Plotly) {\n",
       "                    window.PLOTLYENV=window.PLOTLYENV || {};\n",
       "                    \n",
       "                if (document.getElementById(\"4acb1959-a711-4298-9860-4642a68d4ef2\")) {\n",
       "                    Plotly.newPlot(\n",
       "                        '4acb1959-a711-4298-9860-4642a68d4ef2',\n",
       "                        [{\"line\": {\"color\": \"rgb(214, 39, 40)\"}, \"name\": \"Austria\", \"type\": \"scatter\", \"x\": [0, 1, 2, 3, 4, 5, 6, 7, 8, 9, 10, 11, 12, 13, 14, 15], \"y\": [null, null, null, 2.0, 3.0, 4.0, 4.0, 6.0, 7.0, 9.0, 10.0, 12.0, 14.0, null, null, null]}, {\"line\": {\"color\": \"rgb(214, 39, 40)\", \"dash\": \"dash\"}, \"name\": \"Fit - Austria\", \"type\": \"scatter\", \"x\": [5.0, 6.0, 7.0, 8.0, 9.0, 10.0, 11.0, 12.0, 13.0, 14.0, 15.0, 16.0, 17.0, 18.0, 19.0, 20.0], \"y\": [4.0, 5.0, 6.0, 7.0, 9.0, 10.0, 12.0, 14.0, 16.0, 17.0, 19.0, 20.0, 20.0, 19.0, 17.0, 14.0]}, {\"line\": {\"color\": \"rgb(148, 103, 189)\"}, \"name\": \"Belgium\", \"type\": \"scatter\", \"x\": [0, 1, 2, 3, 4, 5, 6, 7, 8, 9, 10, 11, 12, 13, 14, 15, 16, 17, 18, 19, 20], \"y\": [null, null, null, 1.0, 2.0, 3.0, 5.0, 9.0, 10.0, 12.0, 16.0, 23.0, 28.0, 36.0, 41.0, 51.0, 61.0, 83.0, null, null, null]}, {\"line\": {\"color\": \"rgb(148, 103, 189)\", \"dash\": \"dash\"}, \"name\": \"Fit - Belgium\", \"type\": \"scatter\", \"x\": [5.0, 6.0, 7.0, 8.0, 9.0, 10.0, 11.0, 12.0, 13.0, 14.0, 15.0, 16.0, 17.0, 18.0, 19.0, 20.0, 21.0, 22.0, 23.0, 24.0, 25.0], \"y\": [3.0, 5.0, 8.0, 11.0, 14.0, 18.0, 22.0, 27.0, 33.0, 41.0, 51.0, 64.0, 81.0, 102.0, 129.0, 163.0, 204.0, 255.0, 317.0, 391.0, 478.0]}, {\"line\": {\"color\": \"rgb(140, 86, 75)\"}, \"name\": \"Brazil\", \"type\": \"scatter\", \"x\": [0, 1, 2, 3, 4, 5, 6, 7, 8, 9, 10, 11, 12, 13], \"y\": [null, null, null, 7.0, 8.0, 10.0, 12.0, 14.0, 16.0, 18.0, 22.0, null, null, null]}, {\"line\": {\"color\": \"rgb(140, 86, 75)\", \"dash\": \"dash\"}, \"name\": \"Fit - Brazil\", \"type\": \"scatter\", \"x\": [5.0, 6.0, 7.0, 8.0, 9.0, 10.0, 11.0, 12.0, 13.0, 14.0, 15.0, 16.0, 17.0, 18.0], \"y\": [10.0, 12.0, 14.0, 16.0, 18.0, 22.0, 29.0, 41.0, 60.0, 91.0, 135.0, 197.0, 281.0, 393.0]}, {\"line\": {\"color\": \"rgb(44, 160, 44)\"}, \"name\": \"Canada\", \"type\": \"scatter\", \"x\": [0, 1, 2, 3, 4, 5, 6, 7, 8, 9, 10, 11, 12, 13, 14, 15], \"y\": [null, null, null, 3.0, 3.0, 3.0, 3.0, 4.0, 6.0, 6.0, 6.0, 8.0, 11.0, null, null, null]}, {\"line\": {\"color\": \"rgb(44, 160, 44)\", \"dash\": \"dash\"}, \"name\": \"Fit - Canada\", \"type\": \"scatter\", \"x\": [5.0, 6.0, 7.0, 8.0, 9.0, 10.0, 11.0, 12.0, 13.0, 14.0, 15.0, 16.0, 17.0, 18.0, 19.0, 20.0], \"y\": [3.0, 4.0, 4.0, 5.0, 6.0, 7.0, 8.0, 11.0, 16.0, 25.0, 39.0, 59.0, 88.0, 127.0, 178.0, 246.0]}, {\"line\": {\"color\": \"rgb(31, 119, 180)\"}, \"name\": \"China\", \"type\": \"scatter\", \"x\": [0, 1, 2, 3, 4, 5, 6, 7, 8, 9, 10, 11, 12, 13, 14, 15, 16, 17, 18, 19, 20, 21, 22, 23, 24, 25, 26, 27, 28, 29, 30, 31, 32, 33, 34, 35, 36, 37, 38, 39, 40, 41, 42, 43, 44, 45, 46, 47, 48, 49, 50, 51, 52, 53, 54, 55, 56, 57, 58, 59, 60, 61, 62, 63, 64, 65, 66, 67, 68, 69], \"y\": [null, null, null, 19.0, 17.0, 22.0, 27.0, 31.0, 44.0, 49.0, 51.0, 61.0, 66.0, 72.0, 78.0, 78.0, 84.0, 89.0, 79.0, 105.0, 115.0, 123.0, 123.0, 122.0, 127.0, 143.0, 124.0, 102.0, 111.0, 97.0, 104.0, 95.0, 86.0, 73.0, 79.0, 56.0, 61.0, 46.0, 40.0, 38.0, 38.0, 36.0, 34.0, 33.0, 30.0, 27.0, 25.0, 22.0, 19.0, 17.0, 15.0, 13.0, 13.0, 11.0, 11.0, 10.0, 9.0, 10.0, 8.0, 7.0, 6.0, 6.0, 6.0, 6.0, 4.0, 5.0, 4.0, null, null, null]}, {\"line\": {\"color\": \"rgb(31, 119, 180)\", \"dash\": \"dash\"}, \"name\": \"Fit - China\", \"type\": \"scatter\", \"x\": [5.0, 6.0, 7.0, 8.0, 9.0, 10.0, 11.0, 12.0, 13.0, 14.0, 15.0, 16.0, 17.0, 18.0, 19.0, 20.0, 21.0, 22.0, 23.0, 24.0, 25.0, 26.0, 27.0, 28.0, 29.0, 30.0, 31.0, 32.0, 33.0, 34.0, 35.0, 36.0, 37.0, 38.0, 39.0, 40.0, 41.0, 42.0, 43.0, 44.0, 45.0, 46.0, 47.0, 48.0, 49.0, 50.0, 51.0, 52.0, 53.0, 54.0, 55.0, 56.0, 57.0, 58.0, 59.0, 60.0, 61.0, 62.0, 63.0, 64.0, 65.0, 66.0, 67.0, 68.0, 69.0, 70.0, 71.0, 72.0, 73.0, 74.0], \"y\": [18.0, 29.0, 39.0, 49.0, 57.0, 65.0, 72.0, 78.0, 84.0, 88.0, 93.0, 96.0, 99.0, 101.0, 103.0, 104.0, 105.0, 105.0, 104.0, 104.0, 102.0, 101.0, 99.0, 97.0, 94.0, 91.0, 88.0, 85.0, 81.0, 77.0, 73.0, 69.0, 65.0, 61.0, 56.0, 52.0, 48.0, 43.0, 39.0, 35.0, 31.0, 27.0, 23.0, 20.0, 16.0, 13.0, 10.0, 8.0, 5.0, 3.0, 2.0, 1.0, 0.0, -0.0, 0.0, 1.0, 2.0, 4.0, 6.0, 10.0, 13.0, 18.0, 23.0, 29.0, 35.0, 43.0, 51.0, 60.0, 70.0, 81.0]}, {\"line\": {\"color\": \"rgb(255, 127, 14)\"}, \"name\": \"France\", \"type\": \"scatter\", \"x\": [0, 1, 2, 3, 4, 5, 6, 7, 8, 9, 10, 11, 12, 13, 14, 15, 16, 17, 18, 19, 20, 21, 22, 23, 24, 25, 26, 27, 28, 29, 30, 31, 32, 33, 34], \"y\": [null, null, null, 1.0, 0.0, 1.0, 1.0, 1.0, 2.0, 2.0, 4.0, 6.0, 6.0, 10.0, 11.0, 10.0, 19.0, 17.0, 14.0, 28.0, 53.0, 67.0, 84.0, 102.0, 136.0, 169.0, 208.0, 221.0, 251.0, 276.0, 310.0, 347.0, null, null, null]}, {\"line\": {\"color\": \"rgb(255, 127, 14)\", \"dash\": \"dash\"}, \"name\": \"Fit - France\", \"type\": \"scatter\", \"x\": [5.0, 6.0, 7.0, 8.0, 9.0, 10.0, 11.0, 12.0, 13.0, 14.0, 15.0, 16.0, 17.0, 18.0, 19.0, 20.0, 21.0, 22.0, 23.0, 24.0, 25.0, 26.0, 27.0, 28.0, 29.0, 30.0, 31.0, 32.0, 33.0, 34.0, 35.0, 36.0, 37.0, 38.0, 39.0], \"y\": [5.0, 7.0, 7.0, 7.0, 5.0, 3.0, 2.0, 1.0, 1.0, 2.0, 6.0, 11.0, 18.0, 28.0, 39.0, 54.0, 71.0, 90.0, 111.0, 135.0, 161.0, 189.0, 219.0, 250.0, 282.0, 314.0, 347.0, 380.0, 412.0, 443.0, 471.0, 498.0, 521.0, 540.0, 555.0]}, {\"line\": {\"color\": \"rgb(140, 86, 75)\"}, \"name\": \"Germany\", \"type\": \"scatter\", \"x\": [0, 1, 2, 3, 4, 5, 6, 7, 8, 9, 10, 11, 12, 13, 14, 15, 16, 17, 18, 19, 20, 21, 22], \"y\": [null, null, null, 2.0, 2.0, 3.0, 4.0, 6.0, 9.0, 11.0, 12.0, 15.0, 19.0, 25.0, 32.0, 39.0, 50.0, 63.0, 75.0, 88.0, null, null, null]}, {\"line\": {\"color\": \"rgb(140, 86, 75)\", \"dash\": \"dash\"}, \"name\": \"Fit - Germany\", \"type\": \"scatter\", \"x\": [5.0, 6.0, 7.0, 8.0, 9.0, 10.0, 11.0, 12.0, 13.0, 14.0, 15.0, 16.0, 17.0, 18.0, 19.0, 20.0, 21.0, 22.0, 23.0, 24.0, 25.0, 26.0, 27.0], \"y\": [4.0, 5.0, 6.0, 8.0, 9.0, 12.0, 15.0, 20.0, 25.0, 32.0, 40.0, 50.0, 61.0, 74.0, 89.0, 106.0, 124.0, 145.0, 167.0, 192.0, 219.0, 247.0, 278.0]}, {\"line\": {\"color\": \"rgb(255, 127, 14)\"}, \"name\": \"Indonesia\", \"type\": \"scatter\", \"x\": [0, 1, 2, 3, 4, 5, 6, 7, 8, 9, 10, 11, 12, 13, 14, 15, 16, 17, 18], \"y\": [null, null, null, 4.0, 4.0, 5.0, 6.0, 6.0, 7.0, 6.0, 8.0, 8.0, 9.0, 9.0, 10.0, 12.0, null, null, null]}, {\"line\": {\"color\": \"rgb(255, 127, 14)\", \"dash\": \"dash\"}, \"name\": \"Fit - Indonesia\", \"type\": \"scatter\", \"x\": [5.0, 6.0, 7.0, 8.0, 9.0, 10.0, 11.0, 12.0, 13.0, 14.0, 15.0, 16.0, 17.0, 18.0, 19.0, 20.0, 21.0, 22.0, 23.0], \"y\": [5.0, 6.0, 6.0, 7.0, 7.0, 8.0, 8.0, 9.0, 9.0, 10.0, 12.0, 14.0, 17.0, 21.0, 27.0, 34.0, 43.0, 54.0, 68.0]}, {\"line\": {\"color\": \"rgb(44, 160, 44)\"}, \"name\": \"Iran\", \"type\": \"scatter\", \"x\": [0, 1, 2, 3, 4, 5, 6, 7, 8, 9, 10, 11, 12, 13, 14, 15, 16, 17, 18, 19, 20, 21, 22, 23, 24, 25, 26, 27, 28, 29, 30, 31, 32, 33, 34, 35, 36, 37, 38, 39, 40, 41], \"y\": [null, null, null, 2.0, 2.0, 3.0, 4.0, 5.0, 7.0, 8.0, 9.0, 10.0, 12.0, 13.0, 15.0, 20.0, 24.0, 31.0, 37.0, 46.0, 56.0, 67.0, 76.0, 88.0, 100.0, 112.0, 122.0, 131.0, 135.0, 137.0, 137.0, 135.0, 135.0, 136.0, 135.0, 137.0, 136.0, 135.0, 138.0, null, null, null]}, {\"line\": {\"color\": \"rgb(44, 160, 44)\", \"dash\": \"dash\"}, \"name\": \"Fit - Iran\", \"type\": \"scatter\", \"x\": [5.0, 6.0, 7.0, 8.0, 9.0, 10.0, 11.0, 12.0, 13.0, 14.0, 15.0, 16.0, 17.0, 18.0, 19.0, 20.0, 21.0, 22.0, 23.0, 24.0, 25.0, 26.0, 27.0, 28.0, 29.0, 30.0, 31.0, 32.0, 33.0, 34.0, 35.0, 36.0, 37.0, 38.0, 39.0, 40.0, 41.0, 42.0, 43.0, 44.0, 45.0, 46.0], \"y\": [3.0, 2.0, 1.0, 1.0, 2.0, 4.0, 7.0, 10.0, 14.0, 19.0, 25.0, 31.0, 38.0, 45.0, 53.0, 61.0, 69.0, 78.0, 86.0, 95.0, 103.0, 111.0, 118.0, 125.0, 131.0, 137.0, 141.0, 144.0, 145.0, 145.0, 143.0, 139.0, 133.0, 124.0, 113.0, 99.0, 81.0, 60.0, 35.0, 7.0, -26.0, -64.0]}, {\"line\": {\"color\": \"rgb(31, 119, 180)\"}, \"name\": \"Italy\", \"type\": \"scatter\", \"x\": [0, 1, 2, 3, 4, 5, 6, 7, 8, 9, 10, 11, 12, 13, 14, 15, 16, 17, 18, 19, 20, 21, 22, 23, 24, 25, 26, 27, 28, 29, 30, 31, 32, 33, 34, 35, 36, 37, 38], \"y\": [null, null, null, 3.0, 4.0, 4.0, 6.0, 10.0, 14.0, 19.0, 25.0, 29.0, 47.0, 59.0, 79.0, 103.0, 97.0, 153.0, 173.0, 206.0, 242.0, 267.0, 307.0, 368.0, 395.0, 483.0, 524.0, 560.0, 617.0, 646.0, 687.0, 729.0, 743.0, 758.0, 788.0, 801.0, null, null, null]}, {\"line\": {\"color\": \"rgb(31, 119, 180)\", \"dash\": \"dash\"}, \"name\": \"Fit - Italy\", \"type\": \"scatter\", \"x\": [5.0, 6.0, 7.0, 8.0, 9.0, 10.0, 11.0, 12.0, 13.0, 14.0, 15.0, 16.0, 17.0, 18.0, 19.0, 20.0, 21.0, 22.0, 23.0, 24.0, 25.0, 26.0, 27.0, 28.0, 29.0, 30.0, 31.0, 32.0, 33.0, 34.0, 35.0, 36.0, 37.0, 38.0, 39.0, 40.0, 41.0, 42.0, 43.0], \"y\": [8.0, 11.0, 13.0, 16.0, 20.0, 25.0, 32.0, 42.0, 55.0, 71.0, 91.0, 114.0, 140.0, 171.0, 205.0, 242.0, 282.0, 325.0, 370.0, 416.0, 463.0, 511.0, 558.0, 604.0, 647.0, 687.0, 722.0, 752.0, 774.0, 788.0, 792.0, 785.0, 764.0, 729.0, 677.0, 607.0, 516.0, 403.0, 265.0]}, {\"line\": {\"color\": \"rgb(31, 119, 180)\"}, \"name\": \"Korea, South\", \"type\": \"scatter\", \"x\": [0, 1, 2, 3, 4, 5, 6, 7, 8, 9, 10, 11, 12, 13, 14, 15, 16, 17, 18, 19, 20, 21, 22, 23, 24, 25, 26, 27, 28, 29, 30, 31, 32, 33, 34, 35, 36, 37, 38, 39], \"y\": [null, null, null, 2.0, 2.0, 2.0, 2.0, 3.0, 3.0, 3.0, 3.0, 4.0, 4.0, 5.0, 4.0, 4.0, 4.0, 4.0, 3.0, 4.0, 4.0, 3.0, 4.0, 3.0, 4.0, 4.0, 4.0, 5.0, 5.0, 6.0, 6.0, 6.0, 6.0, 6.0, 6.0, 7.0, 6.0, null, null, null]}, {\"line\": {\"color\": \"rgb(31, 119, 180)\", \"dash\": \"dash\"}, \"name\": \"Fit - Korea, South\", \"type\": \"scatter\", \"x\": [5.0, 6.0, 7.0, 8.0, 9.0, 10.0, 11.0, 12.0, 13.0, 14.0, 15.0, 16.0, 17.0, 18.0, 19.0, 20.0, 21.0, 22.0, 23.0, 24.0, 25.0, 26.0, 27.0, 28.0, 29.0, 30.0, 31.0, 32.0, 33.0, 34.0, 35.0, 36.0, 37.0, 38.0, 39.0, 40.0, 41.0, 42.0, 43.0, 44.0], \"y\": [2.0, 3.0, 3.0, 3.0, 3.0, 4.0, 4.0, 4.0, 4.0, 4.0, 4.0, 4.0, 4.0, 4.0, 4.0, 4.0, 4.0, 4.0, 4.0, 4.0, 4.0, 5.0, 5.0, 5.0, 5.0, 5.0, 6.0, 6.0, 6.0, 6.0, 6.0, 7.0, 7.0, 7.0, 6.0, 6.0, 6.0, 5.0, 5.0, 4.0]}, {\"line\": {\"color\": \"rgb(140, 86, 75)\"}, \"name\": \"Netherlands\", \"type\": \"scatter\", \"x\": [0, 1, 2, 3, 4, 5, 6, 7, 8, 9, 10, 11, 12, 13, 14, 15, 16, 17, 18, 19, 20, 21, 22, 23], \"y\": [null, null, null, 2.0, 2.0, 3.0, 6.0, 8.0, 10.0, 14.0, 18.0, 23.0, 27.0, 33.0, 43.0, 51.0, 63.0, 72.0, 85.0, 93.0, 109.0, null, null, null]}, {\"line\": {\"color\": \"rgb(140, 86, 75)\", \"dash\": \"dash\"}, \"name\": \"Fit - Netherlands\", \"type\": \"scatter\", \"x\": [5.0, 6.0, 7.0, 8.0, 9.0, 10.0, 11.0, 12.0, 13.0, 14.0, 15.0, 16.0, 17.0, 18.0, 19.0, 20.0, 21.0, 22.0, 23.0, 24.0, 25.0, 26.0, 27.0, 28.0], \"y\": [4.0, 6.0, 8.0, 10.0, 13.0, 17.0, 22.0, 28.0, 35.0, 43.0, 52.0, 61.0, 72.0, 83.0, 96.0, 108.0, 121.0, 134.0, 147.0, 160.0, 172.0, 183.0, 193.0, 202.0]}, {\"line\": {\"color\": \"rgb(44, 160, 44)\"}, \"name\": \"Portugal\", \"type\": \"scatter\", \"x\": [0, 1, 2, 3, 4, 5, 6, 7, 8, 9, 10, 11, 12, 13], \"y\": [null, null, null, 5.0, 6.0, 8.0, 10.0, 13.0, 15.0, 17.0, 18.0, null, null, null]}, {\"line\": {\"color\": \"rgb(44, 160, 44)\", \"dash\": \"dash\"}, \"name\": \"Fit - Portugal\", \"type\": \"scatter\", \"x\": [5.0, 6.0, 7.0, 8.0, 9.0, 10.0, 11.0, 12.0, 13.0, 14.0, 15.0, 16.0, 17.0, 18.0], \"y\": [8.0, 10.0, 13.0, 15.0, 17.0, 18.0, 18.0, 16.0, 13.0, 7.0, -1.0, -12.0, -26.0, -44.0]}, {\"line\": {\"color\": \"rgb(214, 39, 40)\"}, \"name\": \"Spain\", \"type\": \"scatter\", \"x\": [0, 1, 2, 3, 4, 5, 6, 7, 8, 9, 10, 11, 12, 13, 14, 15, 16, 17, 18, 19, 20, 21, 22, 23, 24, 25, 26, 27], \"y\": [null, null, null, 5.0, 7.0, 7.0, 18.0, 26.0, 39.0, 45.0, 71.0, 81.0, 111.0, 130.0, 169.0, 212.0, 281.0, 325.0, 432.0, 505.0, 585.0, 658.0, 719.0, 772.0, 808.0, null, null, null]}, {\"line\": {\"color\": \"rgb(214, 39, 40)\", \"dash\": \"dash\"}, \"name\": \"Fit - Spain\", \"type\": \"scatter\", \"x\": [5.0, 6.0, 7.0, 8.0, 9.0, 10.0, 11.0, 12.0, 13.0, 14.0, 15.0, 16.0, 17.0, 18.0, 19.0, 20.0, 21.0, 22.0, 23.0, 24.0, 25.0, 26.0, 27.0, 28.0, 29.0, 30.0, 31.0, 32.0], \"y\": [23.0, 29.0, 32.0, 35.0, 42.0, 53.0, 71.0, 97.0, 132.0, 175.0, 227.0, 286.0, 353.0, 425.0, 500.0, 575.0, 648.0, 715.0, 773.0, 816.0, 840.0, 841.0, 811.0, 745.0, 636.0, 477.0, 261.0, -21.0]}, {\"line\": {\"color\": \"rgb(255, 127, 14)\"}, \"name\": \"Sweden\", \"type\": \"scatter\", \"x\": [0, 1, 2, 3, 4, 5, 6, 7, 8, 9, 10, 11, 12, 13, 14, 15, 16, 17], \"y\": [null, null, null, 2.0, 3.0, 3.0, 3.0, 4.0, 7.0, 9.0, 13.0, 12.0, 13.0, 17.0, 21.0, null, null, null]}, {\"line\": {\"color\": \"rgb(255, 127, 14)\", \"dash\": \"dash\"}, \"name\": \"Fit - Sweden\", \"type\": \"scatter\", \"x\": [5.0, 6.0, 7.0, 8.0, 9.0, 10.0, 11.0, 12.0, 13.0, 14.0, 15.0, 16.0, 17.0, 18.0, 19.0, 20.0, 21.0, 22.0], \"y\": [2.0, 4.0, 5.0, 7.0, 9.0, 11.0, 12.0, 14.0, 17.0, 21.0, 26.0, 34.0, 45.0, 61.0, 82.0, 110.0, 146.0, 192.0]}, {\"line\": {\"color\": \"rgb(44, 160, 44)\"}, \"name\": \"Switzerland\", \"type\": \"scatter\", \"x\": [0, 1, 2, 3, 4, 5, 6, 7, 8, 9, 10, 11, 12, 13, 14, 15, 16, 17, 18, 19, 20, 21, 22, 23], \"y\": [null, null, null, 2.0, 2.0, 2.0, 3.0, 3.0, 5.0, 6.0, 9.0, 12.0, 15.0, 14.0, 18.0, 21.0, 25.0, 27.0, 29.0, 34.0, 44.0, null, null, null]}, {\"line\": {\"color\": \"rgb(44, 160, 44)\", \"dash\": \"dash\"}, \"name\": \"Fit - Switzerland\", \"type\": \"scatter\", \"x\": [5.0, 6.0, 7.0, 8.0, 9.0, 10.0, 11.0, 12.0, 13.0, 14.0, 15.0, 16.0, 17.0, 18.0, 19.0, 20.0, 21.0, 22.0, 23.0, 24.0, 25.0, 26.0, 27.0, 28.0], \"y\": [1.0, 2.0, 4.0, 5.0, 7.0, 9.0, 11.0, 14.0, 16.0, 18.0, 20.0, 23.0, 27.0, 31.0, 36.0, 42.0, 51.0, 61.0, 75.0, 91.0, 112.0, 136.0, 166.0, 202.0]}, {\"line\": {\"color\": \"rgb(140, 86, 75)\"}, \"name\": \"Turkey\", \"type\": \"scatter\", \"x\": [0, 1, 2, 3, 4, 5, 6, 7, 8, 9, 10, 11, 12], \"y\": [null, null, null, 8.0, 10.0, 13.0, 14.0, 14.0, 19.0, 24.0, null, null, null]}, {\"line\": {\"color\": \"rgb(140, 86, 75)\", \"dash\": \"dash\"}, \"name\": \"Fit - Turkey\", \"type\": \"scatter\", \"x\": [5.0, 6.0, 7.0, 8.0, 9.0, 10.0, 11.0, 12.0, 13.0, 14.0, 15.0, 16.0, 17.0], \"y\": [12.0, 14.0, 15.0, 18.0, 24.0, 35.0, 53.0, 81.0, 122.0, 179.0, 256.0, 357.0, 486.0]}, {\"line\": {\"color\": \"rgb(31, 119, 180)\"}, \"name\": \"US\", \"type\": \"scatter\", \"x\": [0, 1, 2, 3, 4, 5, 6, 7, 8, 9, 10, 11, 12, 13, 14, 15, 16, 17, 18, 19, 20, 21, 22, 23, 24, 25, 26, 27, 28, 29], \"y\": [null, null, null, 3.0, 2.0, 3.0, 4.0, 4.0, 5.0, 5.0, 6.0, 9.0, 11.0, 12.0, 23.0, 28.0, 36.0, 51.0, 67.0, 85.0, 118.0, 144.0, 191.0, 246.0, 293.0, 346.0, 452.0, null, null, null]}, {\"line\": {\"color\": \"rgb(31, 119, 180)\", \"dash\": \"dash\"}, \"name\": \"Fit - US\", \"type\": \"scatter\", \"x\": [5.0, 6.0, 7.0, 8.0, 9.0, 10.0, 11.0, 12.0, 13.0, 14.0, 15.0, 16.0, 17.0, 18.0, 19.0, 20.0, 21.0, 22.0, 23.0, 24.0, 25.0, 26.0, 27.0, 28.0, 29.0, 30.0, 31.0, 32.0, 33.0, 34.0], \"y\": [3.0, 3.0, 4.0, 4.0, 5.0, 7.0, 9.0, 11.0, 15.0, 20.0, 27.0, 37.0, 50.0, 67.0, 88.0, 115.0, 148.0, 188.0, 236.0, 294.0, 363.0, 443.0, 536.0, 644.0, 767.0, 908.0, 1068.0, 1249.0, 1452.0, 1680.0]}, {\"line\": {\"color\": \"rgb(148, 103, 189)\"}, \"name\": \"United Kingdom\", \"type\": \"scatter\", \"x\": [0, 1, 2, 3, 4, 5, 6, 7, 8, 9, 10, 11, 12, 13, 14, 15, 16, 17, 18, 19, 20, 21, 22, 23, 24, 25], \"y\": [null, null, null, 1.0, 1.0, 3.0, 3.0, 7.0, 7.0, 9.0, 19.0, 24.0, 30.0, 37.0, 40.0, 52.0, 56.0, 63.0, 83.0, 112.0, 136.0, 154.0, 196.0, null, null, null]}, {\"line\": {\"color\": \"rgb(148, 103, 189)\", \"dash\": \"dash\"}, \"name\": \"Fit - United Kingdom\", \"type\": \"scatter\", \"x\": [5.0, 6.0, 7.0, 8.0, 9.0, 10.0, 11.0, 12.0, 13.0, 14.0, 15.0, 16.0, 17.0, 18.0, 19.0, 20.0, 21.0, 22.0, 23.0, 24.0, 25.0, 26.0, 27.0, 28.0, 29.0, 30.0], \"y\": [1.0, 3.0, 6.0, 9.0, 14.0, 18.0, 23.0, 28.0, 34.0, 41.0, 49.0, 59.0, 71.0, 86.0, 106.0, 130.0, 159.0, 196.0, 240.0, 294.0, 359.0, 435.0, 526.0, 632.0, 755.0, 897.0]}],\n",
       "                        {\"template\": {\"data\": {\"bar\": [{\"error_x\": {\"color\": \"#2a3f5f\"}, \"error_y\": {\"color\": \"#2a3f5f\"}, \"marker\": {\"line\": {\"color\": \"#E5ECF6\", \"width\": 0.5}}, \"type\": \"bar\"}], \"barpolar\": [{\"marker\": {\"line\": {\"color\": \"#E5ECF6\", \"width\": 0.5}}, \"type\": \"barpolar\"}], \"carpet\": [{\"aaxis\": {\"endlinecolor\": \"#2a3f5f\", \"gridcolor\": \"white\", \"linecolor\": \"white\", \"minorgridcolor\": \"white\", \"startlinecolor\": \"#2a3f5f\"}, \"baxis\": {\"endlinecolor\": \"#2a3f5f\", \"gridcolor\": \"white\", \"linecolor\": \"white\", \"minorgridcolor\": \"white\", \"startlinecolor\": \"#2a3f5f\"}, \"type\": \"carpet\"}], \"choropleth\": [{\"colorbar\": {\"outlinewidth\": 0, \"ticks\": \"\"}, \"type\": \"choropleth\"}], \"contour\": [{\"colorbar\": {\"outlinewidth\": 0, \"ticks\": \"\"}, \"colorscale\": [[0.0, \"#0d0887\"], [0.1111111111111111, \"#46039f\"], [0.2222222222222222, \"#7201a8\"], [0.3333333333333333, \"#9c179e\"], [0.4444444444444444, \"#bd3786\"], [0.5555555555555556, \"#d8576b\"], [0.6666666666666666, \"#ed7953\"], [0.7777777777777778, \"#fb9f3a\"], [0.8888888888888888, \"#fdca26\"], [1.0, \"#f0f921\"]], \"type\": \"contour\"}], \"contourcarpet\": [{\"colorbar\": {\"outlinewidth\": 0, \"ticks\": \"\"}, \"type\": \"contourcarpet\"}], \"heatmap\": [{\"colorbar\": {\"outlinewidth\": 0, \"ticks\": \"\"}, \"colorscale\": [[0.0, \"#0d0887\"], [0.1111111111111111, \"#46039f\"], [0.2222222222222222, \"#7201a8\"], [0.3333333333333333, \"#9c179e\"], [0.4444444444444444, \"#bd3786\"], [0.5555555555555556, \"#d8576b\"], [0.6666666666666666, \"#ed7953\"], [0.7777777777777778, \"#fb9f3a\"], [0.8888888888888888, \"#fdca26\"], [1.0, \"#f0f921\"]], \"type\": \"heatmap\"}], \"heatmapgl\": [{\"colorbar\": {\"outlinewidth\": 0, \"ticks\": \"\"}, \"colorscale\": [[0.0, \"#0d0887\"], [0.1111111111111111, \"#46039f\"], [0.2222222222222222, \"#7201a8\"], [0.3333333333333333, \"#9c179e\"], [0.4444444444444444, \"#bd3786\"], [0.5555555555555556, \"#d8576b\"], [0.6666666666666666, \"#ed7953\"], [0.7777777777777778, \"#fb9f3a\"], [0.8888888888888888, \"#fdca26\"], [1.0, \"#f0f921\"]], \"type\": \"heatmapgl\"}], \"histogram\": [{\"marker\": {\"colorbar\": {\"outlinewidth\": 0, \"ticks\": \"\"}}, \"type\": \"histogram\"}], \"histogram2d\": [{\"colorbar\": {\"outlinewidth\": 0, \"ticks\": \"\"}, \"colorscale\": [[0.0, \"#0d0887\"], [0.1111111111111111, \"#46039f\"], [0.2222222222222222, \"#7201a8\"], [0.3333333333333333, \"#9c179e\"], [0.4444444444444444, \"#bd3786\"], [0.5555555555555556, \"#d8576b\"], [0.6666666666666666, \"#ed7953\"], [0.7777777777777778, \"#fb9f3a\"], [0.8888888888888888, \"#fdca26\"], [1.0, \"#f0f921\"]], \"type\": \"histogram2d\"}], \"histogram2dcontour\": [{\"colorbar\": {\"outlinewidth\": 0, \"ticks\": \"\"}, \"colorscale\": [[0.0, \"#0d0887\"], [0.1111111111111111, \"#46039f\"], [0.2222222222222222, \"#7201a8\"], [0.3333333333333333, \"#9c179e\"], [0.4444444444444444, \"#bd3786\"], [0.5555555555555556, \"#d8576b\"], [0.6666666666666666, \"#ed7953\"], [0.7777777777777778, \"#fb9f3a\"], [0.8888888888888888, \"#fdca26\"], [1.0, \"#f0f921\"]], \"type\": \"histogram2dcontour\"}], \"mesh3d\": [{\"colorbar\": {\"outlinewidth\": 0, \"ticks\": \"\"}, \"type\": \"mesh3d\"}], \"parcoords\": [{\"line\": {\"colorbar\": {\"outlinewidth\": 0, \"ticks\": \"\"}}, \"type\": \"parcoords\"}], \"pie\": [{\"automargin\": true, \"type\": \"pie\"}], \"scatter\": [{\"marker\": {\"colorbar\": {\"outlinewidth\": 0, \"ticks\": \"\"}}, \"type\": \"scatter\"}], \"scatter3d\": [{\"line\": {\"colorbar\": {\"outlinewidth\": 0, \"ticks\": \"\"}}, \"marker\": {\"colorbar\": {\"outlinewidth\": 0, \"ticks\": \"\"}}, \"type\": \"scatter3d\"}], \"scattercarpet\": [{\"marker\": {\"colorbar\": {\"outlinewidth\": 0, \"ticks\": \"\"}}, \"type\": \"scattercarpet\"}], \"scattergeo\": [{\"marker\": {\"colorbar\": {\"outlinewidth\": 0, \"ticks\": \"\"}}, \"type\": \"scattergeo\"}], \"scattergl\": [{\"marker\": {\"colorbar\": {\"outlinewidth\": 0, \"ticks\": \"\"}}, \"type\": \"scattergl\"}], \"scattermapbox\": [{\"marker\": {\"colorbar\": {\"outlinewidth\": 0, \"ticks\": \"\"}}, \"type\": \"scattermapbox\"}], \"scatterpolar\": [{\"marker\": {\"colorbar\": {\"outlinewidth\": 0, \"ticks\": \"\"}}, \"type\": \"scatterpolar\"}], \"scatterpolargl\": [{\"marker\": {\"colorbar\": {\"outlinewidth\": 0, \"ticks\": \"\"}}, \"type\": \"scatterpolargl\"}], \"scatterternary\": [{\"marker\": {\"colorbar\": {\"outlinewidth\": 0, \"ticks\": \"\"}}, \"type\": \"scatterternary\"}], \"surface\": [{\"colorbar\": {\"outlinewidth\": 0, \"ticks\": \"\"}, \"colorscale\": [[0.0, \"#0d0887\"], [0.1111111111111111, \"#46039f\"], [0.2222222222222222, \"#7201a8\"], [0.3333333333333333, \"#9c179e\"], [0.4444444444444444, \"#bd3786\"], [0.5555555555555556, \"#d8576b\"], [0.6666666666666666, \"#ed7953\"], [0.7777777777777778, \"#fb9f3a\"], [0.8888888888888888, \"#fdca26\"], [1.0, \"#f0f921\"]], \"type\": \"surface\"}], \"table\": [{\"cells\": {\"fill\": {\"color\": \"#EBF0F8\"}, \"line\": {\"color\": \"white\"}}, \"header\": {\"fill\": {\"color\": \"#C8D4E3\"}, \"line\": {\"color\": \"white\"}}, \"type\": \"table\"}]}, \"layout\": {\"annotationdefaults\": {\"arrowcolor\": \"#2a3f5f\", \"arrowhead\": 0, \"arrowwidth\": 1}, \"coloraxis\": {\"colorbar\": {\"outlinewidth\": 0, \"ticks\": \"\"}}, \"colorscale\": {\"diverging\": [[0, \"#8e0152\"], [0.1, \"#c51b7d\"], [0.2, \"#de77ae\"], [0.3, \"#f1b6da\"], [0.4, \"#fde0ef\"], [0.5, \"#f7f7f7\"], [0.6, \"#e6f5d0\"], [0.7, \"#b8e186\"], [0.8, \"#7fbc41\"], [0.9, \"#4d9221\"], [1, \"#276419\"]], \"sequential\": [[0.0, \"#0d0887\"], [0.1111111111111111, \"#46039f\"], [0.2222222222222222, \"#7201a8\"], [0.3333333333333333, \"#9c179e\"], [0.4444444444444444, \"#bd3786\"], [0.5555555555555556, \"#d8576b\"], [0.6666666666666666, \"#ed7953\"], [0.7777777777777778, \"#fb9f3a\"], [0.8888888888888888, \"#fdca26\"], [1.0, \"#f0f921\"]], \"sequentialminus\": [[0.0, \"#0d0887\"], [0.1111111111111111, \"#46039f\"], [0.2222222222222222, \"#7201a8\"], [0.3333333333333333, \"#9c179e\"], [0.4444444444444444, \"#bd3786\"], [0.5555555555555556, \"#d8576b\"], [0.6666666666666666, \"#ed7953\"], [0.7777777777777778, \"#fb9f3a\"], [0.8888888888888888, \"#fdca26\"], [1.0, \"#f0f921\"]]}, \"colorway\": [\"#636efa\", \"#EF553B\", \"#00cc96\", \"#ab63fa\", \"#FFA15A\", \"#19d3f3\", \"#FF6692\", \"#B6E880\", \"#FF97FF\", \"#FECB52\"], \"font\": {\"color\": \"#2a3f5f\"}, \"geo\": {\"bgcolor\": \"white\", \"lakecolor\": \"white\", \"landcolor\": \"#E5ECF6\", \"showlakes\": true, \"showland\": true, \"subunitcolor\": \"white\"}, \"hoverlabel\": {\"align\": \"left\"}, \"hovermode\": \"closest\", \"mapbox\": {\"style\": \"light\"}, \"paper_bgcolor\": \"white\", \"plot_bgcolor\": \"#E5ECF6\", \"polar\": {\"angularaxis\": {\"gridcolor\": \"white\", \"linecolor\": \"white\", \"ticks\": \"\"}, \"bgcolor\": \"#E5ECF6\", \"radialaxis\": {\"gridcolor\": \"white\", \"linecolor\": \"white\", \"ticks\": \"\"}}, \"scene\": {\"xaxis\": {\"backgroundcolor\": \"#E5ECF6\", \"gridcolor\": \"white\", \"gridwidth\": 2, \"linecolor\": \"white\", \"showbackground\": true, \"ticks\": \"\", \"zerolinecolor\": \"white\"}, \"yaxis\": {\"backgroundcolor\": \"#E5ECF6\", \"gridcolor\": \"white\", \"gridwidth\": 2, \"linecolor\": \"white\", \"showbackground\": true, \"ticks\": \"\", \"zerolinecolor\": \"white\"}, \"zaxis\": {\"backgroundcolor\": \"#E5ECF6\", \"gridcolor\": \"white\", \"gridwidth\": 2, \"linecolor\": \"white\", \"showbackground\": true, \"ticks\": \"\", \"zerolinecolor\": \"white\"}}, \"shapedefaults\": {\"line\": {\"color\": \"#2a3f5f\"}}, \"ternary\": {\"aaxis\": {\"gridcolor\": \"white\", \"linecolor\": \"white\", \"ticks\": \"\"}, \"baxis\": {\"gridcolor\": \"white\", \"linecolor\": \"white\", \"ticks\": \"\"}, \"bgcolor\": \"#E5ECF6\", \"caxis\": {\"gridcolor\": \"white\", \"linecolor\": \"white\", \"ticks\": \"\"}}, \"title\": {\"x\": 0.05}, \"xaxis\": {\"automargin\": true, \"gridcolor\": \"white\", \"linecolor\": \"white\", \"ticks\": \"\", \"title\": {\"standoff\": 15}, \"zerolinecolor\": \"white\", \"zerolinewidth\": 2}, \"yaxis\": {\"automargin\": true, \"gridcolor\": \"white\", \"linecolor\": \"white\", \"ticks\": \"\", \"title\": {\"standoff\": 15}, \"zerolinecolor\": \"white\", \"zerolinewidth\": 2}}}, \"title\": {\"text\": \"Daily number of deaths per country\"}, \"xaxis\": {\"title\": {\"text\": \"Days after the first reported death\"}}, \"yaxis\": {\"title\": {\"text\": \"Number of deaths\"}}},\n",
       "                        {\"responsive\": true}\n",
       "                    ).then(function(){\n",
       "                            \n",
       "var gd = document.getElementById('4acb1959-a711-4298-9860-4642a68d4ef2');\n",
       "var x = new MutationObserver(function (mutations, observer) {{\n",
       "        var display = window.getComputedStyle(gd).display;\n",
       "        if (!display || display === 'none') {{\n",
       "            console.log([gd, 'removed!']);\n",
       "            Plotly.purge(gd);\n",
       "            observer.disconnect();\n",
       "        }}\n",
       "}});\n",
       "\n",
       "// Listen for the removal of the full notebook cells\n",
       "var notebookContainer = gd.closest('#notebook-container');\n",
       "if (notebookContainer) {{\n",
       "    x.observe(notebookContainer, {childList: true});\n",
       "}}\n",
       "\n",
       "// Listen for the clearing of the current output cell\n",
       "var outputEl = gd.closest('.output');\n",
       "if (outputEl) {{\n",
       "    x.observe(outputEl, {childList: true});\n",
       "}}\n",
       "\n",
       "                        })\n",
       "                };\n",
       "                });\n",
       "            </script>\n",
       "        </div>"
      ]
     },
     "metadata": {},
     "output_type": "display_data"
    }
   ],
   "source": [
    "def function(x,*coeffs):\n",
    "    return  np.polyval(coeffs, x)\n",
    "\n",
    "colorscale=['rgb(31, 119, 180)' ,'rgb(255, 127, 14)','rgb(44, 160, 44)','rgb(214, 39, 40)','rgb(148, 103, 189)','rgb(140, 86, 75)']\n",
    "\n",
    "fig = go.Figure()\n",
    "c=0\n",
    "for row in data_format.iterrows():\n",
    "    to_keep=row[1][1:].values>1\n",
    "    if (any(row[1][1:].values>100)):\n",
    "        death=pd.Series(np.diff(np.append([0],row[1][1:].values[to_keep]))).rolling(7,center=True).mean().round()\n",
    "        time=np.array(list(death.index))\n",
    "        fig.add_trace(go.Scatter(x=time, y=death,line=dict(color=colorscale[c]),name=row[1][0]))\n",
    "        if len(death.dropna())>5:\n",
    "            popt, pcov = curve_fit(function,  time[death.notnull()],  death.dropna(),p0=(1,1,1,1,1))\n",
    "            fig.add_trace(go.Scatter(x=np.linspace(5,time[-1]+5,time[-1]+1), y=pd.Series(function(np.linspace(5,time[-1]+5,time[-1]+1), *popt)).round(),line=dict(color=colorscale[c],dash='dash'),name=\"Fit - \"+row[1][0]))\n",
    "    #else :\n",
    "        #print(row[1][0])\n",
    "    c+=1\n",
    "    if c>(len(colorscale)-1):\n",
    "        c=0\n",
    "fig.update_layout(title='Daily number of deaths per country',\n",
    "                   xaxis_title='Days after the first reported death',\n",
    "                   yaxis_title='Number of deaths')\n",
    "fig.show();"
   ]
  },
  {
   "cell_type": "markdown",
   "metadata": {},
   "source": [
    "Here is a a way to identify which countries have manage to mitigate the propatation. Where the fitted polynomial curve is droping, we can identiy mitigation. *DISCLAIMER: the projection displayed here are not accurate, they just illustrate the direction of the propagation (up/down) and the pace (angle)* "
   ]
  },
  {
   "cell_type": "code",
   "execution_count": 182,
   "metadata": {},
   "outputs": [
    {
     "data": {
      "text/plain": [
       "5"
      ]
     },
     "execution_count": 182,
     "metadata": {},
     "output_type": "execute_result"
    }
   ],
   "source": [
    "\n",
    "\n"
   ]
  },
  {
   "cell_type": "code",
   "execution_count": null,
   "metadata": {},
   "outputs": [],
   "source": []
  }
 ],
 "metadata": {
  "kernelspec": {
   "display_name": "Python 3",
   "language": "python",
   "name": "python3"
  },
  "language_info": {
   "codemirror_mode": {
    "name": "ipython",
    "version": 3
   },
   "file_extension": ".py",
   "mimetype": "text/x-python",
   "name": "python",
   "nbconvert_exporter": "python",
   "pygments_lexer": "ipython3",
   "version": "3.7.4"
  }
 },
 "nbformat": 4,
 "nbformat_minor": 4
}
